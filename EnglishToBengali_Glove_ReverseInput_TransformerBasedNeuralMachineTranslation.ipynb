{
  "cells": [
    {
      "cell_type": "markdown",
      "metadata": {
        "id": "BXCK12SqsiPf"
      },
      "source": [
        "# **English - Bengali:**"
      ]
    },
    {
      "cell_type": "markdown",
      "metadata": {
        "id": "OR06Lt4wqnU5"
      },
      "source": [
        "### **Library Installs:**"
      ]
    },
    {
      "cell_type": "code",
      "execution_count": null,
      "metadata": {
        "colab": {
          "base_uri": "https://localhost:8080/"
        },
        "id": "_dLzz6fabw9E",
        "outputId": "b19acff3-e8a1-4848-e961-807904add9bc"
      },
      "outputs": [
        {
          "output_type": "stream",
          "name": "stdout",
          "text": [
            "Collecting indic-nlp-library\n",
            "  Downloading indic_nlp_library-0.92-py3-none-any.whl.metadata (5.7 kB)\n",
            "Collecting sphinx-argparse (from indic-nlp-library)\n",
            "  Downloading sphinx_argparse-0.5.2-py3-none-any.whl.metadata (3.7 kB)\n",
            "Collecting sphinx-rtd-theme (from indic-nlp-library)\n",
            "  Downloading sphinx_rtd_theme-3.0.2-py2.py3-none-any.whl.metadata (4.4 kB)\n",
            "Collecting morfessor (from indic-nlp-library)\n",
            "  Downloading Morfessor-2.0.6-py3-none-any.whl.metadata (628 bytes)\n",
            "Requirement already satisfied: pandas in /usr/local/lib/python3.10/dist-packages (from indic-nlp-library) (2.2.2)\n",
            "Requirement already satisfied: numpy in /usr/local/lib/python3.10/dist-packages (from indic-nlp-library) (1.26.4)\n",
            "Requirement already satisfied: python-dateutil>=2.8.2 in /usr/local/lib/python3.10/dist-packages (from pandas->indic-nlp-library) (2.8.2)\n",
            "Requirement already satisfied: pytz>=2020.1 in /usr/local/lib/python3.10/dist-packages (from pandas->indic-nlp-library) (2024.2)\n",
            "Requirement already satisfied: tzdata>=2022.7 in /usr/local/lib/python3.10/dist-packages (from pandas->indic-nlp-library) (2024.2)\n",
            "Requirement already satisfied: sphinx>=5.1.0 in /usr/local/lib/python3.10/dist-packages (from sphinx-argparse->indic-nlp-library) (8.1.3)\n",
            "Requirement already satisfied: docutils>=0.19 in /usr/local/lib/python3.10/dist-packages (from sphinx-argparse->indic-nlp-library) (0.21.2)\n",
            "Collecting sphinxcontrib-jquery<5,>=4 (from sphinx-rtd-theme->indic-nlp-library)\n",
            "  Downloading sphinxcontrib_jquery-4.1-py2.py3-none-any.whl.metadata (2.6 kB)\n",
            "Requirement already satisfied: six>=1.5 in /usr/local/lib/python3.10/dist-packages (from python-dateutil>=2.8.2->pandas->indic-nlp-library) (1.16.0)\n",
            "Requirement already satisfied: sphinxcontrib-applehelp>=1.0.7 in /usr/local/lib/python3.10/dist-packages (from sphinx>=5.1.0->sphinx-argparse->indic-nlp-library) (2.0.0)\n",
            "Requirement already satisfied: sphinxcontrib-devhelp>=1.0.6 in /usr/local/lib/python3.10/dist-packages (from sphinx>=5.1.0->sphinx-argparse->indic-nlp-library) (2.0.0)\n",
            "Requirement already satisfied: sphinxcontrib-htmlhelp>=2.0.6 in /usr/local/lib/python3.10/dist-packages (from sphinx>=5.1.0->sphinx-argparse->indic-nlp-library) (2.1.0)\n",
            "Requirement already satisfied: sphinxcontrib-jsmath>=1.0.1 in /usr/local/lib/python3.10/dist-packages (from sphinx>=5.1.0->sphinx-argparse->indic-nlp-library) (1.0.1)\n",
            "Requirement already satisfied: sphinxcontrib-qthelp>=1.0.6 in /usr/local/lib/python3.10/dist-packages (from sphinx>=5.1.0->sphinx-argparse->indic-nlp-library) (2.0.0)\n",
            "Requirement already satisfied: sphinxcontrib-serializinghtml>=1.1.9 in /usr/local/lib/python3.10/dist-packages (from sphinx>=5.1.0->sphinx-argparse->indic-nlp-library) (2.0.0)\n",
            "Requirement already satisfied: Jinja2>=3.1 in /usr/local/lib/python3.10/dist-packages (from sphinx>=5.1.0->sphinx-argparse->indic-nlp-library) (3.1.4)\n",
            "Requirement already satisfied: Pygments>=2.17 in /usr/local/lib/python3.10/dist-packages (from sphinx>=5.1.0->sphinx-argparse->indic-nlp-library) (2.18.0)\n",
            "Requirement already satisfied: snowballstemmer>=2.2 in /usr/local/lib/python3.10/dist-packages (from sphinx>=5.1.0->sphinx-argparse->indic-nlp-library) (2.2.0)\n",
            "Requirement already satisfied: babel>=2.13 in /usr/local/lib/python3.10/dist-packages (from sphinx>=5.1.0->sphinx-argparse->indic-nlp-library) (2.16.0)\n",
            "Requirement already satisfied: alabaster>=0.7.14 in /usr/local/lib/python3.10/dist-packages (from sphinx>=5.1.0->sphinx-argparse->indic-nlp-library) (1.0.0)\n",
            "Requirement already satisfied: imagesize>=1.3 in /usr/local/lib/python3.10/dist-packages (from sphinx>=5.1.0->sphinx-argparse->indic-nlp-library) (1.4.1)\n",
            "Requirement already satisfied: requests>=2.30.0 in /usr/local/lib/python3.10/dist-packages (from sphinx>=5.1.0->sphinx-argparse->indic-nlp-library) (2.32.3)\n",
            "Requirement already satisfied: packaging>=23.0 in /usr/local/lib/python3.10/dist-packages (from sphinx>=5.1.0->sphinx-argparse->indic-nlp-library) (24.2)\n",
            "Requirement already satisfied: tomli>=2 in /usr/local/lib/python3.10/dist-packages (from sphinx>=5.1.0->sphinx-argparse->indic-nlp-library) (2.1.0)\n",
            "Requirement already satisfied: MarkupSafe>=2.0 in /usr/local/lib/python3.10/dist-packages (from Jinja2>=3.1->sphinx>=5.1.0->sphinx-argparse->indic-nlp-library) (3.0.2)\n",
            "Requirement already satisfied: charset-normalizer<4,>=2 in /usr/local/lib/python3.10/dist-packages (from requests>=2.30.0->sphinx>=5.1.0->sphinx-argparse->indic-nlp-library) (3.4.0)\n",
            "Requirement already satisfied: idna<4,>=2.5 in /usr/local/lib/python3.10/dist-packages (from requests>=2.30.0->sphinx>=5.1.0->sphinx-argparse->indic-nlp-library) (3.10)\n",
            "Requirement already satisfied: urllib3<3,>=1.21.1 in /usr/local/lib/python3.10/dist-packages (from requests>=2.30.0->sphinx>=5.1.0->sphinx-argparse->indic-nlp-library) (2.2.3)\n",
            "Requirement already satisfied: certifi>=2017.4.17 in /usr/local/lib/python3.10/dist-packages (from requests>=2.30.0->sphinx>=5.1.0->sphinx-argparse->indic-nlp-library) (2024.8.30)\n",
            "Downloading indic_nlp_library-0.92-py3-none-any.whl (40 kB)\n",
            "\u001b[2K   \u001b[90m━━━━━━━━━━━━━━━━━━━━━━━━━━━━━━━━━━━━━━━━\u001b[0m \u001b[32m40.3/40.3 kB\u001b[0m \u001b[31m1.7 MB/s\u001b[0m eta \u001b[36m0:00:00\u001b[0m\n",
            "\u001b[?25hDownloading Morfessor-2.0.6-py3-none-any.whl (35 kB)\n",
            "Downloading sphinx_argparse-0.5.2-py3-none-any.whl (12 kB)\n",
            "Downloading sphinx_rtd_theme-3.0.2-py2.py3-none-any.whl (7.7 MB)\n",
            "\u001b[2K   \u001b[90m━━━━━━━━━━━━━━━━━━━━━━━━━━━━━━━━━━━━━━━━\u001b[0m \u001b[32m7.7/7.7 MB\u001b[0m \u001b[31m60.2 MB/s\u001b[0m eta \u001b[36m0:00:00\u001b[0m\n",
            "\u001b[?25hDownloading sphinxcontrib_jquery-4.1-py2.py3-none-any.whl (121 kB)\n",
            "\u001b[2K   \u001b[90m━━━━━━━━━━━━━━━━━━━━━━━━━━━━━━━━━━━━━━━━\u001b[0m \u001b[32m121.1/121.1 kB\u001b[0m \u001b[31m9.7 MB/s\u001b[0m eta \u001b[36m0:00:00\u001b[0m\n",
            "\u001b[?25hInstalling collected packages: morfessor, sphinxcontrib-jquery, sphinx-argparse, sphinx-rtd-theme, indic-nlp-library\n",
            "Successfully installed indic-nlp-library-0.92 morfessor-2.0.6 sphinx-argparse-0.5.2 sphinx-rtd-theme-3.0.2 sphinxcontrib-jquery-4.1\n"
          ]
        }
      ],
      "source": [
        "pip install indic-nlp-library\n"
      ]
    },
    {
      "cell_type": "markdown",
      "metadata": {
        "id": "FZpKYhK1qt46"
      },
      "source": [
        "### **Imports:**"
      ]
    },
    {
      "cell_type": "code",
      "execution_count": null,
      "metadata": {
        "colab": {
          "base_uri": "https://localhost:8080/"
        },
        "id": "AsCY5q9MqxmP",
        "outputId": "c59d123e-a635-4d75-f566-04e9e433da76"
      },
      "outputs": [
        {
          "output_type": "stream",
          "name": "stderr",
          "text": [
            "[nltk_data] Downloading package punkt to /root/nltk_data...\n",
            "[nltk_data]   Unzipping tokenizers/punkt.zip.\n",
            "[nltk_data] Downloading package punkt_tab to /root/nltk_data...\n",
            "[nltk_data]   Unzipping tokenizers/punkt_tab.zip.\n"
          ]
        },
        {
          "output_type": "execute_result",
          "data": {
            "text/plain": [
              "True"
            ]
          },
          "metadata": {},
          "execution_count": 2
        }
      ],
      "source": [
        "import torch\n",
        "import torch.nn as nn\n",
        "import torch.nn.functional as F\n",
        "from torch.utils.data import DataLoader, TensorDataset\n",
        "import json\n",
        "import numpy as np\n",
        "import re\n",
        "import spacy\n",
        "import string\n",
        "import nltk\n",
        "import pandas as pd\n",
        "import matplotlib.pyplot as plt\n",
        "from collections import Counter\n",
        "from indicnlp.normalize.indic_normalize import IndicNormalizerFactory\n",
        "from indicnlp.tokenize import indic_tokenize\n",
        "from sklearn.model_selection import train_test_split\n",
        "import torch.optim as optim\n",
        "from torch.utils.data import DataLoader, Dataset\n",
        "import math\n",
        "from tqdm import tqdm\n",
        "import csv\n",
        "from torch.optim.lr_scheduler import ReduceLROnPlateau\n",
        "nltk.download('punkt')\n",
        "nltk.download('punkt_tab')"
      ]
    },
    {
      "cell_type": "markdown",
      "metadata": {
        "id": "5MgmMOlRrB3g"
      },
      "source": [
        "### **Data Loading from JSON files:**"
      ]
    },
    {
      "cell_type": "code",
      "execution_count": null,
      "metadata": {
        "colab": {
          "base_uri": "https://localhost:8080/"
        },
        "id": "dyy9nOjgOjL5",
        "outputId": "85d6ace2-f4a2-49a9-d8df-9397a6dc6efa"
      },
      "outputs": [
        {
          "output_type": "stream",
          "name": "stdout",
          "text": [
            "Language Pair: English-Bengali\n",
            "  Data Type: Train\n",
            "Language Pair: English-Bengali\n",
            "  Data Type: Test\n"
          ]
        }
      ],
      "source": [
        "TRAIN_PATH = 'train_data1.json'\n",
        "TEST_PATH = 'test_data1_final.json'\n",
        "\n",
        "with open(TRAIN_PATH, 'r', encoding='utf-8') as file:\n",
        "    data = json.load(file)\n",
        "\n",
        "source_sentences_train = []\n",
        "target_sentences_train = []\n",
        "\n",
        "source_sentences_val = []\n",
        "target_sentences_val = []\n",
        "\n",
        "id_train = []\n",
        "id_val = []\n",
        "\n",
        "for language_pair, language_data in data.items():\n",
        "    if(language_pair == \"English-Bengali\"):\n",
        "      print(f\"Language Pair: {language_pair}\")\n",
        "      for data_type, data_entries in language_data.items():\n",
        "          print(f\"  Data Type: {data_type}\")\n",
        "          for entry_id, entry_data in data_entries.items():\n",
        "              source = entry_data[\"source\"]\n",
        "              target = entry_data[\"target\"]\n",
        "              if (data_type == \"Validation\"):\n",
        "                source_sentences_val.append(source)\n",
        "                target_sentences_val.append(target)\n",
        "                id_val.append(entry_id)\n",
        "              else:\n",
        "                source_sentences_train.append(source)\n",
        "                target_sentences_train.append(target)\n",
        "                id_train.append(entry_id)\n",
        "\n",
        "with open(TEST_PATH, 'r', encoding='utf-8') as file:\n",
        "    data = json.load(file)\n",
        "\n",
        "for language_pair, language_data in data.items():\n",
        "    if(language_pair == \"English-Bengali\"):\n",
        "      print(f\"Language Pair: {language_pair}\")\n",
        "      for data_type, data_entries in language_data.items():\n",
        "          print(f\"  Data Type: {data_type}\")\n",
        "          for entry_id, entry_data in data_entries.items():\n",
        "              source = entry_data[\"source\"]\n",
        "              if (data_type == \"Test\"):\n",
        "                source_sentences_val.append(source)\n",
        "                id_val.append(entry_id)"
      ]
    },
    {
      "cell_type": "markdown",
      "metadata": {
        "id": "R9JtQ0VKrKZo"
      },
      "source": [
        "### **Data PreProcessing:**\n"
      ]
    },
    {
      "cell_type": "markdown",
      "source": [
        "\n",
        "**Reference:** https://doi.org/10.48550/arXiv.1409.3215\n",
        "\n",
        "In this paper authors verified that reversing the source sentences while doing machine translation improved the results. I have taken this insight and used in my code.\n",
        "\n",
        "> `\"Finally, we found that reversing the order of the words in all source sentences (but not target sentences) improved the LSTM's performance markedly, because doing so introduced many short term dependencies between the source and the target sentence which made the optimization problem easier.\"`\n",
        "\n",
        "\n",
        "**English Preprocessing:**\n",
        "1. Sentences are converted to lowercase.\n",
        "2. Each sentence is tokenized using spaCy, retaining only alphabetical tokens (removing punctuation and numbers).\n",
        "3. The order of tokens is reversed in each sentence.\n",
        "\n",
        "**Hindi Preprocessing:**\n",
        "1. Sentences are normalized using the IndicNormalizer to handle inconsistencies like Unicode normalization.\n",
        "2. Numbers and punctuation are removed.\n",
        "3. Sentences are tokenized using a trivial tokenizer from Indic NLP library which is suitable for Indic languages.\n"
      ],
      "metadata": {
        "id": "yaQwYiaqg0ne"
      }
    },
    {
      "cell_type": "code",
      "execution_count": null,
      "metadata": {
        "id": "vfl9KGCsrJpU",
        "colab": {
          "base_uri": "https://localhost:8080/"
        },
        "outputId": "58481848-ae74-4d66-ab34-bde57a86c4d9"
      },
      "outputs": [
        {
          "output_type": "stream",
          "name": "stdout",
          "text": [
            "['insouciance', 'into', 'serenity', 'and', 'calmness', 'its', 'interchanges', 'rocks', 'marble', 'the', 'through', 'flowing', 'narmada', 'the', 'where', 'point', 'the', 'visit', 'to', 'forget', 'not', 'do']\n",
            "['এই', 'জায়গাগুলো', 'দেখতে', 'ভুলো', 'না', 'যেখানে', 'নর্মদা', 'নদী', 'মার্বেল', 'পাথরের', 'পাহাড়ের', 'মধ্য', 'দিয়ে', 'প্রবাহিত', 'হচ্ছে', 'এবং', 'নিজের', 'শান্তি', 'ও', 'সৌন্দর্যকে', 'অনাসক্তিতে', 'পরিণত', 'করছে', '।']\n",
            "\n",
            "\n",
            "['illiteracy', 'is', 'poverty', 'of', 'cause', 'biggest', 'the', 'that', 'evident', 'is', 'it']\n",
            "['এই', 'কথা', 'স্পষ্ট', 'যে', 'দরিদ্রতার', 'বড়', 'কারণ', 'হল', 'অশিক্ষা', '।']\n",
            "\n",
            "\n",
            "['april', 'on', 'theatrically', 'released', 'was', 'film', 'the']\n",
            "['চলচ্চিত্রটি', 'সালের', 'ই', 'এপ্রিল', 'প্রেক্ষাগৃহে', 'মুক্তি', 'পায়', '।']\n",
            "\n",
            "\n",
            "['m', 'p', 'ten', 'at', 'party', 'birthday', 'wyatts', 'is']\n",
            "['অনিমেষ', 'এর', 'জন্মদিনের', 'পার্টি', 'রাত', 'দশটায়']\n",
            "\n",
            "\n",
            "['agriculture', 'and', 'industries', 'like', 'fields', 'other', 'many', 'in', 'used', 'also', 'is', 'barley', 'eatable', 'an', 'as', 'used', 'being', 'from', 'apart']\n",
            "['খাদ্যদ্রব্য', 'ছাড়াও', 'যব', 'আরো', 'বিভিন্ন', 'ক্ষেত্রে', 'যেমন', 'শিল্প', 'ও', 'কৃষিতে', 'ব্যবহার', 'করা', 'হয়', '।']\n",
            "\n",
            "\n",
            "['ajmer', 'to', 'trip', 'his', 'during', 'constructed', 'museum', 'state', 'the', 'got', 'akbar', 'emperor']\n",
            "['রাজকীয়', 'সংগ্রহালয়ের', 'নির্মাণ', 'সম্রাট', 'আকবর', 'নিজের', 'আজমের', 'যাত্রার', 'সময়', 'করান', '׀']\n",
            "\n",
            "\n",
            "['playlist', 'electronic', 'the', 'on', 'music', 'the', 'initiate']\n",
            "['ইলেক্ট্রনিক', 'প্লেলিস্টের', 'গানগুলো', 'শুরু', 'কর']\n",
            "\n",
            "\n",
            "['jammu', 'from', 'kms', 'of', 'distance', 'a', 'at', 'is', 'srinagar']\n",
            "['জম্মু', 'থেকে', 'শ্রীনগরের', 'দূরত্ব', 'হল', 'কিমি', '।']\n",
            "\n",
            "\n",
            "['head', 'his', 'on', 'placed', 'is', 'pot', 'clay', 'a', 'or', 'karaga', 'a', 'and', 'chosen', 'is', 'devotee', 'a']\n",
            "['একটি', 'ভক্ত', 'বাছা', 'হয়েছিল', 'এবং', 'একটি', 'কারাগা', 'অথবা', 'একটি', 'কাদা', 'পাত্র', 'তার', 'মাথায়', 'রাখা', 'হয়েছিল', '।']\n",
            "\n",
            "\n",
            "['with', 'shelves', 'kitchen', 'your', 'up', 'stock', 'to', 'need', 'you', 'everything', 'have', 'that', 'shops', 'with', 'up', 'lined', 'is', 'city', 'the']\n",
            "['শহরটিতে', 'আপনার', 'রান্নাঘর', 'ভর্তি', 'করার', 'জন্য', 'দোকান', 'সাজানো', 'আছে', '।']\n",
            "\n",
            "\n"
          ]
        }
      ],
      "source": [
        "nlp = spacy.load(\"en_core_web_sm\")\n",
        "\n",
        "def preprocess_english(sentences):\n",
        "    def preprocess_and_remove_punctuation(sentence):\n",
        "        doc = nlp(sentence.lower())\n",
        "        tokens = [token.text for token in doc if token.is_alpha]\n",
        "        return tokens[::-1]\n",
        "    tokenized_sentences = [preprocess_and_remove_punctuation(sentence) for sentence in sentences]\n",
        "    return tokenized_sentences\n",
        "\n",
        "def preprocess_bengali(sentences):\n",
        "    normalizer = IndicNormalizerFactory().get_normalizer(\"bn\")\n",
        "    processed_sentences = []\n",
        "    for sentence in sentences:\n",
        "        normalized_sentence = normalizer.normalize(sentence)\n",
        "        cleaned_sentence = ''.join([char for char in normalized_sentence if not char.isdigit() and char not in string.punctuation])\n",
        "        tokens = list(indic_tokenize.trivial_tokenize(cleaned_sentence))\n",
        "        processed_sentences.append(tokens)\n",
        "    return processed_sentences\n",
        "\n",
        "\n",
        "target_sentences_train = [re.sub(r'[a-zA-Z]', '', hi) for hi in target_sentences_train]\n",
        "\n",
        "en_train = preprocess_english(source_sentences_train)\n",
        "en_test = preprocess_english(source_sentences_val)\n",
        "de_train = preprocess_bengali(target_sentences_train)\n",
        "de_test = preprocess_bengali(target_sentences_val)\n",
        "\n",
        "for i in range(10):\n",
        "    print(en_train[i])\n",
        "    print(de_train[i])\n",
        "    print('\\n')"
      ]
    },
    {
      "cell_type": "markdown",
      "metadata": {
        "id": "_I5FA6y9Zxdb"
      },
      "source": [
        "**Building Vocabulary:**"
      ]
    },
    {
      "cell_type": "markdown",
      "source": [
        "Created vocabularies for English and Hindi by collecting all unique tokens from the datasets and adds PAD, SOS, EOS. Then i generated mappings for word-to-index and index-to-word conversions which will be helpful during model training."
      ],
      "metadata": {
        "id": "bKYbHlIGge9a"
      }
    },
    {
      "cell_type": "code",
      "execution_count": null,
      "metadata": {
        "id": "dlDdFOCFZxdc"
      },
      "outputs": [],
      "source": [
        "en_index2word = [\"<PAD>\", \"<SOS>\", \"<EOS>\"]\n",
        "de_index2word = [\"<PAD>\", \"<SOS>\", \"<EOS>\"]\n",
        "en_vocab = set(en_index2word)\n",
        "de_vocab = set(de_index2word)\n",
        "for ds in [en_train, en_test]:\n",
        "    for sent in ds:\n",
        "        en_vocab.update(sent)\n",
        "for ds in [de_train, de_test]:\n",
        "    for sent in ds:\n",
        "        de_vocab.update(sent)\n",
        "\n",
        "en_index2word = list(en_vocab)\n",
        "de_index2word = list(de_vocab)\n",
        "\n",
        "device = torch.device('cuda' if torch.cuda.is_available() else 'cpu')\n",
        "en_word2index = {token: idx for idx, token in enumerate(en_index2word)}\n",
        "de_word2index = {token: idx for idx, token in enumerate(de_index2word)}"
      ]
    },
    {
      "cell_type": "markdown",
      "metadata": {
        "id": "SLTOAAZsZxdc"
      },
      "source": [
        "### **Data Analysis and Data Loading:**"
      ]
    },
    {
      "cell_type": "markdown",
      "source": [
        "**Sentence length distribution:** During model training we have to choose maximum sentence length, This plot helps us in understanding distribution of sentence lengths in the datasets. I have marked the 90th percentile as a reference. Based on the visualizations we can choose max sequence length as 30."
      ],
      "metadata": {
        "id": "HlqCd0WBgmPn"
      }
    },
    {
      "cell_type": "code",
      "execution_count": null,
      "metadata": {
        "colab": {
          "base_uri": "https://localhost:8080/",
          "height": 1000
        },
        "id": "4VMR2VdwZxdc",
        "outputId": "c31f30f9-ec1d-4b73-a991-2f4753466ea7"
      },
      "outputs": [
        {
          "output_type": "display_data",
          "data": {
            "text/plain": [
              "<Figure size 640x480 with 1 Axes>"
            ],
            "image/png": "[encoded data removed]"
          },
          "metadata": {}
        },
        {
          "output_type": "display_data",
          "data": {
            "text/plain": [
              "<Figure size 640x480 with 1 Axes>"
            ],
            "image/png": "[encoded data removed]"
          },
          "metadata": {}
        },
        {
          "output_type": "display_data",
          "data": {
            "text/plain": [
              "<Figure size 640x480 with 1 Axes>"
            ],
            "image/png": "[encoded data removed]"
          },
          "metadata": {}
        }
      ],
      "source": [
        "def get_sentence_lengths(dataset):\n",
        "    return [len(sentence) for sentence in dataset]\n",
        "\n",
        "def plot_sentence_length_distribution_with_percentile(lengths, title):\n",
        "    percentile_90 = np.percentile(lengths, 90)  # Calculate the 90th percentile\n",
        "    plt.hist(lengths, bins=30, edgecolor='black', alpha=0.7, label=\"Sentence Lengths\")\n",
        "    plt.axvline(percentile_90, color='red', linestyle='dashed', linewidth=2, label=f\"90th Percentile: {percentile_90:.0f}\")\n",
        "    plt.title(f\"Sentence Length Distribution: {title}\")\n",
        "    plt.xlabel(\"Sentence Length\")\n",
        "    plt.ylabel(\"Frequency\")\n",
        "    plt.legend()\n",
        "    plt.show()\n",
        "\n",
        "en_train_lengths = get_sentence_lengths(en_train)\n",
        "en_test_lengths = get_sentence_lengths(en_test)\n",
        "de_train_lengths = get_sentence_lengths(de_train)\n",
        "de_test_lengths = get_sentence_lengths(de_test)\n",
        "\n",
        "plot_sentence_length_distribution_with_percentile(en_train_lengths, \"English Training Sentences\")\n",
        "plot_sentence_length_distribution_with_percentile(en_test_lengths, \"English Test Sentences\")\n",
        "plot_sentence_length_distribution_with_percentile(de_train_lengths, \"Bengali Training Sentences\")\n"
      ]
    },
    {
      "cell_type": "code",
      "execution_count": null,
      "metadata": {
        "colab": {
          "base_uri": "https://localhost:8080/"
        },
        "id": "rU6PB0mNZxde",
        "outputId": "1b0335e1-cb4d-430b-892c-db1e1ada16ac"
      },
      "outputs": [
        {
          "output_type": "stream",
          "name": "stdout",
          "text": [
            "Total unique tokens: 60963\n",
            "\n",
            "Total unique tokens: 95334\n",
            "\n"
          ]
        }
      ],
      "source": [
        "def analyze_vocab(vocab, vocab_name):\n",
        "    print(f\"Total unique tokens: {len(vocab)}\")\n",
        "    print()\n",
        "\n",
        "analyze_vocab(en_vocab, \"English Vocabulary\")\n",
        "analyze_vocab(de_vocab, \"Bengali Vocabulary\")"
      ]
    },
    {
      "cell_type": "code",
      "execution_count": null,
      "metadata": {
        "colab": {
          "base_uri": "https://localhost:8080/"
        },
        "id": "gRh2ZIhHZxdf",
        "outputId": "c39712d9-fe4c-402a-d222-9b0fb48f5580"
      },
      "outputs": [
        {
          "output_type": "stream",
          "name": "stdout",
          "text": [
            "English Training Sentence Length Statistics\n",
            "Min Length: 0\n",
            "Max Length: 102\n",
            "Mean Length: 15.98\n",
            "Median Length: 15.0\n",
            "\n",
            "English Test Sentence Length Statistics\n",
            "Min Length: 0\n",
            "Max Length: 99\n",
            "Mean Length: 16.10\n",
            "Median Length: 15.0\n",
            "\n",
            "Bengali Training Sentence Length Statistics\n",
            "Min Length: 1\n",
            "Max Length: 75\n",
            "Mean Length: 14.19\n",
            "Median Length: 13.0\n",
            "\n"
          ]
        }
      ],
      "source": [
        "def print_sentence_stats(lengths, dataset_name):\n",
        "    print(f\"{dataset_name} Sentence Length Statistics\")\n",
        "    print(f\"Min Length: {min(lengths)}\")\n",
        "    print(f\"Max Length: {max(lengths)}\")\n",
        "    print(f\"Mean Length: {np.mean(lengths):.2f}\")\n",
        "    print(f\"Median Length: {np.median(lengths)}\")\n",
        "    print()\n",
        "\n",
        "print_sentence_stats(en_train_lengths, \"English Training\")\n",
        "print_sentence_stats(en_test_lengths, \"English Test\")\n",
        "print_sentence_stats(de_train_lengths, \"Bengali Training\")"
      ]
    },
    {
      "cell_type": "code",
      "execution_count": null,
      "metadata": {
        "colab": {
          "base_uri": "https://localhost:8080/"
        },
        "id": "2Kg6zXcLZxdg",
        "outputId": "8804564a-e7af-4651-a0aa-c227725119b5"
      },
      "outputs": [
        {
          "output_type": "stream",
          "name": "stdout",
          "text": [
            "90th percentile sentence length: 25\n"
          ]
        }
      ],
      "source": [
        "max_seq_len = int(np.percentile([len(sent) for sent in en_train + de_train], 90))\n",
        "print(f\"90th percentile sentence length: {max_seq_len}\")"
      ]
    },
    {
      "cell_type": "markdown",
      "source": [
        "1. The pad_sequence function creates fixed-length sequences by adding SOS and EOS tokens, padding with PAD tokens, and truncating to max_len.\n",
        "\n",
        "2. NMTDataset class processes source-target pairs into padded tensors for use in training.\n",
        "\n",
        "3. DataLoaders batch the datasets for efficient training and validation."
      ],
      "metadata": {
        "id": "TrHBoiHggu46"
      }
    },
    {
      "cell_type": "code",
      "execution_count": null,
      "metadata": {
        "id": "r6sImYchZxdh"
      },
      "outputs": [],
      "source": [
        "def pad_sequence(seq, vocab, max_len):\n",
        "    padded_seq = [vocab[\"<SOS>\"]] + [vocab.get(word, vocab[\"<PAD>\"]) for word in seq[:max_len - 2]] + [vocab[\"<EOS>\"]]\n",
        "    padded_seq += [vocab[\"<PAD>\"]] * (max_len - len(padded_seq))\n",
        "    return padded_seq[:max_len]\n",
        "\n",
        "class NMTDataset(Dataset):\n",
        "    def __init__(self, source, target, source_vocab, target_vocab, max_len):\n",
        "        self.source = [pad_sequence(sent, source_vocab, max_len) for sent in source]\n",
        "        self.target = [pad_sequence(sent, target_vocab, max_len) for sent in target]\n",
        "\n",
        "    def __len__(self):\n",
        "        return len(self.source)\n",
        "\n",
        "    def __getitem__(self, idx):\n",
        "        return torch.tensor(self.source[idx]), torch.tensor(self.target[idx])\n",
        "\n",
        "BATCH_SIZE = 64\n",
        "MAX_SEQ_LEN = 30\n",
        "train_src, val_src, train_tgt, val_tgt = train_test_split(en_train, de_train, test_size=0.1, random_state=42)\n",
        "train_dataset = NMTDataset(train_src, train_tgt, en_word2index, de_word2index, MAX_SEQ_LEN)\n",
        "val_dataset = NMTDataset(val_src, val_tgt, en_word2index, de_word2index, MAX_SEQ_LEN)\n",
        "train_loader = DataLoader(train_dataset, batch_size=BATCH_SIZE, shuffle=True)\n",
        "val_loader = DataLoader(val_dataset, batch_size=BATCH_SIZE)"
      ]
    },
    {
      "cell_type": "markdown",
      "metadata": {
        "id": "q8CciE4Pr5qF"
      },
      "source": [
        "### **Model Architecture:**"
      ]
    },
    {
      "cell_type": "markdown",
      "source": [
        "**Reference:** https://www.kaggle.com/datasets/thanakomsn/glove6b300dtxt\n",
        "\n",
        "I have used glove embeddings of 300 dimensions present in this file.\n",
        "These embeddings will be initial weights for the embedding layer, which will be updated during training ."
      ],
      "metadata": {
        "id": "JJgiJrBRg5Ie"
      }
    },
    {
      "cell_type": "code",
      "execution_count": null,
      "metadata": {
        "id": "N-5FkdIElNiO"
      },
      "outputs": [],
      "source": [
        "def load_glove_embeddings(file_path, vocab, embedding_dim):\n",
        "    embeddings = np.random.uniform(-0.1, 0.1, (len(vocab), embedding_dim))\n",
        "    embeddings[vocab[\"<PAD>\"]] = np.zeros(embedding_dim)  # Ensure <PAD> is zeroed\n",
        "    with open(file_path, \"r\", encoding=\"utf-8\") as f:\n",
        "        for line in f:\n",
        "            values = line.split()\n",
        "            word = values[0]\n",
        "            vector = np.array(values[1:], dtype=np.float32)\n",
        "            if word in vocab:\n",
        "                embeddings[vocab[word]] = vector\n",
        "    return embeddings\n",
        "\n",
        "\n",
        "glove_path = \"glove.6B.300d.txt\"\n",
        "embedding_dim = 300\n",
        "source_embeddings = load_glove_embeddings(glove_path, en_word2index, embedding_dim)\n",
        "target_embeddings = load_glove_embeddings(glove_path, de_word2index, embedding_dim)\n"
      ]
    },
    {
      "cell_type": "markdown",
      "source": [
        "**Positional Embedding:** Next I created a class to create position-based embeddings for the data using sine and cosine to encode information about token positions. It calculates sine values for even positions and cosine values for odd positions in the embedding dimension. These embeddings are stored as a buffer and added to the input tensor during the forward pass. It ensures sequences up to a certain length get meaningful positional information for our Transformer model."
      ],
      "metadata": {
        "id": "WwjTFeSQg_XF"
      }
    },
    {
      "cell_type": "code",
      "source": [
        "class PositionalEncodingSinusoidal(nn.Module):\n",
        "    def __init__(self, embedding_dimension, maximum_sequence_length):\n",
        "        super(PositionalEncodingSinusoidal, self).__init__()\n",
        "        positions = torch.arange(0, maximum_sequence_length).unsqueeze(1).float()\n",
        "        division_term = torch.exp(torch.arange(0, embedding_dimension, 2).float() * -(math.log(10000.0) / embedding_dimension))\n",
        "        positional_embeddings = torch.zeros(maximum_sequence_length, embedding_dimension)\n",
        "        positional_embeddings[:, 0::2] = torch.sin(positions * division_term) #Use sine for even indices (0, 2, 4, ...)\n",
        "        positional_embeddings[:, 1::2] = torch.cos(positions * division_term) #Using cosine for odd indices (1, 3, 5, ...).\n",
        "        self.register_buffer('positional_embeddings', positional_embeddings)\n",
        "\n",
        "    def forward(self, input_tensor):\n",
        "        sequence_length = input_tensor.size(1)\n",
        "        return input_tensor + self.positional_embeddings[:sequence_length, :].unsqueeze(0).to(input_tensor.device)\n",
        "\n"
      ],
      "metadata": {
        "id": "WpmAww8ug8P5"
      },
      "execution_count": null,
      "outputs": []
    },
    {
      "cell_type": "markdown",
      "source": [
        "NeuralTransformer class Initializes source and target embeddings with glove embeddings and adds sinusoidal positional encodings. Then i have built transformer model using PyTorch's nn.Transformer. This code processes input sequences through embeddings, adds positional encodings, and the transformer module with attention masks.Finally it outputs predictions by applying a linear layer to the transformer's output for the target vocabulary.\n",
        "\n",
        "**Reference:** https://pytorch.org/docs/stable/generated/torch.nn.Transformer.html"
      ],
      "metadata": {
        "id": "kz528P71hBhU"
      }
    },
    {
      "cell_type": "code",
      "source": [
        "class NeuralTransformer(nn.Module):\n",
        "    def __init__(self, source_vocab_size, target_vocab_size, embedding_dimension, attention_heads, encoder_layers, decoder_layers, dropout_rate, maximum_sequence_length, source_embeddings=None, target_embeddings=None):\n",
        "        super(NeuralTransformer, self).__init__()\n",
        "\n",
        "        # Initialize source and target embeddings\n",
        "        self.source_embedding = nn.Embedding(source_vocab_size, embedding_dimension)\n",
        "        self.target_embedding = nn.Embedding(target_vocab_size, embedding_dimension)\n",
        "\n",
        "        if source_embeddings is not None:\n",
        "            self.source_embedding.weight.data.copy_(torch.tensor(source_embeddings))\n",
        "            self.source_embedding.weight.requires_grad = True\n",
        "\n",
        "        if target_embeddings is not None:\n",
        "            self.target_embedding.weight.data.copy_(torch.tensor(target_embeddings))\n",
        "            self.target_embedding.weight.requires_grad = True\n",
        "\n",
        "        self.positional_encoding = PositionalEncodingSinusoidal(embedding_dimension, maximum_sequence_length)\n",
        "\n",
        "        self.transformer_core = nn.Transformer(\n",
        "            d_model=embedding_dimension,\n",
        "            nhead=attention_heads,\n",
        "            num_encoder_layers=encoder_layers,\n",
        "            num_decoder_layers=decoder_layers,\n",
        "            dropout=dropout_rate,\n",
        "            batch_first=True\n",
        "        )\n",
        "        self.output_layer = nn.Linear(embedding_dimension, target_vocab_size)\n",
        "\n",
        "    def forward(self, source_sequence, target_sequence):\n",
        "        embedded_source = self.positional_encoding(self.source_embedding(source_sequence))\n",
        "        embedded_target = self.positional_encoding(self.target_embedding(target_sequence))\n",
        "        source_mask = self.transformer_core.generate_square_subsequent_mask(source_sequence.size(1)).to(device)\n",
        "        target_mask = self.transformer_core.generate_square_subsequent_mask(target_sequence.size(1)).to(device)\n",
        "        transformer_output = self.transformer_core(embedded_source, embedded_target, src_mask=source_mask, tgt_mask=target_mask)\n",
        "        return self.output_layer(transformer_output)\n"
      ],
      "metadata": {
        "id": "1E5_MOIehB0e"
      },
      "execution_count": null,
      "outputs": []
    },
    {
      "cell_type": "markdown",
      "metadata": {
        "id": "Hmd1FBk-sOCQ"
      },
      "source": [
        "### **Training and Evaluating the model:**"
      ]
    },
    {
      "cell_type": "markdown",
      "source": [
        "sentence_translation translates source sentences into target sentences by using a trained model. It tokenises given input sentence and does all the necessary pre-processing like padding or truncation of the sentence and then iteratively generates tokens in the target language by feeding in the source tensor and the latest predicted target tokens into the model until the end-of-sequence token (<EOS>) is reached or the maximum length is exceeded."
      ],
      "metadata": {
        "id": "-Q2mM6SThYe3"
      }
    },
    {
      "cell_type": "code",
      "source": [
        "def sentence_translation(input_sentence, trained_model, source_vocabulary, target_vocabulary, maximum_length):\n",
        "    trained_model.eval()\n",
        "    tokenized_input = pad_sequence(input_sentence, source_vocabulary, maximum_length)\n",
        "    source_tensor = torch.tensor(tokenized_input).unsqueeze(0).to(device)\n",
        "    target_tokens = [target_vocabulary[\"<SOS>\"]]\n",
        "    for _ in range(maximum_length):\n",
        "        target_tensor = torch.tensor(target_tokens).unsqueeze(0).to(device)\n",
        "        with torch.no_grad():\n",
        "            predicted_output = trained_model(source_tensor, target_tensor)\n",
        "        next_predicted_token = predicted_output.argmax(2)[:, -1].item()\n",
        "        target_tokens.append(next_predicted_token)\n",
        "        if next_predicted_token == target_vocabulary[\"<EOS>\"]:\n",
        "            break\n",
        "    return [list(target_vocabulary.keys())[tok] for tok in target_tokens[1:-1]]\n"
      ],
      "metadata": {
        "id": "qwylLfqohaFs"
      },
      "execution_count": null,
      "outputs": []
    },
    {
      "cell_type": "markdown",
      "source": [
        "This function will calculate the performance of a trained model on a validation dataset. The function processes batches of data from validation_loader. On every batch, it uses the model to make predictions, then calculates the loss using a provided loss_function and finds the total validation loss."
      ],
      "metadata": {
        "id": "n3dn48nghc3-"
      }
    },
    {
      "cell_type": "code",
      "source": [
        "def validate_model(trained_model, validation_loader, loss_function):\n",
        "    trained_model.eval()\n",
        "    cumulative_validation_loss = 0\n",
        "    with torch.no_grad():\n",
        "        for source_batch, target_batch in validation_loader:\n",
        "            source_batch, target_batch = source_batch.to(device), target_batch.to(device)\n",
        "            target_input_sequence = target_batch[:, :-1]\n",
        "            target_expected_sequence = target_batch[:, 1:]\n",
        "            with torch.cuda.amp.autocast():\n",
        "                model_predictions = trained_model(source_batch, target_input_sequence)\n",
        "                reshaped_predictions = model_predictions.reshape(-1, model_predictions.shape[-1])\n",
        "                reshaped_targets = target_expected_sequence.reshape(-1)\n",
        "                loss_per_batch = loss_function(reshaped_predictions, reshaped_targets)\n",
        "            cumulative_validation_loss += loss_per_batch.item()\n",
        "    return cumulative_validation_loss / len(validation_loader)"
      ],
      "metadata": {
        "id": "sL1nwnbEhePP"
      },
      "execution_count": null,
      "outputs": []
    },
    {
      "cell_type": "markdown",
      "source": [
        "1. This function trains a Transformer-based model using mixed precision for efficiency on a GPU. (**Reference for mixed precision**:https://pytorch.org/tutorials/recipes/recipes/amp_recipe.html )\n",
        "\n",
        "2. Loss computation against target sequences will be performed using the given loss criterion. The estimated loss is backpropagated, and the parameters will be updated using the optimizer.\n",
        "\n",
        "3. After every epoch there is a scheduler which based on the performance of the model on the validation set changes the learning rate.\n",
        "\n",
        "4. If this is the best observed validation loss the model checkpoint will be saved, storing information above model state along with optimizer, scheduler, and scaler details.\n",
        "\n",
        "5. Training will be stopped if the validation loss does not improve throughout three consecutive epochs to prevent overfitting ."
      ],
      "metadata": {
        "id": "g07dvBzahhu4"
      }
    },
    {
      "cell_type": "code",
      "source": [
        "\n",
        "def train_transformer_model(model,training_data_loader,validation_data_loader,optimizer,scheduler,loss_criterion,num_epochs, device,source_vocab, target_vocab, max_sequence_length,save_path=\"best_model.pth\"):\n",
        "    scaler = torch.cuda.amp.GradScaler()\n",
        "    best_validation_loss = float('inf')  # Keeps track of the best validation loss\n",
        "    no_improvement_epochs = 0  # Counter for consecutive epochs without improvement\n",
        "\n",
        "    for epoch in range(num_epochs):\n",
        "        model.train()\n",
        "        total_training_loss = 0\n",
        "        progress_bar = tqdm(enumerate(training_data_loader),total=len(training_data_loader),desc=f\"Epoch {epoch + 1}/{num_epochs}\",unit=\"batch\" )\n",
        "        for batch_index, (source_batch, target_batch) in progress_bar:\n",
        "            source_batch, target_batch = source_batch.to(device), target_batch.to(device)\n",
        "            target_inputs = target_batch[:, :-1]\n",
        "            target_outputs = target_batch[:, 1:]\n",
        "            optimizer.zero_grad()\n",
        "            with torch.cuda.amp.autocast():\n",
        "                model_predictions = model(source_batch, target_inputs)\n",
        "                reshaped_predictions = model_predictions.reshape(-1, model_predictions.shape[-1])\n",
        "                reshaped_targets = target_outputs.reshape(-1)\n",
        "                batch_loss = loss_criterion(reshaped_predictions, reshaped_targets)\n",
        "            scaler.scale(batch_loss).backward()\n",
        "            scaler.step(optimizer)\n",
        "            scaler.update()\n",
        "            total_training_loss += batch_loss.item()\n",
        "            progress_bar.set_postfix(loss=batch_loss.item())\n",
        "            if batch_index % 100 == 0:\n",
        "                test_sentence = [\"hello\", \"brother\", \"how\", \"are\", \"you\"]\n",
        "                translated_sentence = sentence_translation(\n",
        "                    test_sentence, model, source_vocab, target_vocab, max_sequence_length\n",
        "                )\n",
        "                print(f\"Batch {batch_index} Translation: {' '.join(test_sentence)} -> {' '.join(translated_sentence)}\")\n",
        "        average_training_loss = total_training_loss / len(training_data_loader)\n",
        "        print(f\"Epoch {epoch + 1} Training Loss: {average_training_loss:.4f}\")\n",
        "        validation_loss = validate_model(model, validation_data_loader, loss_criterion)\n",
        "        print(f\"Epoch {epoch + 1} Validation Loss: {validation_loss:.4f}\")\n",
        "        scheduler.step(validation_loss)\n",
        "\n",
        "        if validation_loss < best_validation_loss:\n",
        "            best_validation_loss = validation_loss\n",
        "            no_improvement_epochs = 0  # Reset counter\n",
        "\n",
        "            # Save the model checkpoint\n",
        "            torch.save({\n",
        "                'epoch': epoch + 1,\n",
        "                'model_state_dict': model.state_dict(),\n",
        "                'optimizer_state_dict': optimizer.state_dict(),\n",
        "                'scheduler_state_dict': scheduler.state_dict(),\n",
        "                'best_validation_loss': best_validation_loss,\n",
        "                'scaler_state_dict': scaler.state_dict()\n",
        "            }, save_path)\n",
        "            print(f\"Model checkpoint saved at epoch {epoch + 1} with validation loss {validation_loss:.4f}.\")\n",
        "        else:\n",
        "            no_improvement_epochs += 1  # Increment counter\n",
        "\n",
        "        # Early stopping condition\n",
        "        if no_improvement_epochs >= 3:\n",
        "            print(f\"Early stopping triggered after {no_improvement_epochs} consecutive epochs without improvement.\")\n",
        "            break\n",
        "\n",
        "    print(\"Training complete.\")\n"
      ],
      "metadata": {
        "id": "XFgDBSibhnQ8"
      },
      "execution_count": null,
      "outputs": []
    },
    {
      "cell_type": "markdown",
      "source": [
        "Initializing the model by passing hyperparameters and starting the training pipeline:"
      ],
      "metadata": {
        "id": "d0r7-pmHhrQm"
      }
    },
    {
      "cell_type": "code",
      "execution_count": null,
      "metadata": {
        "colab": {
          "base_uri": "https://localhost:8080/"
        },
        "id": "AjI7V6PLsJEZ",
        "outputId": "76dec772-7ab6-4ea3-e04b-292342a9dfe0"
      },
      "outputs": [
        {
          "metadata": {
            "tags": null
          },
          "name": "stderr",
          "output_type": "stream",
          "text": [
            "<ipython-input-12-46f60dfd13de>:35: FutureWarning: `torch.cuda.amp.GradScaler(args...)` is deprecated. Please use `torch.amp.GradScaler('cuda', args...)` instead.\n",
            "  scaler = torch.cuda.amp.GradScaler()\n",
            "Epoch 1/50:   0%|          | 0/969 [00:00<?, ?batch/s]<ipython-input-12-46f60dfd13de>:48: FutureWarning: `torch.cuda.amp.autocast(args...)` is deprecated. Please use `torch.amp.autocast('cuda', args...)` instead.\n",
            "  with torch.cuda.amp.autocast():\n",
            "Epoch 1/50:   0%|          | 2/969 [00:01<13:08,  1.23batch/s, loss=11.3]"
          ]
        },
        {
          "metadata": {
            "tags": null
          },
          "name": "stdout",
          "output_type": "stream",
          "text": [
            "Batch 0 Translation: hello brother how are you -> \n"
          ]
        },
        {
          "metadata": {
            "tags": null
          },
          "name": "stderr",
          "output_type": "stream",
          "text": [
            "Epoch 1/50:  11%|█         | 102/969 [00:14<01:48,  7.99batch/s, loss=8.57]"
          ]
        },
        {
          "metadata": {
            "tags": null
          },
          "name": "stdout",
          "output_type": "stream",
          "text": [
            "Batch 100 Translation: hello brother how are you -> \n"
          ]
        },
        {
          "metadata": {
            "tags": null
          },
          "name": "stderr",
          "output_type": "stream",
          "text": [
            "Epoch 1/50:  21%|██        | 202/969 [00:27<01:57,  6.51batch/s, loss=8.17]"
          ]
        },
        {
          "metadata": {
            "tags": null
          },
          "name": "stdout",
          "output_type": "stream",
          "text": [
            "Batch 200 Translation: hello brother how are you -> এই\n"
          ]
        },
        {
          "metadata": {
            "tags": null
          },
          "name": "stderr",
          "output_type": "stream",
          "text": [
            "Epoch 1/50:  31%|███       | 302/969 [00:40<01:37,  6.86batch/s, loss=7.89]"
          ]
        },
        {
          "metadata": {
            "tags": null
          },
          "name": "stdout",
          "output_type": "stream",
          "text": [
            "Batch 300 Translation: hello brother how are you -> এই\n"
          ]
        },
        {
          "metadata": {
            "tags": null
          },
          "name": "stderr",
          "output_type": "stream",
          "text": [
            "Epoch 1/50:  41%|████▏     | 402/969 [00:53<01:16,  7.40batch/s, loss=7.84]"
          ]
        },
        {
          "metadata": {
            "tags": null
          },
          "name": "stdout",
          "output_type": "stream",
          "text": [
            "Batch 400 Translation: hello brother how are you -> আমার কি\n"
          ]
        },
        {
          "metadata": {
            "tags": null
          },
          "name": "stderr",
          "output_type": "stream",
          "text": [
            "Epoch 1/50:  52%|█████▏    | 502/969 [01:07<01:06,  7.07batch/s, loss=7.71]"
          ]
        },
        {
          "metadata": {
            "tags": null
          },
          "name": "stdout",
          "output_type": "stream",
          "text": [
            "Batch 500 Translation: hello brother how are you -> আমার আমার কি কি\n"
          ]
        },
        {
          "metadata": {
            "tags": null
          },
          "name": "stderr",
          "output_type": "stream",
          "text": [
            "Epoch 1/50:  62%|██████▏   | 602/969 [01:20<00:51,  7.17batch/s, loss=7.79]"
          ]
        },
        {
          "metadata": {
            "tags": null
          },
          "name": "stdout",
          "output_type": "stream",
          "text": [
            "Batch 600 Translation: hello brother how are you -> আমার কি কি\n"
          ]
        },
        {
          "metadata": {
            "tags": null
          },
          "name": "stderr",
          "output_type": "stream",
          "text": [
            "Epoch 1/50:  72%|███████▏  | 702/969 [01:33<00:43,  6.15batch/s, loss=7.63]"
          ]
        },
        {
          "metadata": {
            "tags": null
          },
          "name": "stdout",
          "output_type": "stream",
          "text": [
            "Batch 700 Translation: hello brother how are you -> আমার কি কি\n"
          ]
        },
        {
          "metadata": {
            "tags": null
          },
          "name": "stderr",
          "output_type": "stream",
          "text": [
            "Epoch 1/50:  83%|████████▎ | 802/969 [01:47<00:25,  6.45batch/s, loss=7.61]"
          ]
        },
        {
          "metadata": {
            "tags": null
          },
          "name": "stdout",
          "output_type": "stream",
          "text": [
            "Batch 800 Translation: hello brother how are you -> আমার কি কি\n"
          ]
        },
        {
          "metadata": {
            "tags": null
          },
          "name": "stderr",
          "output_type": "stream",
          "text": [
            "Epoch 1/50:  93%|█████████▎| 902/969 [02:00<00:09,  7.06batch/s, loss=7.47]"
          ]
        },
        {
          "metadata": {
            "tags": null
          },
          "name": "stdout",
          "output_type": "stream",
          "text": [
            "Batch 900 Translation: hello brother how are you -> আমার কি কি কি\n"
          ]
        },
        {
          "metadata": {
            "tags": null
          },
          "name": "stderr",
          "output_type": "stream",
          "text": [
            "Epoch 1/50: 100%|██████████| 969/969 [02:09<00:00,  7.48batch/s, loss=8.05]\n",
            "<ipython-input-12-46f60dfd13de>:25: FutureWarning: `torch.cuda.amp.autocast(args...)` is deprecated. Please use `torch.amp.autocast('cuda', args...)` instead.\n",
            "  with torch.cuda.amp.autocast():\n"
          ]
        },
        {
          "metadata": {
            "tags": null
          },
          "name": "stdout",
          "output_type": "stream",
          "text": [
            "Epoch 1 Training Loss: 8.0142\n",
            "Epoch 1 Validation Loss: 7.5080\n",
            "Model checkpoint saved at epoch 1 with validation loss 7.5080.\n"
          ]
        },
        {
          "metadata": {
            "tags": null
          },
          "name": "stderr",
          "output_type": "stream",
          "text": [
            "Epoch 2/50:   0%|          | 2/969 [00:00<02:56,  5.47batch/s, loss=7.37]"
          ]
        },
        {
          "metadata": {
            "tags": null
          },
          "name": "stdout",
          "output_type": "stream",
          "text": [
            "Batch 0 Translation: hello brother how are you -> আমার কি কি কি\n"
          ]
        },
        {
          "metadata": {
            "tags": null
          },
          "name": "stderr",
          "output_type": "stream",
          "text": [
            "Epoch 2/50:  11%|█         | 102/969 [00:13<01:59,  7.24batch/s, loss=7.35]"
          ]
        },
        {
          "metadata": {
            "tags": null
          },
          "name": "stdout",
          "output_type": "stream",
          "text": [
            "Batch 100 Translation: hello brother how are you -> আপনি কি কি\n"
          ]
        },
        {
          "metadata": {
            "tags": null
          },
          "name": "stderr",
          "output_type": "stream",
          "text": [
            "Epoch 2/50:  21%|██        | 202/969 [00:27<01:50,  6.93batch/s, loss=7.24]"
          ]
        },
        {
          "metadata": {
            "tags": null
          },
          "name": "stdout",
          "output_type": "stream",
          "text": [
            "Batch 200 Translation: hello brother how are you -> আপনি কি কি কি\n"
          ]
        },
        {
          "metadata": {
            "tags": null
          },
          "name": "stderr",
          "output_type": "stream",
          "text": [
            "Epoch 2/50:  31%|███       | 302/969 [00:40<01:49,  6.07batch/s, loss=7.32]"
          ]
        },
        {
          "metadata": {
            "tags": null
          },
          "name": "stdout",
          "output_type": "stream",
          "text": [
            "Batch 300 Translation: hello brother how are you -> আপনি কি কি\n"
          ]
        },
        {
          "metadata": {
            "tags": null
          },
          "name": "stderr",
          "output_type": "stream",
          "text": [
            "Epoch 2/50:  41%|████▏     | 402/969 [00:53<01:28,  6.37batch/s, loss=7.23]"
          ]
        },
        {
          "metadata": {
            "tags": null
          },
          "name": "stdout",
          "output_type": "stream",
          "text": [
            "Batch 400 Translation: hello brother how are you -> আপনি কি কি\n"
          ]
        },
        {
          "metadata": {
            "tags": null
          },
          "name": "stderr",
          "output_type": "stream",
          "text": [
            "Epoch 2/50:  52%|█████▏    | 502/969 [01:07<01:04,  7.24batch/s, loss=7.24]"
          ]
        },
        {
          "metadata": {
            "tags": null
          },
          "name": "stdout",
          "output_type": "stream",
          "text": [
            "Batch 500 Translation: hello brother how are you -> আপনি কি কি\n"
          ]
        },
        {
          "metadata": {
            "tags": null
          },
          "name": "stderr",
          "output_type": "stream",
          "text": [
            "Epoch 2/50:  62%|██████▏   | 602/969 [01:20<00:50,  7.29batch/s, loss=7]"
          ]
        },
        {
          "metadata": {
            "tags": null
          },
          "name": "stdout",
          "output_type": "stream",
          "text": [
            "Batch 600 Translation: hello brother how are you -> আপনি কি কি\n"
          ]
        },
        {
          "metadata": {
            "tags": null
          },
          "name": "stderr",
          "output_type": "stream",
          "text": [
            "Epoch 2/50:  72%|███████▏  | 702/969 [01:34<00:36,  7.26batch/s, loss=7.11]"
          ]
        },
        {
          "metadata": {
            "tags": null
          },
          "name": "stdout",
          "output_type": "stream",
          "text": [
            "Batch 700 Translation: hello brother how are you -> আপনি কি কি\n"
          ]
        },
        {
          "metadata": {
            "tags": null
          },
          "name": "stderr",
          "output_type": "stream",
          "text": [
            "Epoch 2/50:  83%|████████▎ | 802/969 [01:47<00:27,  6.09batch/s, loss=6.94]"
          ]
        },
        {
          "metadata": {
            "tags": null
          },
          "name": "stdout",
          "output_type": "stream",
          "text": [
            "Batch 800 Translation: hello brother how are you -> আপনি কি আপনি কি\n"
          ]
        },
        {
          "metadata": {
            "tags": null
          },
          "name": "stderr",
          "output_type": "stream",
          "text": [
            "Epoch 2/50:  93%|█████████▎| 902/969 [02:00<00:11,  6.07batch/s, loss=6.84]"
          ]
        },
        {
          "metadata": {
            "tags": null
          },
          "name": "stdout",
          "output_type": "stream",
          "text": [
            "Batch 900 Translation: hello brother how are you -> আপনি কি কি কি\n"
          ]
        },
        {
          "metadata": {
            "tags": null
          },
          "name": "stderr",
          "output_type": "stream",
          "text": [
            "Epoch 2/50: 100%|██████████| 969/969 [02:09<00:00,  7.47batch/s, loss=6.96]\n"
          ]
        },
        {
          "metadata": {
            "tags": null
          },
          "name": "stdout",
          "output_type": "stream",
          "text": [
            "Epoch 2 Training Loss: 7.1261\n",
            "Epoch 2 Validation Loss: 7.0048\n",
            "Model checkpoint saved at epoch 2 with validation loss 7.0048.\n"
          ]
        },
        {
          "metadata": {
            "tags": null
          },
          "name": "stderr",
          "output_type": "stream",
          "text": [
            "Epoch 3/50:   0%|          | 2/969 [00:00<02:55,  5.50batch/s, loss=6.55]"
          ]
        },
        {
          "metadata": {
            "tags": null
          },
          "name": "stdout",
          "output_type": "stream",
          "text": [
            "Batch 0 Translation: hello brother how are you -> আপনি কি কি কি\n"
          ]
        },
        {
          "metadata": {
            "tags": null
          },
          "name": "stderr",
          "output_type": "stream",
          "text": [
            "Epoch 3/50:  11%|█         | 102/969 [00:13<02:01,  7.11batch/s, loss=6.88]"
          ]
        },
        {
          "metadata": {
            "tags": null
          },
          "name": "stdout",
          "output_type": "stream",
          "text": [
            "Batch 100 Translation: hello brother how are you -> আপনি কি কি কি\n"
          ]
        },
        {
          "metadata": {
            "tags": null
          },
          "name": "stderr",
          "output_type": "stream",
          "text": [
            "Epoch 3/50:  21%|██        | 202/969 [00:27<02:08,  5.98batch/s, loss=6.82]"
          ]
        },
        {
          "metadata": {
            "tags": null
          },
          "name": "stdout",
          "output_type": "stream",
          "text": [
            "Batch 200 Translation: hello brother how are you -> আপনি কি কি কি\n"
          ]
        },
        {
          "metadata": {
            "tags": null
          },
          "name": "stderr",
          "output_type": "stream",
          "text": [
            "Epoch 3/50:  31%|███       | 302/969 [00:40<01:46,  6.24batch/s, loss=6.55]"
          ]
        },
        {
          "metadata": {
            "tags": null
          },
          "name": "stdout",
          "output_type": "stream",
          "text": [
            "Batch 300 Translation: hello brother how are you -> আপনি কি কি কি\n"
          ]
        },
        {
          "metadata": {
            "tags": null
          },
          "name": "stderr",
          "output_type": "stream",
          "text": [
            "Epoch 3/50:  41%|████▏     | 402/969 [00:53<01:20,  7.05batch/s, loss=6.47]"
          ]
        },
        {
          "metadata": {
            "tags": null
          },
          "name": "stdout",
          "output_type": "stream",
          "text": [
            "Batch 400 Translation: hello brother how are you -> আপনি কি কি কি\n"
          ]
        },
        {
          "metadata": {
            "tags": null
          },
          "name": "stderr",
          "output_type": "stream",
          "text": [
            "Epoch 3/50:  52%|█████▏    | 502/969 [01:07<01:04,  7.27batch/s, loss=6.76]"
          ]
        },
        {
          "metadata": {
            "tags": null
          },
          "name": "stdout",
          "output_type": "stream",
          "text": [
            "Batch 500 Translation: hello brother how are you -> আপনি কি কি\n"
          ]
        },
        {
          "metadata": {
            "tags": null
          },
          "name": "stderr",
          "output_type": "stream",
          "text": [
            "Epoch 3/50:  62%|██████▏   | 602/969 [01:20<00:51,  7.09batch/s, loss=6.84]"
          ]
        },
        {
          "metadata": {
            "tags": null
          },
          "name": "stdout",
          "output_type": "stream",
          "text": [
            "Batch 600 Translation: hello brother how are you -> আপনি কি আমার কি\n"
          ]
        },
        {
          "metadata": {
            "tags": null
          },
          "name": "stderr",
          "output_type": "stream",
          "text": [
            "Epoch 3/50:  72%|███████▏  | 702/969 [01:33<00:44,  6.02batch/s, loss=6.72]"
          ]
        },
        {
          "metadata": {
            "tags": null
          },
          "name": "stdout",
          "output_type": "stream",
          "text": [
            "Batch 700 Translation: hello brother how are you -> আপনি কি যে কি\n"
          ]
        },
        {
          "metadata": {
            "tags": null
          },
          "name": "stderr",
          "output_type": "stream",
          "text": [
            "Epoch 3/50:  83%|████████▎ | 802/969 [01:47<00:25,  6.45batch/s, loss=6.38]"
          ]
        },
        {
          "metadata": {
            "tags": null
          },
          "name": "stdout",
          "output_type": "stream",
          "text": [
            "Batch 800 Translation: hello brother how are you -> আপনি কি কি কি\n"
          ]
        },
        {
          "metadata": {
            "tags": null
          },
          "name": "stderr",
          "output_type": "stream",
          "text": [
            "Epoch 3/50:  93%|█████████▎| 902/969 [02:00<00:09,  7.14batch/s, loss=6.53]"
          ]
        },
        {
          "metadata": {
            "tags": null
          },
          "name": "stdout",
          "output_type": "stream",
          "text": [
            "Batch 900 Translation: hello brother how are you -> আপনি কি কি কি\n"
          ]
        },
        {
          "metadata": {
            "tags": null
          },
          "name": "stderr",
          "output_type": "stream",
          "text": [
            "Epoch 3/50: 100%|██████████| 969/969 [02:09<00:00,  7.49batch/s, loss=6.16]\n"
          ]
        },
        {
          "metadata": {
            "tags": null
          },
          "name": "stdout",
          "output_type": "stream",
          "text": [
            "Epoch 3 Training Loss: 6.6048\n",
            "Epoch 3 Validation Loss: 6.6285\n",
            "Model checkpoint saved at epoch 3 with validation loss 6.6285.\n"
          ]
        },
        {
          "metadata": {
            "tags": null
          },
          "name": "stderr",
          "output_type": "stream",
          "text": [
            "Epoch 4/50:   0%|          | 2/969 [00:00<03:18,  4.87batch/s, loss=6.49]"
          ]
        },
        {
          "metadata": {
            "tags": null
          },
          "name": "stdout",
          "output_type": "stream",
          "text": [
            "Batch 0 Translation: hello brother how are you -> আপনি কি কি কি\n"
          ]
        },
        {
          "metadata": {
            "tags": null
          },
          "name": "stderr",
          "output_type": "stream",
          "text": [
            "Epoch 4/50:  11%|█         | 102/969 [00:13<01:59,  7.23batch/s, loss=6.38]"
          ]
        },
        {
          "metadata": {
            "tags": null
          },
          "name": "stdout",
          "output_type": "stream",
          "text": [
            "Batch 100 Translation: hello brother how are you -> আপনি কি কি কি\n"
          ]
        },
        {
          "metadata": {
            "tags": null
          },
          "name": "stderr",
          "output_type": "stream",
          "text": [
            "Epoch 4/50:  21%|██        | 202/969 [00:26<01:46,  7.21batch/s, loss=6.12]"
          ]
        },
        {
          "metadata": {
            "tags": null
          },
          "name": "stdout",
          "output_type": "stream",
          "text": [
            "Batch 200 Translation: hello brother how are you -> আপনি কি কি\n"
          ]
        },
        {
          "metadata": {
            "tags": null
          },
          "name": "stderr",
          "output_type": "stream",
          "text": [
            "Epoch 4/50:  31%|███       | 302/969 [00:40<01:33,  7.12batch/s, loss=6.12]"
          ]
        },
        {
          "metadata": {
            "tags": null
          },
          "name": "stdout",
          "output_type": "stream",
          "text": [
            "Batch 300 Translation: hello brother how are you -> আপনি কি আমার কি\n"
          ]
        },
        {
          "metadata": {
            "tags": null
          },
          "name": "stderr",
          "output_type": "stream",
          "text": [
            "Epoch 4/50:  41%|████▏     | 402/969 [00:53<01:21,  6.93batch/s, loss=6.14]"
          ]
        },
        {
          "metadata": {
            "tags": null
          },
          "name": "stdout",
          "output_type": "stream",
          "text": [
            "Batch 400 Translation: hello brother how are you -> আপনি কি আমার কি\n"
          ]
        },
        {
          "metadata": {
            "tags": null
          },
          "name": "stderr",
          "output_type": "stream",
          "text": [
            "Epoch 4/50:  52%|█████▏    | 502/969 [01:06<01:17,  6.02batch/s, loss=6.28]"
          ]
        },
        {
          "metadata": {
            "tags": null
          },
          "name": "stdout",
          "output_type": "stream",
          "text": [
            "Batch 500 Translation: hello brother how are you -> আপনি কি বলুন বলুন\n"
          ]
        },
        {
          "metadata": {
            "tags": null
          },
          "name": "stderr",
          "output_type": "stream",
          "text": [
            "Epoch 4/50:  62%|██████▏   | 602/969 [01:19<00:54,  6.71batch/s, loss=6.37]"
          ]
        },
        {
          "metadata": {
            "tags": null
          },
          "name": "stdout",
          "output_type": "stream",
          "text": [
            "Batch 600 Translation: hello brother how are you -> আপনি কি কি\n"
          ]
        },
        {
          "metadata": {
            "tags": null
          },
          "name": "stderr",
          "output_type": "stream",
          "text": [
            "Epoch 4/50:  72%|███████▏  | 702/969 [01:33<00:37,  7.09batch/s, loss=6.44]"
          ]
        },
        {
          "metadata": {
            "tags": null
          },
          "name": "stdout",
          "output_type": "stream",
          "text": [
            "Batch 700 Translation: hello brother how are you -> আপনি কি আমার কি\n"
          ]
        },
        {
          "metadata": {
            "tags": null
          },
          "name": "stderr",
          "output_type": "stream",
          "text": [
            "Epoch 4/50:  83%|████████▎ | 802/969 [01:46<00:22,  7.31batch/s, loss=6.23]"
          ]
        },
        {
          "metadata": {
            "tags": null
          },
          "name": "stdout",
          "output_type": "stream",
          "text": [
            "Batch 800 Translation: hello brother how are you -> আপনি কি কি\n"
          ]
        },
        {
          "metadata": {
            "tags": null
          },
          "name": "stderr",
          "output_type": "stream",
          "text": [
            "Epoch 4/50:  93%|█████████▎| 902/969 [01:59<00:09,  7.04batch/s, loss=5.82]"
          ]
        },
        {
          "metadata": {
            "tags": null
          },
          "name": "stdout",
          "output_type": "stream",
          "text": [
            "Batch 900 Translation: hello brother how are you -> আপনি কি আমার কি\n"
          ]
        },
        {
          "metadata": {
            "tags": null
          },
          "name": "stderr",
          "output_type": "stream",
          "text": [
            "Epoch 4/50: 100%|██████████| 969/969 [02:08<00:00,  7.56batch/s, loss=6.17]\n"
          ]
        },
        {
          "metadata": {
            "tags": null
          },
          "name": "stdout",
          "output_type": "stream",
          "text": [
            "Epoch 4 Training Loss: 6.1786\n",
            "Epoch 4 Validation Loss: 6.3428\n",
            "Model checkpoint saved at epoch 4 with validation loss 6.3428.\n"
          ]
        },
        {
          "metadata": {
            "tags": null
          },
          "name": "stderr",
          "output_type": "stream",
          "text": [
            "Epoch 5/50:   0%|          | 2/969 [00:00<02:50,  5.68batch/s, loss=5.85]"
          ]
        },
        {
          "metadata": {
            "tags": null
          },
          "name": "stdout",
          "output_type": "stream",
          "text": [
            "Batch 0 Translation: hello brother how are you -> আপনি কি আমার কি\n"
          ]
        },
        {
          "metadata": {
            "tags": null
          },
          "name": "stderr",
          "output_type": "stream",
          "text": [
            "Epoch 5/50:  11%|█         | 102/969 [00:13<02:01,  7.16batch/s, loss=5.69]"
          ]
        },
        {
          "metadata": {
            "tags": null
          },
          "name": "stdout",
          "output_type": "stream",
          "text": [
            "Batch 100 Translation: hello brother how are you -> আপনি কি আমার কি\n"
          ]
        },
        {
          "metadata": {
            "tags": null
          },
          "name": "stderr",
          "output_type": "stream",
          "text": [
            "Epoch 5/50:  21%|██        | 202/969 [00:27<02:07,  6.03batch/s, loss=5.5]"
          ]
        },
        {
          "metadata": {
            "tags": null
          },
          "name": "stdout",
          "output_type": "stream",
          "text": [
            "Batch 200 Translation: hello brother how are you -> আপনি কি আমাকে কি\n"
          ]
        },
        {
          "metadata": {
            "tags": null
          },
          "name": "stderr",
          "output_type": "stream",
          "text": [
            "Epoch 5/50:  31%|███       | 302/969 [00:40<01:46,  6.25batch/s, loss=5.72]"
          ]
        },
        {
          "metadata": {
            "tags": null
          },
          "name": "stdout",
          "output_type": "stream",
          "text": [
            "Batch 300 Translation: hello brother how are you -> আপনি কি আমার কি\n"
          ]
        },
        {
          "metadata": {
            "tags": null
          },
          "name": "stderr",
          "output_type": "stream",
          "text": [
            "Epoch 5/50:  41%|████▏     | 402/969 [00:53<01:20,  7.01batch/s, loss=5.85]"
          ]
        },
        {
          "metadata": {
            "tags": null
          },
          "name": "stdout",
          "output_type": "stream",
          "text": [
            "Batch 400 Translation: hello brother how are you -> আপনি কি আমার কি\n"
          ]
        },
        {
          "metadata": {
            "tags": null
          },
          "name": "stderr",
          "output_type": "stream",
          "text": [
            "Epoch 5/50:  52%|█████▏    | 502/969 [01:06<01:04,  7.20batch/s, loss=5.56]"
          ]
        },
        {
          "metadata": {
            "tags": null
          },
          "name": "stdout",
          "output_type": "stream",
          "text": [
            "Batch 500 Translation: hello brother how are you -> আপনি কি আমার কি\n"
          ]
        },
        {
          "metadata": {
            "tags": null
          },
          "name": "stderr",
          "output_type": "stream",
          "text": [
            "Epoch 5/50:  62%|██████▏   | 602/969 [01:20<00:50,  7.25batch/s, loss=5.86]"
          ]
        },
        {
          "metadata": {
            "tags": null
          },
          "name": "stdout",
          "output_type": "stream",
          "text": [
            "Batch 600 Translation: hello brother how are you -> আপনি কি আমার বলুন\n"
          ]
        },
        {
          "metadata": {
            "tags": null
          },
          "name": "stderr",
          "output_type": "stream",
          "text": [
            "Epoch 5/50:  72%|███████▏  | 702/969 [01:33<00:41,  6.45batch/s, loss=5.96]"
          ]
        },
        {
          "metadata": {
            "tags": null
          },
          "name": "stdout",
          "output_type": "stream",
          "text": [
            "Batch 700 Translation: hello brother how are you -> আপনি কি আমার বলুন\n"
          ]
        },
        {
          "metadata": {
            "tags": null
          },
          "name": "stderr",
          "output_type": "stream",
          "text": [
            "Epoch 5/50:  83%|████████▎ | 802/969 [01:46<00:26,  6.26batch/s, loss=5.47]"
          ]
        },
        {
          "metadata": {
            "tags": null
          },
          "name": "stdout",
          "output_type": "stream",
          "text": [
            "Batch 800 Translation: hello brother how are you -> আপনি কি বলুন\n"
          ]
        },
        {
          "metadata": {
            "tags": null
          },
          "name": "stderr",
          "output_type": "stream",
          "text": [
            "Epoch 5/50:  93%|█████████▎| 902/969 [01:59<00:09,  7.13batch/s, loss=5.57]"
          ]
        },
        {
          "metadata": {
            "tags": null
          },
          "name": "stdout",
          "output_type": "stream",
          "text": [
            "Batch 900 Translation: hello brother how are you -> আপনি কি আমার কি\n"
          ]
        },
        {
          "metadata": {
            "tags": null
          },
          "name": "stderr",
          "output_type": "stream",
          "text": [
            "Epoch 5/50: 100%|██████████| 969/969 [02:08<00:00,  7.51batch/s, loss=5.68]\n"
          ]
        },
        {
          "metadata": {
            "tags": null
          },
          "name": "stdout",
          "output_type": "stream",
          "text": [
            "Epoch 5 Training Loss: 5.7981\n",
            "Epoch 5 Validation Loss: 6.1291\n",
            "Model checkpoint saved at epoch 5 with validation loss 6.1291.\n"
          ]
        },
        {
          "metadata": {
            "tags": null
          },
          "name": "stderr",
          "output_type": "stream",
          "text": [
            "Epoch 6/50:   0%|          | 2/969 [00:00<02:59,  5.37batch/s, loss=5.69]"
          ]
        },
        {
          "metadata": {
            "tags": null
          },
          "name": "stdout",
          "output_type": "stream",
          "text": [
            "Batch 0 Translation: hello brother how are you -> আপনি কি আমার কি\n"
          ]
        },
        {
          "metadata": {
            "tags": null
          },
          "name": "stderr",
          "output_type": "stream",
          "text": [
            "Epoch 6/50:  11%|█         | 102/969 [00:13<02:17,  6.29batch/s, loss=5.52]"
          ]
        },
        {
          "metadata": {
            "tags": null
          },
          "name": "stdout",
          "output_type": "stream",
          "text": [
            "Batch 100 Translation: hello brother how are you -> আপনি কি আমার বলুন\n"
          ]
        },
        {
          "metadata": {
            "tags": null
          },
          "name": "stderr",
          "output_type": "stream",
          "text": [
            "Epoch 6/50:  21%|██        | 202/969 [00:26<01:47,  7.12batch/s, loss=5.47]"
          ]
        },
        {
          "metadata": {
            "tags": null
          },
          "name": "stdout",
          "output_type": "stream",
          "text": [
            "Batch 200 Translation: hello brother how are you -> আপনি কি আমাকে বলুন\n"
          ]
        },
        {
          "metadata": {
            "tags": null
          },
          "name": "stderr",
          "output_type": "stream",
          "text": [
            "Epoch 6/50:  31%|███       | 302/969 [00:40<01:37,  6.87batch/s, loss=5.56]"
          ]
        },
        {
          "metadata": {
            "tags": null
          },
          "name": "stdout",
          "output_type": "stream",
          "text": [
            "Batch 300 Translation: hello brother how are you -> আপনি কি আমার বলুন\n"
          ]
        },
        {
          "metadata": {
            "tags": null
          },
          "name": "stderr",
          "output_type": "stream",
          "text": [
            "Epoch 6/50:  41%|████▏     | 402/969 [00:53<01:17,  7.27batch/s, loss=5.49]"
          ]
        },
        {
          "metadata": {
            "tags": null
          },
          "name": "stdout",
          "output_type": "stream",
          "text": [
            "Batch 400 Translation: hello brother how are you -> আপনি কি বলুন\n"
          ]
        },
        {
          "metadata": {
            "tags": null
          },
          "name": "stderr",
          "output_type": "stream",
          "text": [
            "Epoch 6/50:  52%|█████▏    | 502/969 [01:07<01:12,  6.47batch/s, loss=5.56]"
          ]
        },
        {
          "metadata": {
            "tags": null
          },
          "name": "stdout",
          "output_type": "stream",
          "text": [
            "Batch 500 Translation: hello brother how are you -> আপনি কি আমার বলুন\n"
          ]
        },
        {
          "metadata": {
            "tags": null
          },
          "name": "stderr",
          "output_type": "stream",
          "text": [
            "Epoch 6/50:  62%|██████▏   | 602/969 [01:19<00:57,  6.39batch/s, loss=5.37]"
          ]
        },
        {
          "metadata": {
            "tags": null
          },
          "name": "stdout",
          "output_type": "stream",
          "text": [
            "Batch 600 Translation: hello brother how are you -> আপনি কি বলুন\n"
          ]
        },
        {
          "metadata": {
            "tags": null
          },
          "name": "stderr",
          "output_type": "stream",
          "text": [
            "Epoch 6/50:  72%|███████▏  | 702/969 [01:33<00:37,  7.08batch/s, loss=5.61]"
          ]
        },
        {
          "metadata": {
            "tags": null
          },
          "name": "stdout",
          "output_type": "stream",
          "text": [
            "Batch 700 Translation: hello brother how are you -> আপনি কি আমার বলুন\n"
          ]
        },
        {
          "metadata": {
            "tags": null
          },
          "name": "stderr",
          "output_type": "stream",
          "text": [
            "Epoch 6/50:  83%|████████▎ | 802/969 [01:46<00:23,  7.20batch/s, loss=5.55]"
          ]
        },
        {
          "metadata": {
            "tags": null
          },
          "name": "stdout",
          "output_type": "stream",
          "text": [
            "Batch 800 Translation: hello brother how are you -> আপনি কি আমাকে কি\n"
          ]
        },
        {
          "metadata": {
            "tags": null
          },
          "name": "stderr",
          "output_type": "stream",
          "text": [
            "Epoch 6/50:  93%|█████████▎| 902/969 [01:59<00:09,  7.19batch/s, loss=5.67]"
          ]
        },
        {
          "metadata": {
            "tags": null
          },
          "name": "stdout",
          "output_type": "stream",
          "text": [
            "Batch 900 Translation: hello brother how are you -> আপনি কি আমাকে জানতে\n"
          ]
        },
        {
          "metadata": {
            "tags": null
          },
          "name": "stderr",
          "output_type": "stream",
          "text": [
            "Epoch 6/50: 100%|██████████| 969/969 [02:08<00:00,  7.54batch/s, loss=5.52]\n"
          ]
        },
        {
          "metadata": {
            "tags": null
          },
          "name": "stdout",
          "output_type": "stream",
          "text": [
            "Epoch 6 Training Loss: 5.4406\n",
            "Epoch 6 Validation Loss: 5.9458\n",
            "Model checkpoint saved at epoch 6 with validation loss 5.9458.\n"
          ]
        },
        {
          "metadata": {
            "tags": null
          },
          "name": "stderr",
          "output_type": "stream",
          "text": [
            "Epoch 7/50:   0%|          | 2/969 [00:00<03:03,  5.27batch/s, loss=5.32]"
          ]
        },
        {
          "metadata": {
            "tags": null
          },
          "name": "stdout",
          "output_type": "stream",
          "text": [
            "Batch 0 Translation: hello brother how are you -> আপনি কি আমার ভাই\n"
          ]
        },
        {
          "metadata": {
            "tags": null
          },
          "name": "stderr",
          "output_type": "stream",
          "text": [
            "Epoch 7/50:  11%|█         | 102/969 [00:13<02:01,  7.14batch/s, loss=5.34]"
          ]
        },
        {
          "metadata": {
            "tags": null
          },
          "name": "stdout",
          "output_type": "stream",
          "text": [
            "Batch 100 Translation: hello brother how are you -> আপনি কি আমাকে বলুন\n"
          ]
        },
        {
          "metadata": {
            "tags": null
          },
          "name": "stderr",
          "output_type": "stream",
          "text": [
            "Epoch 7/50:  21%|██        | 202/969 [00:27<01:47,  7.13batch/s, loss=5.06]"
          ]
        },
        {
          "metadata": {
            "tags": null
          },
          "name": "stdout",
          "output_type": "stream",
          "text": [
            "Batch 200 Translation: hello brother how are you -> আপনি কি আমাকে বলুন\n"
          ]
        },
        {
          "metadata": {
            "tags": null
          },
          "name": "stderr",
          "output_type": "stream",
          "text": [
            "Epoch 7/50:  31%|███       | 302/969 [00:40<01:50,  6.02batch/s, loss=5.17]"
          ]
        },
        {
          "metadata": {
            "tags": null
          },
          "name": "stdout",
          "output_type": "stream",
          "text": [
            "Batch 300 Translation: hello brother how are you -> আপনি কি আমার ভাই\n"
          ]
        },
        {
          "metadata": {
            "tags": null
          },
          "name": "stderr",
          "output_type": "stream",
          "text": [
            "Epoch 7/50:  41%|████▏     | 402/969 [00:53<01:32,  6.11batch/s, loss=5.37]"
          ]
        },
        {
          "metadata": {
            "tags": null
          },
          "name": "stdout",
          "output_type": "stream",
          "text": [
            "Batch 400 Translation: hello brother how are you -> আপনি কি আমাকে বলুন\n"
          ]
        },
        {
          "output_type": "stream",
          "name": "stderr",
          "text": [
            "Epoch 7/50:  52%|█████▏    | 502/969 [01:07<01:05,  7.10batch/s, loss=5.08]"
          ]
        },
        {
          "output_type": "stream",
          "name": "stdout",
          "text": [
            "Batch 500 Translation: hello brother how are you -> আপনি কি বন্ধু বলুন\n"
          ]
        },
        {
          "output_type": "stream",
          "name": "stderr",
          "text": [
            "Epoch 7/50:  62%|██████▏   | 602/969 [01:20<00:51,  7.08batch/s, loss=5.18]"
          ]
        },
        {
          "output_type": "stream",
          "name": "stdout",
          "text": [
            "Batch 600 Translation: hello brother how are you -> আপনি কি বন্ধু বলুন\n"
          ]
        },
        {
          "output_type": "stream",
          "name": "stderr",
          "text": [
            "Epoch 7/50:  72%|███████▏  | 702/969 [01:34<00:37,  7.03batch/s, loss=5.19]"
          ]
        },
        {
          "output_type": "stream",
          "name": "stdout",
          "text": [
            "Batch 700 Translation: hello brother how are you -> আপনি কি জানতে\n"
          ]
        },
        {
          "output_type": "stream",
          "name": "stderr",
          "text": [
            "Epoch 7/50:  83%|████████▎ | 802/969 [01:47<00:27,  6.00batch/s, loss=5.24]"
          ]
        },
        {
          "output_type": "stream",
          "name": "stdout",
          "text": [
            "Batch 800 Translation: hello brother how are you -> আপনি কি বন্ধু বন্ধু\n"
          ]
        },
        {
          "output_type": "stream",
          "name": "stderr",
          "text": [
            "Epoch 7/50:  93%|█████████▎| 902/969 [02:01<00:10,  6.31batch/s, loss=5.06]"
          ]
        },
        {
          "output_type": "stream",
          "name": "stdout",
          "text": [
            "Batch 900 Translation: hello brother how are you -> আপনি কি বন্ধু\n"
          ]
        },
        {
          "output_type": "stream",
          "name": "stderr",
          "text": [
            "Epoch 7/50: 100%|██████████| 969/969 [02:10<00:00,  7.44batch/s, loss=5.27]\n"
          ]
        },
        {
          "output_type": "stream",
          "name": "stdout",
          "text": [
            "Epoch 7 Training Loss: 5.0942\n",
            "Epoch 7 Validation Loss: 5.7673\n",
            "Model checkpoint saved at epoch 7 with validation loss 5.7673.\n"
          ]
        },
        {
          "output_type": "stream",
          "name": "stderr",
          "text": [
            "Epoch 8/50:   0%|          | 2/969 [00:00<03:00,  5.37batch/s, loss=4.78]"
          ]
        },
        {
          "output_type": "stream",
          "name": "stdout",
          "text": [
            "Batch 0 Translation: hello brother how are you -> আপনি কি বন্ধু কত\n"
          ]
        },
        {
          "output_type": "stream",
          "name": "stderr",
          "text": [
            "Epoch 8/50:  11%|█         | 102/969 [00:13<02:06,  6.86batch/s, loss=4.66]"
          ]
        },
        {
          "output_type": "stream",
          "name": "stdout",
          "text": [
            "Batch 100 Translation: hello brother how are you -> আপনি কি আমাকে কেমন\n"
          ]
        },
        {
          "output_type": "stream",
          "name": "stderr",
          "text": [
            "Epoch 8/50:  21%|██        | 202/969 [00:27<02:06,  6.05batch/s, loss=4.72]"
          ]
        },
        {
          "output_type": "stream",
          "name": "stdout",
          "text": [
            "Batch 200 Translation: hello brother how are you -> আপনি কি আমাকে বন্ধু\n"
          ]
        },
        {
          "output_type": "stream",
          "name": "stderr",
          "text": [
            "Epoch 8/50:  31%|███       | 302/969 [00:40<01:42,  6.49batch/s, loss=4.56]"
          ]
        },
        {
          "output_type": "stream",
          "name": "stdout",
          "text": [
            "Batch 300 Translation: hello brother how are you -> আপনি কি আমাকে বলুন\n"
          ]
        },
        {
          "output_type": "stream",
          "name": "stderr",
          "text": [
            "Epoch 8/50:  41%|████▏     | 402/969 [00:54<01:20,  7.07batch/s, loss=4.66]"
          ]
        },
        {
          "output_type": "stream",
          "name": "stdout",
          "text": [
            "Batch 400 Translation: hello brother how are you -> আপনি কি বলুন\n"
          ]
        },
        {
          "output_type": "stream",
          "name": "stderr",
          "text": [
            "Epoch 8/50:  52%|█████▏    | 502/969 [01:08<01:08,  6.80batch/s, loss=4.66]"
          ]
        },
        {
          "output_type": "stream",
          "name": "stdout",
          "text": [
            "Batch 500 Translation: hello brother how are you -> আপনি কি বন্ধু কত\n"
          ]
        },
        {
          "output_type": "stream",
          "name": "stderr",
          "text": [
            "Epoch 8/50:  62%|██████▏   | 602/969 [01:21<00:51,  7.14batch/s, loss=4.68]"
          ]
        },
        {
          "output_type": "stream",
          "name": "stdout",
          "text": [
            "Batch 600 Translation: hello brother how are you -> আপনি কি বন্ধু\n"
          ]
        },
        {
          "output_type": "stream",
          "name": "stderr",
          "text": [
            "Epoch 8/50:  72%|███████▏  | 702/969 [01:34<00:41,  6.43batch/s, loss=4.6]"
          ]
        },
        {
          "output_type": "stream",
          "name": "stdout",
          "text": [
            "Batch 700 Translation: hello brother how are you -> আপনি কি ভাই\n"
          ]
        },
        {
          "output_type": "stream",
          "name": "stderr",
          "text": [
            "Epoch 8/50:  83%|████████▎ | 802/969 [01:48<00:25,  6.50batch/s, loss=4.99]"
          ]
        },
        {
          "output_type": "stream",
          "name": "stdout",
          "text": [
            "Batch 800 Translation: hello brother how are you -> আপনি কি বন্ধু\n"
          ]
        },
        {
          "output_type": "stream",
          "name": "stderr",
          "text": [
            "Epoch 8/50:  93%|█████████▎| 902/969 [02:01<00:09,  7.06batch/s, loss=4.44]"
          ]
        },
        {
          "output_type": "stream",
          "name": "stdout",
          "text": [
            "Batch 900 Translation: hello brother how are you -> আপনি কি বন্ধু বলুন\n"
          ]
        },
        {
          "output_type": "stream",
          "name": "stderr",
          "text": [
            "Epoch 8/50: 100%|██████████| 969/969 [02:11<00:00,  7.39batch/s, loss=4.95]\n"
          ]
        },
        {
          "output_type": "stream",
          "name": "stdout",
          "text": [
            "Epoch 8 Training Loss: 4.7569\n",
            "Epoch 8 Validation Loss: 5.6579\n",
            "Model checkpoint saved at epoch 8 with validation loss 5.6579.\n"
          ]
        },
        {
          "output_type": "stream",
          "name": "stderr",
          "text": [
            "Epoch 9/50:   0%|          | 2/969 [00:00<03:20,  4.81batch/s, loss=4.46]"
          ]
        },
        {
          "output_type": "stream",
          "name": "stdout",
          "text": [
            "Batch 0 Translation: hello brother how are you -> আপনি কি বন্ধু কত\n"
          ]
        },
        {
          "output_type": "stream",
          "name": "stderr",
          "text": [
            "Epoch 9/50:  11%|█         | 102/969 [00:13<02:16,  6.35batch/s, loss=4.59]"
          ]
        },
        {
          "output_type": "stream",
          "name": "stdout",
          "text": [
            "Batch 100 Translation: hello brother how are you -> আপনি কি বন্ধু বলুন\n"
          ]
        },
        {
          "output_type": "stream",
          "name": "stderr",
          "text": [
            "Epoch 9/50:  21%|██        | 202/969 [00:27<01:47,  7.14batch/s, loss=4.61]"
          ]
        },
        {
          "output_type": "stream",
          "name": "stdout",
          "text": [
            "Batch 200 Translation: hello brother how are you -> আপনি কি বন্ধু\n"
          ]
        },
        {
          "output_type": "stream",
          "name": "stderr",
          "text": [
            "Epoch 9/50:  31%|███       | 302/969 [00:41<01:36,  6.94batch/s, loss=4.41]"
          ]
        },
        {
          "output_type": "stream",
          "name": "stdout",
          "text": [
            "Batch 300 Translation: hello brother how are you -> আপনি কি বন্ধু বন্ধু\n"
          ]
        },
        {
          "output_type": "stream",
          "name": "stderr",
          "text": [
            "Epoch 9/50:  41%|████▏     | 402/969 [00:54<01:20,  7.02batch/s, loss=4.59]"
          ]
        },
        {
          "output_type": "stream",
          "name": "stdout",
          "text": [
            "Batch 400 Translation: hello brother how are you -> আপনি কি বন্ধু\n"
          ]
        },
        {
          "output_type": "stream",
          "name": "stderr",
          "text": [
            "Epoch 9/50:  52%|█████▏    | 502/969 [01:08<01:14,  6.27batch/s, loss=4.48]"
          ]
        },
        {
          "output_type": "stream",
          "name": "stdout",
          "text": [
            "Batch 500 Translation: hello brother how are you -> আপনি কি বন্ধু বন্ধু\n"
          ]
        },
        {
          "output_type": "stream",
          "name": "stderr",
          "text": [
            "Epoch 9/50:  62%|██████▏   | 602/969 [01:21<00:56,  6.53batch/s, loss=4.46]"
          ]
        },
        {
          "output_type": "stream",
          "name": "stdout",
          "text": [
            "Batch 600 Translation: hello brother how are you -> আপনি কি বন্ধু বন্ধু\n"
          ]
        },
        {
          "output_type": "stream",
          "name": "stderr",
          "text": [
            "Epoch 9/50:  72%|███████▏  | 702/969 [01:34<00:37,  7.07batch/s, loss=4.58]"
          ]
        },
        {
          "output_type": "stream",
          "name": "stdout",
          "text": [
            "Batch 700 Translation: hello brother how are you -> আপনি কি বন্ধু কতটা\n"
          ]
        },
        {
          "output_type": "stream",
          "name": "stderr",
          "text": [
            "Epoch 9/50:  83%|████████▎ | 802/969 [01:48<00:24,  6.95batch/s, loss=4.7]"
          ]
        },
        {
          "output_type": "stream",
          "name": "stdout",
          "text": [
            "Batch 800 Translation: hello brother how are you -> আপনি কি বন্ধু কত\n"
          ]
        },
        {
          "output_type": "stream",
          "name": "stderr",
          "text": [
            "Epoch 9/50:  93%|█████████▎| 902/969 [02:02<00:10,  6.70batch/s, loss=4.85]"
          ]
        },
        {
          "output_type": "stream",
          "name": "stdout",
          "text": [
            "Batch 900 Translation: hello brother how are you -> আপনি কি বন্ধু কত\n"
          ]
        },
        {
          "output_type": "stream",
          "name": "stderr",
          "text": [
            "Epoch 9/50: 100%|██████████| 969/969 [02:10<00:00,  7.41batch/s, loss=4.88]\n"
          ]
        },
        {
          "output_type": "stream",
          "name": "stdout",
          "text": [
            "Epoch 9 Training Loss: 4.4239\n",
            "Epoch 9 Validation Loss: 5.5571\n",
            "Model checkpoint saved at epoch 9 with validation loss 5.5571.\n"
          ]
        },
        {
          "output_type": "stream",
          "name": "stderr",
          "text": [
            "Epoch 10/50:   0%|          | 2/969 [00:00<02:50,  5.68batch/s, loss=3.98]"
          ]
        },
        {
          "output_type": "stream",
          "name": "stdout",
          "text": [
            "Batch 0 Translation: hello brother how are you -> আপনি কি কতটা\n"
          ]
        },
        {
          "output_type": "stream",
          "name": "stderr",
          "text": [
            "Epoch 10/50:  11%|█         | 102/969 [00:13<02:06,  6.83batch/s, loss=4.15]"
          ]
        },
        {
          "output_type": "stream",
          "name": "stdout",
          "text": [
            "Batch 100 Translation: hello brother how are you -> আপনি কি ভাই ভাই\n"
          ]
        },
        {
          "output_type": "stream",
          "name": "stderr",
          "text": [
            "Epoch 10/50:  21%|██        | 202/969 [00:27<02:13,  5.77batch/s, loss=4]"
          ]
        },
        {
          "output_type": "stream",
          "name": "stdout",
          "text": [
            "Batch 200 Translation: hello brother how are you -> আপনি কি বন্ধু বন্ধু\n"
          ]
        },
        {
          "output_type": "stream",
          "name": "stderr",
          "text": [
            "Epoch 10/50:  31%|███       | 302/969 [00:40<01:45,  6.31batch/s, loss=3.94]"
          ]
        },
        {
          "output_type": "stream",
          "name": "stdout",
          "text": [
            "Batch 300 Translation: hello brother how are you -> আপনি কি বন্ধু কতটা\n"
          ]
        },
        {
          "output_type": "stream",
          "name": "stderr",
          "text": [
            "Epoch 10/50:  41%|████▏     | 402/969 [00:54<01:21,  7.00batch/s, loss=4.26]"
          ]
        },
        {
          "output_type": "stream",
          "name": "stdout",
          "text": [
            "Batch 400 Translation: hello brother how are you -> আপনি কি ভাই ভাই\n"
          ]
        },
        {
          "output_type": "stream",
          "name": "stderr",
          "text": [
            "Epoch 10/50:  52%|█████▏    | 502/969 [01:08<01:06,  6.98batch/s, loss=3.8]"
          ]
        },
        {
          "output_type": "stream",
          "name": "stdout",
          "text": [
            "Batch 500 Translation: hello brother how are you -> আপনি কি ভাই\n"
          ]
        },
        {
          "output_type": "stream",
          "name": "stderr",
          "text": [
            "Epoch 10/50:  62%|██████▏   | 602/969 [01:21<00:52,  7.04batch/s, loss=3.86]"
          ]
        },
        {
          "output_type": "stream",
          "name": "stdout",
          "text": [
            "Batch 600 Translation: hello brother how are you -> আপনি কি বন্ধু নাম\n"
          ]
        },
        {
          "output_type": "stream",
          "name": "stderr",
          "text": [
            "Epoch 10/50:  72%|███████▏  | 702/969 [01:35<00:47,  5.65batch/s, loss=3.75]"
          ]
        },
        {
          "output_type": "stream",
          "name": "stdout",
          "text": [
            "Batch 700 Translation: hello brother how are you -> আপনি কি বন্ধু কত\n"
          ]
        },
        {
          "output_type": "stream",
          "name": "stderr",
          "text": [
            "Epoch 10/50:  83%|████████▎ | 802/969 [01:48<00:26,  6.23batch/s, loss=4.02]"
          ]
        },
        {
          "output_type": "stream",
          "name": "stdout",
          "text": [
            "Batch 800 Translation: hello brother how are you -> আপনি কি বন্ধু বন্ধু\n"
          ]
        },
        {
          "output_type": "stream",
          "name": "stderr",
          "text": [
            "Epoch 10/50:  93%|█████████▎| 902/969 [02:02<00:09,  6.91batch/s, loss=4.06]"
          ]
        },
        {
          "output_type": "stream",
          "name": "stdout",
          "text": [
            "Batch 900 Translation: hello brother how are you -> আপনি কি ভাই\n"
          ]
        },
        {
          "output_type": "stream",
          "name": "stderr",
          "text": [
            "Epoch 10/50: 100%|██████████| 969/969 [02:11<00:00,  7.37batch/s, loss=4.19]\n"
          ]
        },
        {
          "output_type": "stream",
          "name": "stdout",
          "text": [
            "Epoch 10 Training Loss: 4.0927\n",
            "Epoch 10 Validation Loss: 5.5038\n",
            "Model checkpoint saved at epoch 10 with validation loss 5.5038.\n"
          ]
        },
        {
          "output_type": "stream",
          "name": "stderr",
          "text": [
            "Epoch 11/50:   0%|          | 2/969 [00:00<03:24,  4.72batch/s, loss=3.83]"
          ]
        },
        {
          "output_type": "stream",
          "name": "stdout",
          "text": [
            "Batch 0 Translation: hello brother how are you -> আপনি কি ভাই ভাই\n"
          ]
        },
        {
          "output_type": "stream",
          "name": "stderr",
          "text": [
            "Epoch 11/50:  11%|█         | 102/969 [00:13<02:19,  6.24batch/s, loss=3.61]"
          ]
        },
        {
          "output_type": "stream",
          "name": "stdout",
          "text": [
            "Batch 100 Translation: hello brother how are you -> আপনি কি ভাই কত\n"
          ]
        },
        {
          "output_type": "stream",
          "name": "stderr",
          "text": [
            "Epoch 11/50:  21%|██        | 202/969 [00:27<01:51,  6.89batch/s, loss=3.94]"
          ]
        },
        {
          "output_type": "stream",
          "name": "stdout",
          "text": [
            "Batch 200 Translation: hello brother how are you -> আপনি কি বন্ধু বন্ধু\n"
          ]
        },
        {
          "output_type": "stream",
          "name": "stderr",
          "text": [
            "Epoch 11/50:  31%|███       | 302/969 [00:41<01:35,  7.00batch/s, loss=3.88]"
          ]
        },
        {
          "output_type": "stream",
          "name": "stdout",
          "text": [
            "Batch 300 Translation: hello brother how are you -> আপনি কি বন্ধু কত\n"
          ]
        },
        {
          "output_type": "stream",
          "name": "stderr",
          "text": [
            "Epoch 11/50:  41%|████▏     | 402/969 [00:54<01:23,  6.82batch/s, loss=3.55]"
          ]
        },
        {
          "output_type": "stream",
          "name": "stdout",
          "text": [
            "Batch 400 Translation: hello brother how are you -> আপনি কি ভাই ভাই\n"
          ]
        },
        {
          "output_type": "stream",
          "name": "stderr",
          "text": [
            "Epoch 11/50:  52%|█████▏    | 502/969 [01:08<01:14,  6.23batch/s, loss=3.83]"
          ]
        },
        {
          "output_type": "stream",
          "name": "stdout",
          "text": [
            "Batch 500 Translation: hello brother how are you -> আপনি কি ভাই কিভাবে\n"
          ]
        },
        {
          "output_type": "stream",
          "name": "stderr",
          "text": [
            "Epoch 11/50:  62%|██████▏   | 602/969 [01:21<00:57,  6.35batch/s, loss=3.62]"
          ]
        },
        {
          "output_type": "stream",
          "name": "stdout",
          "text": [
            "Batch 600 Translation: hello brother how are you -> আপনি কি বন্ধু কতটা\n"
          ]
        },
        {
          "output_type": "stream",
          "name": "stderr",
          "text": [
            "Epoch 11/50:  72%|███████▏  | 702/969 [01:34<00:38,  6.96batch/s, loss=3.8]"
          ]
        },
        {
          "output_type": "stream",
          "name": "stdout",
          "text": [
            "Batch 700 Translation: hello brother how are you -> আপনি কি ভাই কতটা\n"
          ]
        },
        {
          "output_type": "stream",
          "name": "stderr",
          "text": [
            "Epoch 11/50:  83%|████████▎ | 802/969 [01:48<00:24,  6.94batch/s, loss=3.58]"
          ]
        },
        {
          "output_type": "stream",
          "name": "stdout",
          "text": [
            "Batch 800 Translation: hello brother how are you -> আপনি কি ভাই কতটা\n"
          ]
        },
        {
          "output_type": "stream",
          "name": "stderr",
          "text": [
            "Epoch 11/50:  93%|█████████▎| 902/969 [02:02<00:09,  6.97batch/s, loss=3.71]"
          ]
        },
        {
          "output_type": "stream",
          "name": "stdout",
          "text": [
            "Batch 900 Translation: hello brother how are you -> আপনি কি ভাই কতটা\n"
          ]
        },
        {
          "output_type": "stream",
          "name": "stderr",
          "text": [
            "Epoch 11/50: 100%|██████████| 969/969 [02:10<00:00,  7.41batch/s, loss=3.98]\n"
          ]
        },
        {
          "output_type": "stream",
          "name": "stdout",
          "text": [
            "Epoch 11 Training Loss: 3.7668\n",
            "Epoch 11 Validation Loss: 5.4601\n",
            "Model checkpoint saved at epoch 11 with validation loss 5.4601.\n"
          ]
        },
        {
          "output_type": "stream",
          "name": "stderr",
          "text": [
            "Epoch 12/50:   0%|          | 2/969 [00:00<02:50,  5.68batch/s, loss=3.69]"
          ]
        },
        {
          "output_type": "stream",
          "name": "stdout",
          "text": [
            "Batch 0 Translation: hello brother how are you -> আপনি যখন কতটা কতটা\n"
          ]
        },
        {
          "output_type": "stream",
          "name": "stderr",
          "text": [
            "Epoch 12/50:  11%|█         | 102/969 [00:14<02:03,  7.00batch/s, loss=3.46]"
          ]
        },
        {
          "output_type": "stream",
          "name": "stdout",
          "text": [
            "Batch 100 Translation: hello brother how are you -> আপনি কি বন্ধু কত\n"
          ]
        },
        {
          "output_type": "stream",
          "name": "stderr",
          "text": [
            "Epoch 12/50:  21%|██        | 202/969 [00:27<02:01,  6.29batch/s, loss=3.54]"
          ]
        },
        {
          "output_type": "stream",
          "name": "stdout",
          "text": [
            "Batch 200 Translation: hello brother how are you -> আপনি কি বন্ধু কতটা\n"
          ]
        },
        {
          "output_type": "stream",
          "name": "stderr",
          "text": [
            "Epoch 12/50:  31%|███       | 302/969 [00:41<01:50,  6.05batch/s, loss=3.43]"
          ]
        },
        {
          "output_type": "stream",
          "name": "stdout",
          "text": [
            "Batch 300 Translation: hello brother how are you -> আপনি কি ভাই আহমেদ\n"
          ]
        },
        {
          "output_type": "stream",
          "name": "stderr",
          "text": [
            "Epoch 12/50:  41%|████▏     | 402/969 [00:54<01:20,  7.05batch/s, loss=3.63]"
          ]
        },
        {
          "output_type": "stream",
          "name": "stdout",
          "text": [
            "Batch 400 Translation: hello brother how are you -> আপনি কিভাবে ভাই কতটা\n"
          ]
        },
        {
          "output_type": "stream",
          "name": "stderr",
          "text": [
            "Epoch 12/50:  52%|█████▏    | 502/969 [01:08<01:06,  7.00batch/s, loss=3.6]"
          ]
        },
        {
          "output_type": "stream",
          "name": "stdout",
          "text": [
            "Batch 500 Translation: hello brother how are you -> আপনি কি বন্ধু কবে\n"
          ]
        },
        {
          "output_type": "stream",
          "name": "stderr",
          "text": [
            "Epoch 12/50:  62%|██████▏   | 602/969 [01:21<00:51,  7.09batch/s, loss=3.6]"
          ]
        },
        {
          "output_type": "stream",
          "name": "stdout",
          "text": [
            "Batch 600 Translation: hello brother how are you -> আপনি কি বন্ধু কবে\n"
          ]
        },
        {
          "output_type": "stream",
          "name": "stderr",
          "text": [
            "Epoch 12/50:  72%|███████▏  | 702/969 [01:35<00:45,  5.87batch/s, loss=3.55]"
          ]
        },
        {
          "output_type": "stream",
          "name": "stdout",
          "text": [
            "Batch 700 Translation: hello brother how are you -> আপনি কি ভাই ভাই\n"
          ]
        },
        {
          "output_type": "stream",
          "name": "stderr",
          "text": [
            "Epoch 12/50:  83%|████████▎ | 802/969 [01:48<00:26,  6.28batch/s, loss=3.22]"
          ]
        },
        {
          "output_type": "stream",
          "name": "stdout",
          "text": [
            "Batch 800 Translation: hello brother how are you -> আপনি কি ভাই খানের\n"
          ]
        },
        {
          "output_type": "stream",
          "name": "stderr",
          "text": [
            "Epoch 12/50:  93%|█████████▎| 902/969 [02:02<00:09,  6.82batch/s, loss=3.67]"
          ]
        },
        {
          "output_type": "stream",
          "name": "stdout",
          "text": [
            "Batch 900 Translation: hello brother how are you -> আপনি কি বন্ধু ভাই কতটা\n"
          ]
        },
        {
          "output_type": "stream",
          "name": "stderr",
          "text": [
            "Epoch 12/50: 100%|██████████| 969/969 [02:11<00:00,  7.37batch/s, loss=3.92]\n"
          ]
        },
        {
          "output_type": "stream",
          "name": "stdout",
          "text": [
            "Epoch 12 Training Loss: 3.4435\n",
            "Epoch 12 Validation Loss: 5.4385\n",
            "Model checkpoint saved at epoch 12 with validation loss 5.4385.\n"
          ]
        },
        {
          "output_type": "stream",
          "name": "stderr",
          "text": [
            "Epoch 13/50:   0%|          | 2/969 [00:00<02:53,  5.57batch/s, loss=3.13]"
          ]
        },
        {
          "output_type": "stream",
          "name": "stdout",
          "text": [
            "Batch 0 Translation: hello brother how are you -> আপনি কি ভাই কতটা\n"
          ]
        },
        {
          "output_type": "stream",
          "name": "stderr",
          "text": [
            "Epoch 13/50:  11%|█         | 102/969 [00:13<02:27,  5.87batch/s, loss=3.17]"
          ]
        },
        {
          "output_type": "stream",
          "name": "stdout",
          "text": [
            "Batch 100 Translation: hello brother how are you -> আপনি কি ভাই কতটা\n"
          ]
        },
        {
          "output_type": "stream",
          "name": "stderr",
          "text": [
            "Epoch 13/50:  21%|██        | 202/969 [00:27<02:07,  6.01batch/s, loss=3.15]"
          ]
        },
        {
          "output_type": "stream",
          "name": "stdout",
          "text": [
            "Batch 200 Translation: hello brother how are you -> আপনি কি ভাই কতটা\n"
          ]
        },
        {
          "output_type": "stream",
          "name": "stderr",
          "text": [
            "Epoch 13/50:  31%|███       | 302/969 [00:40<01:37,  6.82batch/s, loss=3.12]"
          ]
        },
        {
          "output_type": "stream",
          "name": "stdout",
          "text": [
            "Batch 300 Translation: hello brother how are you -> আপনি কি ভাই আহমেদ\n"
          ]
        },
        {
          "output_type": "stream",
          "name": "stderr",
          "text": [
            "Epoch 13/50:  41%|████▏     | 402/969 [00:54<01:20,  7.08batch/s, loss=2.91]"
          ]
        },
        {
          "output_type": "stream",
          "name": "stdout",
          "text": [
            "Batch 400 Translation: hello brother how are you -> আপনি কি ভাই আহমেদ\n"
          ]
        },
        {
          "output_type": "stream",
          "name": "stderr",
          "text": [
            "Epoch 13/50:  52%|█████▏    | 502/969 [01:08<01:06,  7.05batch/s, loss=3.03]"
          ]
        },
        {
          "output_type": "stream",
          "name": "stdout",
          "text": [
            "Batch 500 Translation: hello brother how are you -> আপনি কি ভাই আহমেদ\n"
          ]
        },
        {
          "output_type": "stream",
          "name": "stderr",
          "text": [
            "Epoch 13/50:  62%|██████▏   | 602/969 [01:21<01:01,  5.97batch/s, loss=3.13]"
          ]
        },
        {
          "output_type": "stream",
          "name": "stdout",
          "text": [
            "Batch 600 Translation: hello brother how are you -> আপনি কি ভাই ভাই\n"
          ]
        },
        {
          "output_type": "stream",
          "name": "stderr",
          "text": [
            "Epoch 13/50:  72%|███████▏  | 702/969 [01:35<00:43,  6.09batch/s, loss=3.32]"
          ]
        },
        {
          "output_type": "stream",
          "name": "stdout",
          "text": [
            "Batch 700 Translation: hello brother how are you -> আপনি যখন ভাই ভাই\n"
          ]
        },
        {
          "output_type": "stream",
          "name": "stderr",
          "text": [
            "Epoch 13/50:  83%|████████▎ | 802/969 [01:48<00:23,  7.04batch/s, loss=3.16]"
          ]
        },
        {
          "output_type": "stream",
          "name": "stdout",
          "text": [
            "Batch 800 Translation: hello brother how are you -> আপনি কি ভাই আহমেদ\n"
          ]
        },
        {
          "output_type": "stream",
          "name": "stderr",
          "text": [
            "Epoch 13/50:  93%|█████████▎| 902/969 [02:02<00:09,  7.04batch/s, loss=3.08]"
          ]
        },
        {
          "output_type": "stream",
          "name": "stdout",
          "text": [
            "Batch 900 Translation: hello brother how are you -> আপনি কি ভাই ভাই\n"
          ]
        },
        {
          "output_type": "stream",
          "name": "stderr",
          "text": [
            "Epoch 13/50: 100%|██████████| 969/969 [02:11<00:00,  7.37batch/s, loss=3.04]\n"
          ]
        },
        {
          "output_type": "stream",
          "name": "stdout",
          "text": [
            "Epoch 13 Training Loss: 3.1225\n",
            "Epoch 13 Validation Loss: 5.4445\n"
          ]
        },
        {
          "output_type": "stream",
          "name": "stderr",
          "text": [
            "Epoch 14/50:   0%|          | 1/969 [00:00<02:57,  5.45batch/s, loss=5.51]"
          ]
        },
        {
          "output_type": "stream",
          "name": "stdout",
          "text": [
            "Batch 0 Translation: hello brother how are you -> আপনি কি ভাই\n"
          ]
        },
        {
          "output_type": "stream",
          "name": "stderr",
          "text": [
            "Epoch 14/50:  11%|█         | 102/969 [00:14<02:08,  6.76batch/s, loss=2.94]"
          ]
        },
        {
          "output_type": "stream",
          "name": "stdout",
          "text": [
            "Batch 100 Translation: hello brother how are you -> আপনি কি ভাই আহমেদ\n"
          ]
        },
        {
          "output_type": "stream",
          "name": "stderr",
          "text": [
            "Epoch 14/50:  21%|██        | 202/969 [00:27<02:06,  6.08batch/s, loss=2.83]"
          ]
        },
        {
          "output_type": "stream",
          "name": "stdout",
          "text": [
            "Batch 200 Translation: hello brother how are you -> আপনি কি ভাই ভাই\n"
          ]
        },
        {
          "output_type": "stream",
          "name": "stderr",
          "text": [
            "Epoch 14/50:  31%|███       | 302/969 [00:40<01:47,  6.19batch/s, loss=2.74]"
          ]
        },
        {
          "output_type": "stream",
          "name": "stdout",
          "text": [
            "Batch 300 Translation: hello brother how are you -> আপনি কি ভাই কবে\n"
          ]
        },
        {
          "output_type": "stream",
          "name": "stderr",
          "text": [
            "Epoch 14/50:  41%|████▏     | 402/969 [00:54<01:20,  7.07batch/s, loss=2.6]"
          ]
        },
        {
          "output_type": "stream",
          "name": "stdout",
          "text": [
            "Batch 400 Translation: hello brother how are you -> আপনি বন্ধু তখন কি\n"
          ]
        },
        {
          "output_type": "stream",
          "name": "stderr",
          "text": [
            "Epoch 14/50:  52%|█████▏    | 502/969 [01:08<01:06,  7.03batch/s, loss=2.68]"
          ]
        },
        {
          "output_type": "stream",
          "name": "stdout",
          "text": [
            "Batch 500 Translation: hello brother how are you -> আপনি কি ভাই আহমেদ\n"
          ]
        },
        {
          "output_type": "stream",
          "name": "stderr",
          "text": [
            "Epoch 14/50:  62%|██████▏   | 602/969 [01:21<00:54,  6.74batch/s, loss=2.7]"
          ]
        },
        {
          "output_type": "stream",
          "name": "stdout",
          "text": [
            "Batch 600 Translation: hello brother how are you -> আপনি কি ভাই আহমেদ\n"
          ]
        },
        {
          "output_type": "stream",
          "name": "stderr",
          "text": [
            "Epoch 14/50:  72%|███████▏  | 702/969 [01:35<00:43,  6.09batch/s, loss=2.81]"
          ]
        },
        {
          "output_type": "stream",
          "name": "stdout",
          "text": [
            "Batch 700 Translation: hello brother how are you -> আপনি কি ভাই আহমেদ\n"
          ]
        },
        {
          "output_type": "stream",
          "name": "stderr",
          "text": [
            "Epoch 14/50:  83%|████████▎ | 802/969 [01:48<00:25,  6.45batch/s, loss=2.76]"
          ]
        },
        {
          "output_type": "stream",
          "name": "stdout",
          "text": [
            "Batch 800 Translation: hello brother how are you -> আপনি কি ভাই আহমেদ\n"
          ]
        },
        {
          "output_type": "stream",
          "name": "stderr",
          "text": [
            "Epoch 14/50:  93%|█████████▎| 902/969 [02:02<00:09,  6.99batch/s, loss=2.97]"
          ]
        },
        {
          "output_type": "stream",
          "name": "stdout",
          "text": [
            "Batch 900 Translation: hello brother how are you -> আপনি কি বন্ধু কবে\n"
          ]
        },
        {
          "output_type": "stream",
          "name": "stderr",
          "text": [
            "Epoch 14/50: 100%|██████████| 969/969 [02:11<00:00,  7.38batch/s, loss=3.01]\n"
          ]
        },
        {
          "output_type": "stream",
          "name": "stdout",
          "text": [
            "Epoch 14 Training Loss: 2.8070\n",
            "Epoch 14 Validation Loss: 5.5027\n"
          ]
        },
        {
          "output_type": "stream",
          "name": "stderr",
          "text": [
            "Epoch 15/50:   0%|          | 2/969 [00:00<02:31,  6.39batch/s, loss=2.57]"
          ]
        },
        {
          "output_type": "stream",
          "name": "stdout",
          "text": [
            "Batch 0 Translation: hello brother how are you -> আপনি কি ভাই ভাই\n"
          ]
        },
        {
          "output_type": "stream",
          "name": "stderr",
          "text": [
            "Epoch 15/50:  11%|█         | 102/969 [00:14<02:11,  6.58batch/s, loss=2.43]"
          ]
        },
        {
          "output_type": "stream",
          "name": "stdout",
          "text": [
            "Batch 100 Translation: hello brother how are you -> আপনি কি ভাই কতটা\n"
          ]
        },
        {
          "output_type": "stream",
          "name": "stderr",
          "text": [
            "Epoch 15/50:  21%|██        | 202/969 [00:27<02:04,  6.14batch/s, loss=2.42]"
          ]
        },
        {
          "output_type": "stream",
          "name": "stdout",
          "text": [
            "Batch 200 Translation: hello brother how are you -> আপনি কি ভাই কতটা\n"
          ]
        },
        {
          "output_type": "stream",
          "name": "stderr",
          "text": [
            "Epoch 15/50:  31%|███       | 302/969 [00:40<01:37,  6.86batch/s, loss=2.5]"
          ]
        },
        {
          "output_type": "stream",
          "name": "stdout",
          "text": [
            "Batch 300 Translation: hello brother how are you -> আপনি কি ভাই ভাই\n"
          ]
        },
        {
          "output_type": "stream",
          "name": "stderr",
          "text": [
            "Epoch 15/50:  41%|████▏     | 402/969 [00:54<01:19,  7.12batch/s, loss=2.54]"
          ]
        },
        {
          "output_type": "stream",
          "name": "stdout",
          "text": [
            "Batch 400 Translation: hello brother how are you -> আপনি বন্ধু কতটা\n"
          ]
        },
        {
          "output_type": "stream",
          "name": "stderr",
          "text": [
            "Epoch 15/50:  52%|█████▏    | 502/969 [01:08<01:07,  6.97batch/s, loss=2.37]"
          ]
        },
        {
          "output_type": "stream",
          "name": "stdout",
          "text": [
            "Batch 500 Translation: hello brother how are you -> আপনি কি ভাই কতটা\n"
          ]
        },
        {
          "output_type": "stream",
          "name": "stderr",
          "text": [
            "Epoch 15/50:  62%|██████▏   | 602/969 [01:22<01:01,  5.96batch/s, loss=2.36]"
          ]
        },
        {
          "output_type": "stream",
          "name": "stdout",
          "text": [
            "Batch 600 Translation: hello brother how are you -> আপনি কি ভাই আহমেদ\n"
          ]
        },
        {
          "output_type": "stream",
          "name": "stderr",
          "text": [
            "Epoch 15/50:  72%|███████▏  | 702/969 [01:35<00:44,  5.94batch/s, loss=2.55]"
          ]
        },
        {
          "output_type": "stream",
          "name": "stdout",
          "text": [
            "Batch 700 Translation: hello brother how are you -> আপনি যদি বন্ধু হন তা\n"
          ]
        },
        {
          "output_type": "stream",
          "name": "stderr",
          "text": [
            "Epoch 15/50:  83%|████████▎ | 802/969 [01:48<00:24,  6.88batch/s, loss=2.63]"
          ]
        },
        {
          "output_type": "stream",
          "name": "stdout",
          "text": [
            "Batch 800 Translation: hello brother how are you -> আপনি কি ভাই আহমেদ তা\n"
          ]
        },
        {
          "output_type": "stream",
          "name": "stderr",
          "text": [
            "Epoch 15/50:  93%|█████████▎| 902/969 [02:02<00:09,  6.74batch/s, loss=2.41]"
          ]
        },
        {
          "output_type": "stream",
          "name": "stdout",
          "text": [
            "Batch 900 Translation: hello brother how are you -> আপনি কি ভাই ভাই\n"
          ]
        },
        {
          "output_type": "stream",
          "name": "stderr",
          "text": [
            "Epoch 15/50: 100%|██████████| 969/969 [02:11<00:00,  7.35batch/s, loss=3.28]\n"
          ]
        },
        {
          "output_type": "stream",
          "name": "stdout",
          "text": [
            "Epoch 15 Training Loss: 2.4996\n",
            "Epoch 15 Validation Loss: 5.5291\n",
            "Early stopping triggered after 3 consecutive epochs without improvement.\n",
            "Training complete.\n",
            "Source: events current\n",
            "Translation: বর্তমান ইভেন্টগুলি\n"
          ]
        }
      ],
      "source": [
        "BATCH_SIZE = 64\n",
        "EMBED_DIM = 300\n",
        "NUM_HEADS = 8\n",
        "NUM_ENCODER_LAYERS = 6\n",
        "NUM_DECODER_LAYERS = 6\n",
        "DROPOUT = 0.3\n",
        "LEARNING_RATE = 0.0001\n",
        "NUM_EPOCHS = 50\n",
        "\n",
        "device = torch.device(\"cuda\" if torch.cuda.is_available() else \"cpu\")\n",
        "\n",
        "model = NeuralTransformer(\n",
        "    source_vocab_size=len(en_word2index),target_vocab_size=len(de_word2index),embedding_dimension=embedding_dim, attention_heads=6,encoder_layers=6,\n",
        "    decoder_layers=6,dropout_rate=0.1,maximum_sequence_length=MAX_SEQ_LEN,source_embeddings=source_embeddings, target_embeddings=target_embeddings\n",
        ").to(device)\n",
        "\n",
        "\n",
        "criterion = nn.CrossEntropyLoss(ignore_index=de_word2index[\"<PAD>\"])\n",
        "optimizer = optim.Adam(model.parameters(), lr=LEARNING_RATE, weight_decay=1e-5)\n",
        "scheduler = ReduceLROnPlateau(optimizer, mode='min', factor=0.5, patience=3)\n",
        "\n",
        "train_transformer_model(\n",
        "    model=model,\n",
        "    training_data_loader=train_loader,\n",
        "    validation_data_loader=val_loader,\n",
        "    optimizer=optimizer,\n",
        "    scheduler=scheduler,\n",
        "    loss_criterion=criterion,\n",
        "    num_epochs=NUM_EPOCHS,\n",
        "    device=device,\n",
        "    source_vocab=en_word2index,\n",
        "    target_vocab=de_word2index,\n",
        "    max_sequence_length=MAX_SEQ_LEN,\n",
        "    save_path=\"best_model.pth\"\n",
        ")\n",
        "\n",
        "random_sentence = en_test[0]\n",
        "translated_sentence = sentence_translation(random_sentence, model, en_word2index, de_word2index, MAX_SEQ_LEN)\n",
        "print(f\"Source: {' '.join(random_sentence)}\")\n",
        "print(f\"Translation: {' '.join(translated_sentence)}\")"
      ]
    },
    {
      "cell_type": "markdown",
      "source": [
        "**Samle exmples of translations by trained model:**"
      ],
      "metadata": {
        "id": "Ox_bJz6phvq8"
      }
    },
    {
      "cell_type": "code",
      "execution_count": null,
      "metadata": {
        "id": "-HFySS82Zxdk",
        "outputId": "475b0231-8540-4c18-b2d1-69bbf5800593",
        "colab": {
          "base_uri": "https://localhost:8080/"
        }
      },
      "outputs": [
        {
          "output_type": "stream",
          "name": "stdout",
          "text": [
            "Source: vishnu marry could she before shankhachuda daitya the marry to have would she that her told but penance her with pleased was brahma god the\n",
            "Translation: ভগবানকে স্বামী করার জন্য শঙ্কর ছিলেন কিন্তু তিনি তাকে তিনি প্রণাম করার আগে তিনি তাঁর অবিবাহিত বিয়ে করতে হবে ।\n"
          ]
        }
      ],
      "source": [
        "random_sentence = en_test[1]\n",
        "translated_sentence = sentence_translation(random_sentence, model, en_word2index, de_word2index, MAX_SEQ_LEN)\n",
        "print(f\"Source: {' '.join(random_sentence)}\")\n",
        "print(f\"Translation: {' '.join(translated_sentence)}\")"
      ]
    },
    {
      "cell_type": "code",
      "execution_count": null,
      "metadata": {
        "id": "dz4fYvZgZxdk",
        "outputId": "1cab1eaf-7546-4f4c-fd1b-2588570af2e1",
        "colab": {
          "base_uri": "https://localhost:8080/"
        }
      },
      "outputs": [
        {
          "output_type": "stream",
          "name": "stdout",
          "text": [
            "Source: honey with ginger of juice consuming by relief gets one breath taking while heaviness or chest in stiffness feeling after\n",
            "Translation: নিশ্বাস নেওয়ার পর মাথা ব্যাথা বা ব্যাথা অনুভব করার সময় মধু পান করলে এক চামচ রস আরাম পাওয়া যায় ।\n"
          ]
        }
      ],
      "source": [
        "random_sentence = en_test[2]\n",
        "translated_sentence = sentence_translation(random_sentence, model, en_word2index, de_word2index, MAX_SEQ_LEN)\n",
        "print(f\"Source: {' '.join(random_sentence)}\")\n",
        "print(f\"Translation: {' '.join(translated_sentence)}\")"
      ]
    },
    {
      "cell_type": "code",
      "execution_count": null,
      "metadata": {
        "id": "uq9y_jacZxdl",
        "outputId": "98e2578a-535a-4ad5-ff3c-4a2ddf065cfd",
        "colab": {
          "base_uri": "https://localhost:8080/"
        }
      },
      "outputs": [
        {
          "output_type": "stream",
          "name": "stdout",
          "text": [
            "Source: fast\n",
            "Translation: দ্রুত\n"
          ]
        }
      ],
      "source": [
        "random_sentence = en_test[15]\n",
        "translated_sentence = sentence_translation(random_sentence, model, en_word2index, de_word2index, MAX_SEQ_LEN)\n",
        "print(f\"Source: {' '.join(random_sentence)}\")\n",
        "print(f\"Translation: {' '.join(translated_sentence)}\")"
      ]
    },
    {
      "cell_type": "markdown",
      "source": [
        "**Code to load saved model checkpoint:**"
      ],
      "metadata": {
        "id": "Q1xYuwx_hzJ4"
      }
    },
    {
      "cell_type": "code",
      "execution_count": null,
      "metadata": {
        "id": "ucXJSGNqZxdl"
      },
      "outputs": [],
      "source": [
        "def load_model(save_path, model, optimizer, scheduler, device):\n",
        "    checkpoint = torch.load(save_path, map_location=device)\n",
        "    model.load_state_dict(checkpoint['model_state_dict'])\n",
        "    optimizer.load_state_dict(checkpoint['optimizer_state_dict'])\n",
        "    scheduler.load_state_dict(checkpoint['scheduler_state_dict'])\n",
        "    scaler = torch.cuda.amp.GradScaler()\n",
        "    scaler.load_state_dict(checkpoint['scaler_state_dict'])\n",
        "    print(f\"Model loaded from checkpoint at epoch {checkpoint['epoch']} with validation loss {checkpoint['best_validation_loss']:.4f}.\")\n",
        "    return model, optimizer, scheduler, scaler"
      ]
    },
    {
      "cell_type": "markdown",
      "metadata": {
        "id": "-5zCFGGn1VSh",
        "jp-MarkdownHeadingCollapsed": true
      },
      "source": [
        "### **Generating Predictions for Test file:**"
      ]
    },
    {
      "cell_type": "markdown",
      "source": [
        "This class allows us to retrieve pair of an ID and its corresponding sentence by index."
      ],
      "metadata": {
        "id": "WmZLF1gmh3i_"
      }
    },
    {
      "cell_type": "code",
      "source": [
        "class TestDataset(Dataset):\n",
        "    def __init__(self, ids, sentences):\n",
        "        self.ids = ids\n",
        "        self.sentences = sentences\n",
        "    def __len__(self):\n",
        "        return len(self.ids)\n",
        "    def __getitem__(self, index):\n",
        "        return self.ids[index], self.sentences[index]"
      ],
      "metadata": {
        "id": "juysFCLbh27t"
      },
      "execution_count": null,
      "outputs": []
    },
    {
      "cell_type": "markdown",
      "source": [
        "This function takes batch of sentences in one language and translates them into another using a model. It first fixes the length of input sentences and pads them. It starts off each sentence of the batch with <SOS> token and then iteratively predicts the next word until it hits either an <EOS> token or it hits its max sequence length. It finally converts the predicted tokens back into words using the target vocabulary and returns the translated sentences."
      ],
      "metadata": {
        "id": "jynecOFsh81q"
      }
    },
    {
      "cell_type": "code",
      "source": [
        "def batch_translate(sentences, model, source_vocab, target_vocab, max_sequence_length):\n",
        "    tokenized_sentences = [pad_sequence(preprocess_english([sentence])[0], source_vocab, max_sequence_length) for sentence in sentences]\n",
        "    source_tensor = torch.tensor(tokenized_sentences).to(device)\n",
        "    batch_size = len(sentences)\n",
        "    target_tokens = torch.tensor([[target_vocab[\"<SOS>\"]] for _ in range(batch_size)], device=device)\n",
        "    translated_sentences = [[] for _ in range(batch_size)]\n",
        "\n",
        "    with torch.set_grad_enabled(False):\n",
        "        for _ in range(max_sequence_length):\n",
        "            predicted_output = model(source_tensor, target_tokens)\n",
        "            next_tokens = predicted_output.argmax(2)[:, -1]\n",
        "            target_tokens = torch.cat([target_tokens, next_tokens.unsqueeze(1)], dim=1)\n",
        "            for i, token in enumerate(next_tokens):\n",
        "                if token.item() != target_vocab[\"<EOS>\"]:\n",
        "                    translated_sentences[i].append(token.item())\n",
        "    translated_sentences = [\" \".join([list(target_vocab.keys())[tok] for tok in sentence]) for sentence in translated_sentences]\n",
        "    return translated_sentences"
      ],
      "metadata": {
        "id": "5pK7fBzfh_vY"
      },
      "execution_count": null,
      "outputs": []
    },
    {
      "cell_type": "markdown",
      "source": [
        "This function takes test sentences, translates them in a batch manner, and saves the results to a CSV file. First, it initializes dataloader to process the sentences in batches. Then for every batch it calls batch_translate function to translate sentences. It collects these translations and writes them to columns in a CSV file for their IDs and translations."
      ],
      "metadata": {
        "id": "Md9lcUafiMd8"
      }
    },
    {
      "cell_type": "code",
      "source": [
        "def save_test_translations_to_csv_batch( test_ids, test_sentences, model, source_vocab, target_vocab, max_sequence_length,  output_csv_path, batch_size=32):\n",
        "    dataset = TestDataset(test_ids, test_sentences)\n",
        "    dataloader = DataLoader(dataset, batch_size=batch_size, shuffle=False, collate_fn=lambda x: x)\n",
        "    translations = []\n",
        "    model = model.to(device)\n",
        "\n",
        "    for batch in tqdm(dataloader, total=len(dataloader), desc=\"Translating Sentences in Batches\"):\n",
        "        batch_ids, batch_sentences = zip(*batch)\n",
        "        translated_sentences = batch_translate(\n",
        "            sentences=batch_sentences,\n",
        "            model=model,\n",
        "            source_vocab=source_vocab,\n",
        "            target_vocab=target_vocab,\n",
        "            max_sequence_length=max_sequence_length\n",
        "        )\n",
        "        translations.extend(zip(batch_ids, translated_sentences))\n",
        "\n",
        "    with open(output_csv_path, mode='w', encoding='utf-8', newline='') as file:\n",
        "        writer = csv.writer(file)\n",
        "        writer.writerow([\"ID\", \"Translation\"])\n",
        "        writer.writerows(translations)\n",
        "    print(f\"Translations saved to {output_csv_path}\")\n"
      ],
      "metadata": {
        "id": "8uyzQaMaiOg4"
      },
      "execution_count": null,
      "outputs": []
    },
    {
      "cell_type": "markdown",
      "source": [
        "Loads Test Json file and fetches all the test sentences and calls save_test_translations_to_csv_batch."
      ],
      "metadata": {
        "id": "zpJ7o_T8iQlc"
      }
    },
    {
      "cell_type": "code",
      "execution_count": null,
      "metadata": {
        "colab": {
          "base_uri": "https://localhost:8080/"
        },
        "id": "r3tuqJW513mX",
        "outputId": "63cc1c81-fa7f-4473-e84e-61e88c27c620"
      },
      "outputs": [
        {
          "output_type": "stream",
          "name": "stdout",
          "text": [
            "Language Pair: English-Bengali\n",
            "Data Type: Test\n",
            "Total test sentences: 19672\n"
          ]
        },
        {
          "output_type": "stream",
          "name": "stderr",
          "text": [
            "Translating Sentences in Batches: 100%|██████████| 308/308 [29:02<00:00,  5.66s/it]"
          ]
        },
        {
          "output_type": "stream",
          "name": "stdout",
          "text": [
            "Translations saved to answersB.csv\n"
          ]
        },
        {
          "output_type": "stream",
          "name": "stderr",
          "text": [
            "\n"
          ]
        }
      ],
      "source": [
        "TEST_PATH = 'test_data1_final.json'\n",
        "\n",
        "source_sentences_test = []\n",
        "id_test = []\n",
        "\n",
        "with open(TEST_PATH, 'r', encoding='utf-8') as file:\n",
        "    data = json.load(file)\n",
        "\n",
        "for language_pair, language_data in data.items():\n",
        "    if(language_pair == \"English-Bengali\"):\n",
        "      print(f\"Language Pair: {language_pair}\")\n",
        "      for data_type, data_entries in language_data.items():\n",
        "          print(f\"Data Type: {data_type}\")\n",
        "          for entry_id, entry_data in data_entries.items():\n",
        "              source = entry_data[\"source\"]\n",
        "              if (data_type == \"Test\"):\n",
        "                source_sentences_test.append(source)\n",
        "                id_test.append(entry_id)\n",
        "print(f\"Total test sentences: {len(source_sentences_test)}\")\n",
        "\n",
        "\n",
        "save_test_translations_to_csv_batch(\n",
        "    test_ids=id_test,\n",
        "    test_sentences=source_sentences_test,\n",
        "    model=model,\n",
        "    source_vocab=en_word2index,\n",
        "    target_vocab=de_word2index,\n",
        "    max_sequence_length=MAX_SEQ_LEN,\n",
        "    output_csv_path=\"answersB.csv\",\n",
        "    batch_size=64\n",
        ")\n"
      ]
    },
    {
      "cell_type": "markdown",
      "metadata": {
        "id": "TeyjBDC7JF6X"
      },
      "source": [
        "### **Merging Bengali-Hindi Results:**"
      ]
    },
    {
      "cell_type": "code",
      "execution_count": null,
      "metadata": {
        "id": "Nl137oqzJDmI"
      },
      "outputs": [],
      "source": [
        "import pandas as pd\n",
        "df1 = pd.read_csv(\"/content/answersB.csv\")\n",
        "df2= pd.read_csv(\"/content/answersH.csv\")\n",
        "df3 = pd.concat([df1, df2])\n",
        "\n",
        "df3.to_csv('answersBH.csv', index = False)\n",
        "filtered_data = pd.read_csv(\"/content/answersBH.csv\")\n",
        "answer = \"/content/answer.csv\"\n",
        "with open(answer, \"w\") as f:\n",
        "  f.writelines(\"ID\\tTranslation\\n\")\n",
        "  for i in range(filtered_data.shape[0]):\n",
        "    f.writelines(f'{filtered_data[\"ID\"][i]}\\t\"{filtered_data[\"Translation\"][i]}\"\\n')"
      ]
    }
  ],
  "metadata": {
    "colab": {
      "provenance": [],
      "gpuType": "T4"
    },
    "kernelspec": {
      "display_name": "Python 3",
      "name": "python3"
    },
    "language_info": {
      "codemirror_mode": {
        "name": "ipython",
        "version": 3
      },
      "file_extension": ".py",
      "mimetype": "text/x-python",
      "name": "python",
      "nbconvert_exporter": "python",
      "pygments_lexer": "ipython3",
      "version": "3.12.7"
    },
    "accelerator": "GPU"
  },
  "nbformat": 4,
  "nbformat_minor": 0
}