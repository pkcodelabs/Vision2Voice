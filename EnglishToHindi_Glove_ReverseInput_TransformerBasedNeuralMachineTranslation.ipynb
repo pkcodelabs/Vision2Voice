{
  "cells": [
    {
      "cell_type": "markdown",
      "metadata": {
        "id": "BXCK12SqsiPf"
      },
      "source": [
        "# **English - Hindi:**"
      ]
    },
    {
      "cell_type": "markdown",
      "metadata": {
        "id": "OR06Lt4wqnU5",
        "jp-MarkdownHeadingCollapsed": true
      },
      "source": [
        "### **Library Installs:**"
      ]
    },
    {
      "cell_type": "code",
      "execution_count": null,
      "metadata": {
        "colab": {
          "base_uri": "https://localhost:8080/"
        },
        "id": "_dLzz6fabw9E",
        "outputId": "0425d64e-a02f-449b-f6d0-b26327e10a38"
      },
      "outputs": [
        {
          "output_type": "stream",
          "name": "stdout",
          "text": [
            "Collecting indic-nlp-library\n",
            "  Downloading indic_nlp_library-0.92-py3-none-any.whl.metadata (5.7 kB)\n",
            "Collecting sphinx-argparse (from indic-nlp-library)\n",
            "  Downloading sphinx_argparse-0.5.2-py3-none-any.whl.metadata (3.7 kB)\n",
            "Collecting sphinx-rtd-theme (from indic-nlp-library)\n",
            "  Downloading sphinx_rtd_theme-3.0.2-py2.py3-none-any.whl.metadata (4.4 kB)\n",
            "Collecting morfessor (from indic-nlp-library)\n",
            "  Downloading Morfessor-2.0.6-py3-none-any.whl.metadata (628 bytes)\n",
            "Requirement already satisfied: pandas in /usr/local/lib/python3.10/dist-packages (from indic-nlp-library) (2.2.2)\n",
            "Requirement already satisfied: numpy in /usr/local/lib/python3.10/dist-packages (from indic-nlp-library) (1.26.4)\n",
            "Requirement already satisfied: python-dateutil>=2.8.2 in /usr/local/lib/python3.10/dist-packages (from pandas->indic-nlp-library) (2.8.2)\n",
            "Requirement already satisfied: pytz>=2020.1 in /usr/local/lib/python3.10/dist-packages (from pandas->indic-nlp-library) (2024.2)\n",
            "Requirement already satisfied: tzdata>=2022.7 in /usr/local/lib/python3.10/dist-packages (from pandas->indic-nlp-library) (2024.2)\n",
            "Requirement already satisfied: sphinx>=5.1.0 in /usr/local/lib/python3.10/dist-packages (from sphinx-argparse->indic-nlp-library) (8.1.3)\n",
            "Requirement already satisfied: docutils>=0.19 in /usr/local/lib/python3.10/dist-packages (from sphinx-argparse->indic-nlp-library) (0.21.2)\n",
            "Collecting sphinxcontrib-jquery<5,>=4 (from sphinx-rtd-theme->indic-nlp-library)\n",
            "  Downloading sphinxcontrib_jquery-4.1-py2.py3-none-any.whl.metadata (2.6 kB)\n",
            "Requirement already satisfied: six>=1.5 in /usr/local/lib/python3.10/dist-packages (from python-dateutil>=2.8.2->pandas->indic-nlp-library) (1.16.0)\n",
            "Requirement already satisfied: sphinxcontrib-applehelp>=1.0.7 in /usr/local/lib/python3.10/dist-packages (from sphinx>=5.1.0->sphinx-argparse->indic-nlp-library) (2.0.0)\n",
            "Requirement already satisfied: sphinxcontrib-devhelp>=1.0.6 in /usr/local/lib/python3.10/dist-packages (from sphinx>=5.1.0->sphinx-argparse->indic-nlp-library) (2.0.0)\n",
            "Requirement already satisfied: sphinxcontrib-htmlhelp>=2.0.6 in /usr/local/lib/python3.10/dist-packages (from sphinx>=5.1.0->sphinx-argparse->indic-nlp-library) (2.1.0)\n",
            "Requirement already satisfied: sphinxcontrib-jsmath>=1.0.1 in /usr/local/lib/python3.10/dist-packages (from sphinx>=5.1.0->sphinx-argparse->indic-nlp-library) (1.0.1)\n",
            "Requirement already satisfied: sphinxcontrib-qthelp>=1.0.6 in /usr/local/lib/python3.10/dist-packages (from sphinx>=5.1.0->sphinx-argparse->indic-nlp-library) (2.0.0)\n",
            "Requirement already satisfied: sphinxcontrib-serializinghtml>=1.1.9 in /usr/local/lib/python3.10/dist-packages (from sphinx>=5.1.0->sphinx-argparse->indic-nlp-library) (2.0.0)\n",
            "Requirement already satisfied: Jinja2>=3.1 in /usr/local/lib/python3.10/dist-packages (from sphinx>=5.1.0->sphinx-argparse->indic-nlp-library) (3.1.4)\n",
            "Requirement already satisfied: Pygments>=2.17 in /usr/local/lib/python3.10/dist-packages (from sphinx>=5.1.0->sphinx-argparse->indic-nlp-library) (2.18.0)\n",
            "Requirement already satisfied: snowballstemmer>=2.2 in /usr/local/lib/python3.10/dist-packages (from sphinx>=5.1.0->sphinx-argparse->indic-nlp-library) (2.2.0)\n",
            "Requirement already satisfied: babel>=2.13 in /usr/local/lib/python3.10/dist-packages (from sphinx>=5.1.0->sphinx-argparse->indic-nlp-library) (2.16.0)\n",
            "Requirement already satisfied: alabaster>=0.7.14 in /usr/local/lib/python3.10/dist-packages (from sphinx>=5.1.0->sphinx-argparse->indic-nlp-library) (1.0.0)\n",
            "Requirement already satisfied: imagesize>=1.3 in /usr/local/lib/python3.10/dist-packages (from sphinx>=5.1.0->sphinx-argparse->indic-nlp-library) (1.4.1)\n",
            "Requirement already satisfied: requests>=2.30.0 in /usr/local/lib/python3.10/dist-packages (from sphinx>=5.1.0->sphinx-argparse->indic-nlp-library) (2.32.3)\n",
            "Requirement already satisfied: packaging>=23.0 in /usr/local/lib/python3.10/dist-packages (from sphinx>=5.1.0->sphinx-argparse->indic-nlp-library) (24.2)\n",
            "Requirement already satisfied: tomli>=2 in /usr/local/lib/python3.10/dist-packages (from sphinx>=5.1.0->sphinx-argparse->indic-nlp-library) (2.1.0)\n",
            "Requirement already satisfied: MarkupSafe>=2.0 in /usr/local/lib/python3.10/dist-packages (from Jinja2>=3.1->sphinx>=5.1.0->sphinx-argparse->indic-nlp-library) (3.0.2)\n",
            "Requirement already satisfied: charset-normalizer<4,>=2 in /usr/local/lib/python3.10/dist-packages (from requests>=2.30.0->sphinx>=5.1.0->sphinx-argparse->indic-nlp-library) (3.4.0)\n",
            "Requirement already satisfied: idna<4,>=2.5 in /usr/local/lib/python3.10/dist-packages (from requests>=2.30.0->sphinx>=5.1.0->sphinx-argparse->indic-nlp-library) (3.10)\n",
            "Requirement already satisfied: urllib3<3,>=1.21.1 in /usr/local/lib/python3.10/dist-packages (from requests>=2.30.0->sphinx>=5.1.0->sphinx-argparse->indic-nlp-library) (2.2.3)\n",
            "Requirement already satisfied: certifi>=2017.4.17 in /usr/local/lib/python3.10/dist-packages (from requests>=2.30.0->sphinx>=5.1.0->sphinx-argparse->indic-nlp-library) (2024.8.30)\n",
            "Downloading indic_nlp_library-0.92-py3-none-any.whl (40 kB)\n",
            "\u001b[2K   \u001b[90m━━━━━━━━━━━━━━━━━━━━━━━━━━━━━━━━━━━━━━━━\u001b[0m \u001b[32m40.3/40.3 kB\u001b[0m \u001b[31m3.4 MB/s\u001b[0m eta \u001b[36m0:00:00\u001b[0m\n",
            "\u001b[?25hDownloading Morfessor-2.0.6-py3-none-any.whl (35 kB)\n",
            "Downloading sphinx_argparse-0.5.2-py3-none-any.whl (12 kB)\n",
            "Downloading sphinx_rtd_theme-3.0.2-py2.py3-none-any.whl (7.7 MB)\n",
            "\u001b[2K   \u001b[90m━━━━━━━━━━━━━━━━━━━━━━━━━━━━━━━━━━━━━━━━\u001b[0m \u001b[32m7.7/7.7 MB\u001b[0m \u001b[31m88.4 MB/s\u001b[0m eta \u001b[36m0:00:00\u001b[0m\n",
            "\u001b[?25hDownloading sphinxcontrib_jquery-4.1-py2.py3-none-any.whl (121 kB)\n",
            "\u001b[2K   \u001b[90m━━━━━━━━━━━━━━━━━━━━━━━━━━━━━━━━━━━━━━━━\u001b[0m \u001b[32m121.1/121.1 kB\u001b[0m \u001b[31m10.1 MB/s\u001b[0m eta \u001b[36m0:00:00\u001b[0m\n",
            "\u001b[?25hInstalling collected packages: morfessor, sphinxcontrib-jquery, sphinx-argparse, sphinx-rtd-theme, indic-nlp-library\n",
            "Successfully installed indic-nlp-library-0.92 morfessor-2.0.6 sphinx-argparse-0.5.2 sphinx-rtd-theme-3.0.2 sphinxcontrib-jquery-4.1\n"
          ]
        }
      ],
      "source": [
        "pip install indic-nlp-library\n"
      ]
    },
    {
      "cell_type": "markdown",
      "metadata": {
        "id": "FZpKYhK1qt46",
        "jp-MarkdownHeadingCollapsed": true
      },
      "source": [
        "### **Imports:**"
      ]
    },
    {
      "cell_type": "code",
      "execution_count": null,
      "metadata": {
        "colab": {
          "base_uri": "https://localhost:8080/"
        },
        "id": "AsCY5q9MqxmP",
        "outputId": "1c214e6a-907d-4474-b631-166a66c63752"
      },
      "outputs": [
        {
          "output_type": "stream",
          "name": "stderr",
          "text": [
            "[nltk_data] Downloading package punkt to /root/nltk_data...\n",
            "[nltk_data]   Unzipping tokenizers/punkt.zip.\n",
            "[nltk_data] Downloading package punkt_tab to /root/nltk_data...\n",
            "[nltk_data]   Unzipping tokenizers/punkt_tab.zip.\n"
          ]
        },
        {
          "output_type": "execute_result",
          "data": {
            "text/plain": [
              "True"
            ]
          },
          "metadata": {},
          "execution_count": 3
        }
      ],
      "source": [
        "import torch\n",
        "import torch.nn as nn\n",
        "import torch.nn.functional as F\n",
        "from torch.utils.data import DataLoader, TensorDataset\n",
        "import json\n",
        "import numpy as np\n",
        "import re\n",
        "import spacy\n",
        "import string\n",
        "import nltk\n",
        "import pandas as pd\n",
        "import matplotlib.pyplot as plt\n",
        "from collections import Counter\n",
        "from indicnlp.normalize.indic_normalize import IndicNormalizerFactory\n",
        "from indicnlp.tokenize import indic_tokenize\n",
        "from sklearn.model_selection import train_test_split\n",
        "import torch.optim as optim\n",
        "from torch.utils.data import DataLoader, Dataset\n",
        "import math\n",
        "from tqdm import tqdm\n",
        "import csv\n",
        "from torch.optim.lr_scheduler import ReduceLROnPlateau\n",
        "nltk.download('punkt')\n",
        "nltk.download('punkt_tab')"
      ]
    },
    {
      "cell_type": "markdown",
      "metadata": {
        "id": "5MgmMOlRrB3g"
      },
      "source": [
        "### **Data Loading from JSON files:**"
      ]
    },
    {
      "cell_type": "code",
      "execution_count": null,
      "metadata": {
        "colab": {
          "base_uri": "https://localhost:8080/"
        },
        "id": "dyy9nOjgOjL5",
        "outputId": "7080379e-d5b2-4b0a-b9d6-d77f3b21dd34"
      },
      "outputs": [
        {
          "output_type": "stream",
          "name": "stdout",
          "text": [
            "Language Pair: English-Hindi\n",
            "  Data Type: Train\n",
            "Language Pair: English-Hindi\n",
            "  Data Type: Test\n"
          ]
        }
      ],
      "source": [
        "TRAIN_PATH = 'train_data1.json'\n",
        "TEST_PATH = 'test_data1_final.json'\n",
        "\n",
        "with open(TRAIN_PATH, 'r', encoding='utf-8') as file:\n",
        "    data = json.load(file)\n",
        "\n",
        "source_sentences_train = []\n",
        "target_sentences_train = []\n",
        "\n",
        "source_sentences_val = []\n",
        "target_sentences_val = []\n",
        "\n",
        "id_train = []\n",
        "id_val = []\n",
        "\n",
        "for language_pair, language_data in data.items():\n",
        "    if(language_pair == \"English-Hindi\"):\n",
        "      print(f\"Language Pair: {language_pair}\")\n",
        "      for data_type, data_entries in language_data.items():\n",
        "          print(f\"  Data Type: {data_type}\")\n",
        "          for entry_id, entry_data in data_entries.items():\n",
        "              source = entry_data[\"source\"]\n",
        "              target = entry_data[\"target\"]\n",
        "              if (data_type == \"Validation\"):\n",
        "                source_sentences_val.append(source)\n",
        "                target_sentences_val.append(target)\n",
        "                id_val.append(entry_id)\n",
        "              else:\n",
        "                source_sentences_train.append(source)\n",
        "                target_sentences_train.append(target)\n",
        "                id_train.append(entry_id)\n",
        "\n",
        "with open(TEST_PATH, 'r', encoding='utf-8') as file:\n",
        "    data = json.load(file)\n",
        "\n",
        "for language_pair, language_data in data.items():\n",
        "    if(language_pair == \"English-Hindi\"):\n",
        "      print(f\"Language Pair: {language_pair}\")\n",
        "      for data_type, data_entries in language_data.items():\n",
        "          print(f\"  Data Type: {data_type}\")\n",
        "          for entry_id, entry_data in data_entries.items():\n",
        "              source = entry_data[\"source\"]\n",
        "              if (data_type == \"Test\"):\n",
        "                source_sentences_val.append(source)\n",
        "                id_val.append(entry_id)"
      ]
    },
    {
      "cell_type": "markdown",
      "metadata": {
        "id": "R9JtQ0VKrKZo"
      },
      "source": [
        "### **Data PreProcessing:**"
      ]
    },
    {
      "cell_type": "markdown",
      "source": [
        "**Reference:** https://doi.org/10.48550/arXiv.1409.3215\n",
        "\n",
        "In this paper authors verified that reversing the source sentences while doing machine translation improved the results. I have taken this insight and used in my code.\n",
        "\n",
        "> `\"Finally, we found that reversing the order of the words in all source sentences (but not target sentences) improved the LSTM's performance markedly, because doing so introduced many short term dependencies between the source and the target sentence which made the optimization problem easier.\"`\n",
        "\n",
        "\n",
        "**English Preprocessing:**\n",
        "1. Sentences are converted to lowercase.\n",
        "2. Each sentence is tokenized using spaCy, retaining only alphabetical tokens (removing punctuation and numbers).\n",
        "3. The order of tokens is reversed in each sentence.\n",
        "\n",
        "**Hindi Preprocessing:**\n",
        "1. Sentences are normalized using the IndicNormalizer to handle inconsistencies like Unicode normalization.\n",
        "2. Numbers and punctuation are removed.\n",
        "3. Sentences are tokenized using a trivial tokenizer from Indic NLP library which is suitable for Indic languages.\n"
      ],
      "metadata": {
        "id": "0-V2hEJmHkL_"
      }
    },
    {
      "cell_type": "code",
      "execution_count": null,
      "metadata": {
        "id": "vfl9KGCsrJpU",
        "colab": {
          "base_uri": "https://localhost:8080/"
        },
        "outputId": "1bb547e8-e846-4bd5-ddd2-53d8b737fa42"
      },
      "outputs": [
        {
          "output_type": "stream",
          "name": "stdout",
          "text": [
            "['calendar', 'my', 'on', 'everything', 'cancel']\n",
            "['मेरे', 'कैलेंडर', 'पर', 'सब', 'कुछ', 'रद्द', 'करें']\n",
            "\n",
            "\n",
            "['vasocodilation', 'prevent', 'to', 'and', 'tone', 'muscle', 'vascular', 'regulate', 'to', 'is', 'hormones', 'these', 'of', 'function', 'important', 'an', 'am', 'around', 'level', 'low', 'a', 'reaching', 'evening', 'the', 'during', 'off', 'taper', 'and', 'morning', 'the', 'during', 'peak', 'their', 'at', 'are', 'levels', 'hormone', 'adrenal']\n",
            "['अधिवृक्क', 'के', 'हार्मोन', 'का', 'स्तर', 'प्रातःकाल', 'में', 'अपने', 'शिखर', 'पर', 'होता', 'है', 'और', 'लगभग', 'दोपहर', 'बजे', 'एक', 'निम्न', 'स्तर', 'पर', 'पहुंचते', 'हुए', 'संध्याकाल', 'में', 'धीरेधीरे', 'कम', 'हो', 'जाता', 'है', '।', 'इन', 'हार्मोनों', 'का', 'वाहिकीय', 'मांसपेशी', 'के', 'तान', 'को', 'नियंत्रित', 'करने', 'और', 'वाहिकाविस्फार', 'से', 'बचाने', 'का', 'एक', 'महत्त्वपूर्ण']\n",
            "\n",
            "\n",
            "['grams', 'tola', 'per', 'meters', 'yards', 'being', 'quality', 'the', 'surat', 'from', 'obtained', 'are', 'threads', 'golden']\n",
            "['स्वर्ण', 'धागे', 'सूरत', 'से', 'प्राप्त', 'होते', 'हैं', 'जिनकी', 'गुणवत्ता', 'गज़', 'मीटर', 'प्रति', 'तोला', 'ग्राम', 'है', '।']\n",
            "\n",
            "\n",
            "['seconds', 'within', 'agglutination', 'for', 'look']\n",
            "['सेकेण्ड', 'के', 'भीतर', 'एग्लूटिनेशन', 'देखें', '।']\n",
            "\n",
            "\n",
            "['also', 'literature', 'their', 'in', 'reflected', 'is', 'life', 'their', 'of', 'informality', 'and', 'nonpompousness', 'the']\n",
            "['उनके', 'जीवन', 'की', 'आडंबरहीनता', 'एवं', 'अनौपचारिकता', 'उनके', 'साहित्य', 'में', 'भी', 'प्रतिबिंबित', 'होती', 'है', '।']\n",
            "\n",
            "\n",
            "['champion', 'chess', 'world', 'undisputed', 'the', 'kramnik', 'made', 'and', 'titles', 'the', 'reunified', 'topalov', 'veselin', 'champion', 'world', 'fide', 'the', 'beat', 'kramnik', 'which', 'in', 'championship', 'chess', 'world', 'the']\n",
            "['विश्व', 'शतरंज', 'चैम्पियनशिप', 'जिसमें', 'क्रैमनिक', 'ने', 'एफआईडीई', 'विश्व', 'चैंपियन', 'वेसलिन', 'टोपालोव', 'को', 'हराया', 'था', 'ने', 'खिताब', 'को', 'फिर', 'से', 'एकीकृत', 'किया', 'और', 'क्रैमनिक', 'को', 'निर्विवाद', 'विश्व', 'शतरंज', 'चैंपियन', 'बना', 'दिया', '।']\n",
            "\n",
            "\n",
            "['into', 'snuggled', 'be', 'to', 'to', 'beg', 'simply', 'workshops', 'handloom', 's', '’', 'gujarat', 'in', 'produced', 'shawls', 'and', 'rugs', 'embroidered', 'heavily', 'the']\n",
            "['गुजरात', 'के', 'हथकरघा', 'कारखाने', 'में', 'बनने', 'वाले', 'कशीदेदार', 'गलीचे', 'और', 'शॉल', 'आसानी', 'से', 'छाती', 'से', 'लगाने', 'लायक', 'हैं', '।']\n",
            "\n",
            "\n",
            "['function', 'a', 'to', 'local', 'be', 'can', 'names', 'variable', 'which', 'in', 'way', 'a', 'need', 'we', 'therefore', 'so']\n",
            "['तो', 'इसलिए', 'हमें', 'एक', 'ऐसे', 'तरीके', 'की', 'आवश्यकता', 'है', 'जिसमें', 'वेरिएबल', 'का', 'नाम', 'किसी', 'फ़ंक्शन', 'के', 'लिए', 'लोकल', 'हो', 'सकते', 'हैं', '।']\n",
            "\n",
            "\n",
            "['removed', 'is', 'body', 'in', 'blood', 'of', 'lack', 'the', 'juice', 'onion', 'in', 'mixed', 'honey', 'having', 'by']\n",
            "['प्याज', 'के', 'रस', 'में', 'शहद', 'मिलाकर', 'सेवन', 'करने', 'से', 'शरीर', 'में', 'खून', 'की', 'कमी', 'दूर', 'होती', 'है', '।']\n",
            "\n",
            "\n",
            "['winters', 'in', 'cold', 'get', 'never', 'will', 'one', 'this', 'to', 'due', 'out', 'water', 'the', 'throw', 'yourself', 'drying', 'while', 'and', 'water', 'with', 'filled', 'mouth', 'the', 'keeping', 'by', 'bath', 'take', 'bath', 'taking', 'while']\n",
            "['सुबह', 'बिना', 'कुल्ला', 'किए', 'पानी', 'पीकर', 'शौच', 'जाने', 'से', 'पेट', 'संबंधी', 'सभी', 'रोगों', 'से', 'राहत', 'मिलेगी', '।']\n",
            "\n",
            "\n"
          ]
        }
      ],
      "source": [
        "nlp = spacy.load(\"en_core_web_sm\")\n",
        "\n",
        "def preprocess_english(sentences):\n",
        "    def preprocess_and_remove_punctuation(sentence):\n",
        "        doc = nlp(sentence.lower())\n",
        "        tokens = [token.text for token in doc if token.is_alpha]\n",
        "        return tokens[::-1]\n",
        "    tokenized_sentences = [preprocess_and_remove_punctuation(sentence) for sentence in sentences]\n",
        "    return tokenized_sentences\n",
        "\n",
        "def preprocess_hindi(sentences):\n",
        "    normalizer = IndicNormalizerFactory().get_normalizer(\"hi\")\n",
        "    processed_sentences = []\n",
        "    for sentence in sentences:\n",
        "        normalized_sentence = normalizer.normalize(sentence)\n",
        "        cleaned_sentence = ''.join([char for char in normalized_sentence if not char.isdigit() and char not in string.punctuation])\n",
        "        tokens = list(indic_tokenize.trivial_tokenize(cleaned_sentence))\n",
        "        processed_sentences.append(tokens)\n",
        "    return processed_sentences\n",
        "\n",
        "\n",
        "target_sentences_train = [re.sub(r'[a-zA-Z]', '', hi) for hi in target_sentences_train]\n",
        "\n",
        "en_train = preprocess_english(source_sentences_train)\n",
        "en_test = preprocess_english(source_sentences_val)\n",
        "de_train = preprocess_hindi(target_sentences_train)\n",
        "de_test = preprocess_hindi(target_sentences_val)\n",
        "\n",
        "for i in range(10):\n",
        "    print(en_train[i])\n",
        "    print(de_train[i])\n",
        "    print('\\n')"
      ]
    },
    {
      "cell_type": "markdown",
      "metadata": {
        "id": "pwgVk8tCcw4h"
      },
      "source": [
        "**Building Vocabulary:**"
      ]
    },
    {
      "cell_type": "markdown",
      "source": [
        "Created vocabularies for English and Hindi by collecting all unique tokens from the datasets and adds PAD, SOS,EOS. Then i generated mappings for word-to-index and index-to-word conversions which will be helpful during model training."
      ],
      "metadata": {
        "id": "-dtO3JBTJim6"
      }
    },
    {
      "cell_type": "code",
      "execution_count": null,
      "metadata": {
        "id": "jBkzPxqKcw4l"
      },
      "outputs": [],
      "source": [
        "en_index2word = [\"<PAD>\", \"<SOS>\", \"<EOS>\"]\n",
        "de_index2word = [\"<PAD>\", \"<SOS>\", \"<EOS>\"]\n",
        "en_vocab = set(en_index2word)\n",
        "de_vocab = set(de_index2word)\n",
        "for ds in [en_train, en_test]:\n",
        "    for sent in ds:\n",
        "        en_vocab.update(sent)\n",
        "for ds in [de_train, de_test]:\n",
        "    for sent in ds:\n",
        "        de_vocab.update(sent)\n",
        "\n",
        "en_index2word = list(en_vocab)\n",
        "de_index2word = list(de_vocab)\n",
        "\n",
        "device = torch.device('cuda' if torch.cuda.is_available() else 'cpu')\n",
        "en_word2index = {token: idx for idx, token in enumerate(en_index2word)}\n",
        "de_word2index = {token: idx for idx, token in enumerate(de_index2word)}"
      ]
    },
    {
      "cell_type": "markdown",
      "metadata": {
        "id": "aqpZ4NIYcw4p"
      },
      "source": [
        "### **Data Analysis and Data Loading:**"
      ]
    },
    {
      "cell_type": "markdown",
      "source": [
        "**Sentence length distribution:** During model training we have to choose maximum sentence length, This plot helps us in understanding distribution of sentence lengths in the datasets. I have marked the 90th percentile as a reference. Based on the visualizations we can choose max sequence length as 30."
      ],
      "metadata": {
        "id": "jTOab4_SJ0Pl"
      }
    },
    {
      "cell_type": "code",
      "execution_count": null,
      "metadata": {
        "colab": {
          "base_uri": "https://localhost:8080/",
          "height": 1000
        },
        "id": "d3Oah-ymcw4t",
        "outputId": "83b7c361-f6ae-4797-8bc0-cc0f6f1b73d3"
      },
      "outputs": [
        {
          "output_type": "display_data",
          "data": {
            "text/plain": [
              "<Figure size 640x480 with 1 Axes>"
            ],
            "image/png": "[encoded data removed]"
          },
          "metadata": {}
        },
        {
          "output_type": "display_data",
          "data": {
            "text/plain": [
              "<Figure size 640x480 with 1 Axes>"
            ],
            "image/png": "[encoded data removed]"
          },
          "metadata": {}
        },
        {
          "output_type": "display_data",
          "data": {
            "text/plain": [
              "<Figure size 640x480 with 1 Axes>"
            ],
            "image/png": "[encoded data removed]"
          },
          "metadata": {}
        }
      ],
      "source": [
        "def get_sentence_lengths(dataset):\n",
        "    return [len(sentence) for sentence in dataset]\n",
        "\n",
        "def plot_sentence_length_distribution_with_percentile(lengths, title):\n",
        "    percentile_90 = np.percentile(lengths, 90)  # Calculate the 90th percentile\n",
        "    plt.hist(lengths, bins=30, edgecolor='black', alpha=0.7, label=\"Sentence Lengths\")\n",
        "    plt.axvline(percentile_90, color='red', linestyle='dashed', linewidth=2, label=f\"90th Percentile: {percentile_90:.0f}\")\n",
        "    plt.title(f\"Sentence Length Distribution: {title}\")\n",
        "    plt.xlabel(\"Sentence Length\")\n",
        "    plt.ylabel(\"Frequency\")\n",
        "    plt.legend()\n",
        "    plt.show()\n",
        "\n",
        "en_train_lengths = get_sentence_lengths(en_train)\n",
        "en_test_lengths = get_sentence_lengths(en_test)\n",
        "de_train_lengths = get_sentence_lengths(de_train)\n",
        "de_test_lengths = get_sentence_lengths(de_test)\n",
        "\n",
        "plot_sentence_length_distribution_with_percentile(en_train_lengths, \"English Training Sentences\")\n",
        "plot_sentence_length_distribution_with_percentile(en_test_lengths, \"English Test Sentences\")\n",
        "plot_sentence_length_distribution_with_percentile(de_train_lengths, \"Hindi Training Sentences\")\n"
      ]
    },
    {
      "cell_type": "code",
      "execution_count": null,
      "metadata": {
        "colab": {
          "base_uri": "https://localhost:8080/"
        },
        "id": "SV_MQ-kxcw4y",
        "outputId": "5e0a81e2-c359-40fc-cd1b-79db6ef273d1"
      },
      "outputs": [
        {
          "output_type": "stream",
          "name": "stdout",
          "text": [
            "Total unique tokens: 64778\n",
            "\n",
            "Total unique tokens: 69059\n",
            "\n"
          ]
        }
      ],
      "source": [
        "def analyze_vocab(vocab):\n",
        "    print(f\"Total unique tokens: {len(vocab)}\")\n",
        "    print()\n",
        "\n",
        "analyze_vocab(en_vocab)\n",
        "analyze_vocab(de_vocab)"
      ]
    },
    {
      "cell_type": "code",
      "execution_count": null,
      "metadata": {
        "colab": {
          "base_uri": "https://localhost:8080/"
        },
        "id": "-LTskOsxcw42",
        "outputId": "991a3d1e-b686-44a9-8214-7a96fd48e6b9"
      },
      "outputs": [
        {
          "output_type": "stream",
          "name": "stdout",
          "text": [
            "English Training Sentence Length Statistics\n",
            "Min Length: 0\n",
            "Max Length: 255\n",
            "Mean Length: 16.31\n",
            "Median Length: 15.0\n",
            "\n",
            "English Test Sentence Length Statistics\n",
            "Min Length: 0\n",
            "Max Length: 146\n",
            "Mean Length: 16.34\n",
            "Median Length: 15.0\n",
            "\n",
            "Hindi Training Sentence Length Statistics\n",
            "Min Length: 1\n",
            "Max Length: 214\n",
            "Mean Length: 18.70\n",
            "Median Length: 17.0\n",
            "\n"
          ]
        }
      ],
      "source": [
        "def print_sentence_stats(lengths, dataset_name):\n",
        "    print(f\"{dataset_name} Sentence Length Statistics\")\n",
        "    print(f\"Min Length: {min(lengths)}\")\n",
        "    print(f\"Max Length: {max(lengths)}\")\n",
        "    print(f\"Mean Length: {np.mean(lengths):.2f}\")\n",
        "    print(f\"Median Length: {np.median(lengths)}\")\n",
        "    print()\n",
        "\n",
        "print_sentence_stats(en_train_lengths, \"English Training\")\n",
        "print_sentence_stats(en_test_lengths, \"English Test\")\n",
        "print_sentence_stats(de_train_lengths, \"Hindi Training\")"
      ]
    },
    {
      "cell_type": "code",
      "execution_count": null,
      "metadata": {
        "colab": {
          "base_uri": "https://localhost:8080/"
        },
        "id": "iDqptHDrcw46",
        "outputId": "5918abe3-4ad2-4d9b-bbc4-afa641180278"
      },
      "outputs": [
        {
          "output_type": "stream",
          "name": "stdout",
          "text": [
            "90th percentile sentence length: 30\n"
          ]
        }
      ],
      "source": [
        "max_seq_len = int(np.percentile([len(sent) for sent in en_train + de_train], 90))\n",
        "print(f\"90th percentile sentence length of 90th percentile: {max_seq_len}\")"
      ]
    },
    {
      "cell_type": "markdown",
      "source": [
        "1. The pad_sequence function creates fixed-length sequences by adding SOS and EOS tokens, padding with PAD tokens, and truncating to max_len.\n",
        "\n",
        "2. NMTDataset class processes source-target pairs into padded tensors for use in training.\n",
        "\n",
        "3. DataLoaders batch the datasets for efficient training and validation."
      ],
      "metadata": {
        "id": "GcQchjgwMqVR"
      }
    },
    {
      "cell_type": "code",
      "execution_count": null,
      "metadata": {
        "id": "B9r81UmRcw4-"
      },
      "outputs": [],
      "source": [
        "def pad_sequence(seq, vocab, max_len):\n",
        "    padded_seq = [vocab[\"<SOS>\"]] + [vocab.get(word, vocab[\"<PAD>\"]) for word in seq[:max_len - 2]] + [vocab[\"<EOS>\"]]\n",
        "    padded_seq += [vocab[\"<PAD>\"]] * (max_len - len(padded_seq))\n",
        "    return padded_seq[:max_len]\n",
        "\n",
        "class NMTDataset(Dataset):\n",
        "    def __init__(self, source, target, source_vocab, target_vocab, max_len):\n",
        "        self.source = [pad_sequence(sent, source_vocab, max_len) for sent in source]\n",
        "        self.target = [pad_sequence(sent, target_vocab, max_len) for sent in target]\n",
        "\n",
        "    def __len__(self):\n",
        "        return len(self.source)\n",
        "\n",
        "    def __getitem__(self, idx):\n",
        "        return torch.tensor(self.source[idx]), torch.tensor(self.target[idx])\n",
        "\n",
        "BATCH_SIZE = 64\n",
        "MAX_SEQ_LEN = 30\n",
        "train_src, val_src, train_tgt, val_tgt = train_test_split(en_train, de_train, test_size=0.1, random_state=42)\n",
        "train_dataset = NMTDataset(train_src, train_tgt, en_word2index, de_word2index, MAX_SEQ_LEN)\n",
        "val_dataset = NMTDataset(val_src, val_tgt, en_word2index, de_word2index, MAX_SEQ_LEN)\n",
        "train_loader = DataLoader(train_dataset, batch_size=BATCH_SIZE, shuffle=True)\n",
        "val_loader = DataLoader(val_dataset, batch_size=BATCH_SIZE)\n"
      ]
    },
    {
      "cell_type": "markdown",
      "metadata": {
        "id": "q8CciE4Pr5qF"
      },
      "source": [
        "### **Model Architecture:**"
      ]
    },
    {
      "cell_type": "markdown",
      "source": [
        "**Reference:** https://www.kaggle.com/datasets/thanakomsn/glove6b300dtxt\n",
        "\n",
        "I have used glove embeddings of 300 dimensions present in this file.\n",
        "These embeddings will be initial weights for the embedding layer, which will be updated during training ."
      ],
      "metadata": {
        "id": "5ew_sEzKQVCM"
      }
    },
    {
      "cell_type": "code",
      "execution_count": null,
      "metadata": {
        "id": "N-5FkdIElNiO"
      },
      "outputs": [],
      "source": [
        "def load_glove_embeddings(file_path, vocab, embedding_dim):\n",
        "    embeddings = np.random.uniform(-0.1, 0.1, (len(vocab), embedding_dim))\n",
        "    embeddings[vocab[\"<PAD>\"]] = np.zeros(embedding_dim)\n",
        "    with open(file_path, \"r\", encoding=\"utf-8\") as f:\n",
        "        for line in f:\n",
        "            values = line.split()\n",
        "            word = values[0]\n",
        "            vector = np.array(values[1:], dtype=np.float32)\n",
        "            if word in vocab:\n",
        "                embeddings[vocab[word]] = vector\n",
        "    return embeddings\n",
        "\n",
        "glove_path = \"glove.6B.300d.txt\"\n",
        "embedding_dim = 300\n",
        "source_embeddings = load_glove_embeddings(glove_path, en_word2index, embedding_dim)\n",
        "target_embeddings = load_glove_embeddings(glove_path, de_word2index, embedding_dim)\n"
      ]
    },
    {
      "cell_type": "markdown",
      "source": [
        "**Positional Embedding:** Next I created a class to create position-based embeddings for the data using sine and cosine to encode information about token positions. It calculates sine values for even positions and cosine values for odd positions in the embedding dimension. These embeddings are stored as a buffer and added to the input tensor during the forward pass. It ensures sequences up to a certain length get meaningful positional information for our Transformer model."
      ],
      "metadata": {
        "id": "w6svotywR3Ew"
      }
    },
    {
      "cell_type": "code",
      "source": [
        "class PositionalEncodingSinusoidal(nn.Module):\n",
        "    def __init__(self, embedding_dimension, maximum_sequence_length):\n",
        "        super(PositionalEncodingSinusoidal, self).__init__()\n",
        "        positions = torch.arange(0, maximum_sequence_length).unsqueeze(1).float()\n",
        "        division_term = torch.exp(torch.arange(0, embedding_dimension, 2).float() * -(math.log(10000.0) / embedding_dimension))\n",
        "        positional_embeddings = torch.zeros(maximum_sequence_length, embedding_dimension)\n",
        "        positional_embeddings[:, 0::2] = torch.sin(positions * division_term) #Using sine for even indices (0, 2, 4, ...)\n",
        "        positional_embeddings[:, 1::2] = torch.cos(positions * division_term) #Using cosine for odd indices (1, 3, 5, ...).\n",
        "        self.register_buffer('positional_embeddings', positional_embeddings)\n",
        "\n",
        "    def forward(self, input_tensor):\n",
        "        sequence_length = input_tensor.size(1)\n",
        "        return input_tensor + self.positional_embeddings[:sequence_length, :].unsqueeze(0).to(input_tensor.device)"
      ],
      "metadata": {
        "id": "ObtvQC8aP_pe"
      },
      "execution_count": null,
      "outputs": []
    },
    {
      "cell_type": "markdown",
      "source": [
        "NeuralTransformer class Initializes source and target embeddings with glove embeddings and adds sinusoidal positional encodings. Then i have built transformer model using PyTorch's nn.Transformer. This code processes input sequences through embeddings, adds positional encodings, and the transformer module with attention masks.Finally it outputs predictions by applying a linear layer to the transformer's output for the target vocabulary.\n",
        "\n",
        "**Reference:** https://pytorch.org/docs/stable/generated/torch.nn.Transformer.html"
      ],
      "metadata": {
        "id": "bjomQb6lXahH"
      }
    },
    {
      "cell_type": "code",
      "source": [
        "\n",
        "class NeuralTransformer(nn.Module):\n",
        "    def __init__(self, source_vocab_size, target_vocab_size, embedding_dimension, attention_heads, encoder_layers, decoder_layers, dropout_rate, maximum_sequence_length, source_embeddings=None, target_embeddings=None):\n",
        "        super(NeuralTransformer, self).__init__()\n",
        "\n",
        "        # Initialize source and target embeddings\n",
        "        self.source_embedding = nn.Embedding(source_vocab_size, embedding_dimension)\n",
        "        self.target_embedding = nn.Embedding(target_vocab_size, embedding_dimension)\n",
        "\n",
        "        if source_embeddings is not None:\n",
        "            self.source_embedding.weight.data.copy_(torch.tensor(source_embeddings))\n",
        "            self.source_embedding.weight.requires_grad = True\n",
        "\n",
        "        if target_embeddings is not None:\n",
        "            self.target_embedding.weight.data.copy_(torch.tensor(target_embeddings))\n",
        "            self.target_embedding.weight.requires_grad = True\n",
        "\n",
        "        self.positional_encoding = PositionalEncodingSinusoidal(embedding_dimension, maximum_sequence_length)\n",
        "\n",
        "        self.transformer_core = nn.Transformer(\n",
        "            d_model=embedding_dimension,\n",
        "            nhead=attention_heads,\n",
        "            num_encoder_layers=encoder_layers,\n",
        "            num_decoder_layers=decoder_layers,\n",
        "            dropout=dropout_rate,\n",
        "            batch_first=True\n",
        "        )\n",
        "        self.output_layer = nn.Linear(embedding_dimension, target_vocab_size)\n",
        "\n",
        "    def forward(self, source_sequence, target_sequence):\n",
        "        embedded_source = self.positional_encoding(self.source_embedding(source_sequence))\n",
        "        embedded_target = self.positional_encoding(self.target_embedding(target_sequence))\n",
        "        source_mask = self.transformer_core.generate_square_subsequent_mask(source_sequence.size(1)).to(device)\n",
        "        target_mask = self.transformer_core.generate_square_subsequent_mask(target_sequence.size(1)).to(device)\n",
        "        transformer_output = self.transformer_core(embedded_source, embedded_target, src_mask=source_mask, tgt_mask=target_mask)\n",
        "        return self.output_layer(transformer_output)\n",
        "\n"
      ],
      "metadata": {
        "id": "ygA6Az71QBYL"
      },
      "execution_count": null,
      "outputs": []
    },
    {
      "cell_type": "markdown",
      "metadata": {
        "id": "Hmd1FBk-sOCQ"
      },
      "source": [
        "### **Training and Evaluating the model:**"
      ]
    },
    {
      "cell_type": "markdown",
      "source": [
        "sentence_translation translates source sentences into target sentences by using a trained model. It tokenises given input sentence and does all the necessary pre-processing like padding or truncation of the sentence and then iteratively generates tokens in the target language by feeding in the source tensor and the latest predicted target tokens into the model until the end-of-sequence token (<EOS>) is reached or the maximum length is exceeded."
      ],
      "metadata": {
        "id": "Q8Pwgm41Yhpw"
      }
    },
    {
      "cell_type": "code",
      "source": [
        "def sentence_translation(input_sentence, trained_model, source_vocabulary, target_vocabulary, maximum_length):\n",
        "    trained_model.eval()\n",
        "    tokenized_input = pad_sequence(input_sentence, source_vocabulary, maximum_length)\n",
        "    source_tensor = torch.tensor(tokenized_input).unsqueeze(0).to(device)\n",
        "    target_tokens = [target_vocabulary[\"<SOS>\"]]\n",
        "    for _ in range(maximum_length):\n",
        "        target_tensor = torch.tensor(target_tokens).unsqueeze(0).to(device)\n",
        "        with torch.no_grad():\n",
        "            predicted_output = trained_model(source_tensor, target_tensor)\n",
        "        next_predicted_token = predicted_output.argmax(2)[:, -1].item()\n",
        "        target_tokens.append(next_predicted_token)\n",
        "        if next_predicted_token == target_vocabulary[\"<EOS>\"]:\n",
        "            break\n",
        "    return [list(target_vocabulary.keys())[tok] for tok in target_tokens[1:-1]]"
      ],
      "metadata": {
        "id": "y9U1CV5TX-xQ"
      },
      "execution_count": null,
      "outputs": []
    },
    {
      "cell_type": "markdown",
      "source": [
        "This function will calculate the performance of a trained model on a validation dataset. The function processes batches of data from validation_loader. On every batch, it uses the model to make predictions, then calculates the loss using a provided loss_function and finds the total validation loss."
      ],
      "metadata": {
        "id": "0yOx64ZgaG_Y"
      }
    },
    {
      "cell_type": "code",
      "source": [
        "def validate_model(trained_model, validation_loader, loss_function):\n",
        "    trained_model.eval()\n",
        "    cumulative_validation_loss = 0\n",
        "    with torch.no_grad():\n",
        "        for source_batch, target_batch in validation_loader:\n",
        "            source_batch, target_batch = source_batch.to(device), target_batch.to(device)\n",
        "            target_input_sequence = target_batch[:, :-1]\n",
        "            target_expected_sequence = target_batch[:, 1:]\n",
        "            with torch.cuda.amp.autocast():\n",
        "                model_predictions = trained_model(source_batch, target_input_sequence)\n",
        "                reshaped_predictions = model_predictions.reshape(-1, model_predictions.shape[-1])\n",
        "                reshaped_targets = target_expected_sequence.reshape(-1)\n",
        "                loss_per_batch = loss_function(reshaped_predictions, reshaped_targets)\n",
        "            cumulative_validation_loss += loss_per_batch.item()\n",
        "    return cumulative_validation_loss / len(validation_loader)"
      ],
      "metadata": {
        "id": "cA00_v0fYAc8"
      },
      "execution_count": null,
      "outputs": []
    },
    {
      "cell_type": "markdown",
      "source": [
        "1. This function trains a Transformer-based model using mixed precision for efficiency on a GPU. (**Reference for mixed precision**:https://pytorch.org/tutorials/recipes/recipes/amp_recipe.html )\n",
        "\n",
        "2. Loss computation against target sequences will be performed using the given loss criterion. The estimated loss is backpropagated, and the parameters will be updated using the optimizer.\n",
        "\n",
        "3. After every epoch there is a scheduler which based on the performance of the model on the validation set changes the learning rate.\n",
        "\n",
        "4. If this is the best observed validation loss the model checkpoint will be saved, storing information above model state along with optimizer, scheduler, and scaler details.\n",
        "\n",
        "5. Training will be stopped if the validation loss does not improve throughout three consecutive epochs to prevent overfitting ."
      ],
      "metadata": {
        "id": "fGR31isGa8R9"
      }
    },
    {
      "cell_type": "code",
      "source": [
        "def train_transformer_model(model,training_data_loader,validation_data_loader,optimizer,scheduler,loss_criterion,num_epochs, device,source_vocab, target_vocab, max_sequence_length,save_path=\"best_model.pth\"):\n",
        "    scaler = torch.cuda.amp.GradScaler()\n",
        "    best_validation_loss = float('inf')  # Keeps track of the best validation loss\n",
        "    no_improvement_epochs = 0  # Counter for consecutive epochs without improvement\n",
        "\n",
        "    for epoch in range(num_epochs):\n",
        "        model.train()\n",
        "        total_training_loss = 0\n",
        "        progress_bar = tqdm(enumerate(training_data_loader),total=len(training_data_loader),desc=f\"Epoch {epoch + 1}/{num_epochs}\",unit=\"batch\" )\n",
        "        for batch_index, (source_batch, target_batch) in progress_bar:\n",
        "            source_batch, target_batch = source_batch.to(device), target_batch.to(device)\n",
        "            target_inputs = target_batch[:, :-1]\n",
        "            target_outputs = target_batch[:, 1:]\n",
        "            optimizer.zero_grad()\n",
        "            with torch.cuda.amp.autocast():\n",
        "                model_predictions = model(source_batch, target_inputs)\n",
        "                reshaped_predictions = model_predictions.reshape(-1, model_predictions.shape[-1])\n",
        "                reshaped_targets = target_outputs.reshape(-1)\n",
        "                batch_loss = loss_criterion(reshaped_predictions, reshaped_targets)\n",
        "            scaler.scale(batch_loss).backward()\n",
        "            scaler.step(optimizer)\n",
        "            scaler.update()\n",
        "            total_training_loss += batch_loss.item()\n",
        "            progress_bar.set_postfix(loss=batch_loss.item())\n",
        "            if batch_index % 100 == 0:\n",
        "                test_sentence = [\"hello\", \"brother\", \"how\", \"are\", \"you\"]\n",
        "                translated_sentence = sentence_translation(\n",
        "                    test_sentence, model, source_vocab, target_vocab, max_sequence_length\n",
        "                )\n",
        "                print(f\"Batch {batch_index} Translation: {' '.join(test_sentence)} -> {' '.join(translated_sentence)}\")\n",
        "        average_training_loss = total_training_loss / len(training_data_loader)\n",
        "        print(f\"Epoch {epoch + 1} Training Loss: {average_training_loss:.4f}\")\n",
        "        validation_loss = validate_model(model, validation_data_loader, loss_criterion)\n",
        "        print(f\"Epoch {epoch + 1} Validation Loss: {validation_loss:.4f}\")\n",
        "        scheduler.step(validation_loss)\n",
        "\n",
        "        if validation_loss < best_validation_loss:\n",
        "            best_validation_loss = validation_loss\n",
        "            no_improvement_epochs = 0  # Reset counter\n",
        "\n",
        "            # Saving the model checkpoint\n",
        "            torch.save({\n",
        "                'epoch': epoch + 1,\n",
        "                'model_state_dict': model.state_dict(),\n",
        "                'optimizer_state_dict': optimizer.state_dict(),\n",
        "                'scheduler_state_dict': scheduler.state_dict(),\n",
        "                'best_validation_loss': best_validation_loss,\n",
        "                'scaler_state_dict': scaler.state_dict()\n",
        "            }, save_path)\n",
        "            print(f\"Model checkpoint saved at epoch {epoch + 1} with validation loss {validation_loss:.4f}.\")\n",
        "        else:\n",
        "            no_improvement_epochs += 1  # Increment counter\n",
        "\n",
        "        # Early stopping condition\n",
        "        if no_improvement_epochs >= 3:\n",
        "            print(f\"Early stopping triggered after {no_improvement_epochs} consecutive epochs without improvement.\")\n",
        "            break\n",
        "\n",
        "    print(\"Training complete.\")"
      ],
      "metadata": {
        "id": "6eZtY5r-YDS3"
      },
      "execution_count": null,
      "outputs": []
    },
    {
      "cell_type": "markdown",
      "source": [
        "Initializing the model by passing hyperparameters and starting the training pipeline:"
      ],
      "metadata": {
        "id": "BPeYeOZ4cG4T"
      }
    },
    {
      "cell_type": "code",
      "execution_count": null,
      "metadata": {
        "colab": {
          "base_uri": "https://localhost:8080/"
        },
        "id": "AjI7V6PLsJEZ",
        "outputId": "70d55e42-57c9-49a1-c168-f301d47b88b9"
      },
      "outputs": [
        {
          "output_type": "stream",
          "name": "stderr",
          "text": [
            "<ipython-input-13-46f60dfd13de>:35: FutureWarning: `torch.cuda.amp.GradScaler(args...)` is deprecated. Please use `torch.amp.GradScaler('cuda', args...)` instead.\n",
            "  scaler = torch.cuda.amp.GradScaler()\n",
            "Epoch 1/50:   0%|          | 0/1137 [00:00<?, ?batch/s]<ipython-input-13-46f60dfd13de>:48: FutureWarning: `torch.cuda.amp.autocast(args...)` is deprecated. Please use `torch.amp.autocast('cuda', args...)` instead.\n",
            "  with torch.cuda.amp.autocast():\n",
            "Epoch 1/50:   0%|          | 2/1137 [00:02<18:49,  1.00batch/s, loss=10.8]"
          ]
        },
        {
          "output_type": "stream",
          "name": "stdout",
          "text": [
            "Batch 0 Translation: hello brother how are you -> \n"
          ]
        },
        {
          "output_type": "stream",
          "name": "stderr",
          "text": [
            "Epoch 1/50:   9%|▉         | 102/1137 [00:13<02:45,  6.26batch/s, loss=7.68]"
          ]
        },
        {
          "output_type": "stream",
          "name": "stdout",
          "text": [
            "Batch 100 Translation: hello brother how are you -> के के के के के के\n"
          ]
        },
        {
          "output_type": "stream",
          "name": "stderr",
          "text": [
            "Epoch 1/50:  18%|█▊        | 202/1137 [00:27<02:30,  6.20batch/s, loss=6.85]"
          ]
        },
        {
          "output_type": "stream",
          "name": "stdout",
          "text": [
            "Batch 200 Translation: hello brother how are you -> यह के लिए\n"
          ]
        },
        {
          "output_type": "stream",
          "name": "stderr",
          "text": [
            "Epoch 1/50:  27%|██▋       | 302/1137 [00:41<01:35,  8.75batch/s, loss=6.58]"
          ]
        },
        {
          "output_type": "stream",
          "name": "stdout",
          "text": [
            "Batch 300 Translation: hello brother how are you -> \n"
          ]
        },
        {
          "output_type": "stream",
          "name": "stderr",
          "text": [
            "Epoch 1/50:  35%|███▌      | 402/1137 [00:54<01:34,  7.81batch/s, loss=6.6]"
          ]
        },
        {
          "output_type": "stream",
          "name": "stdout",
          "text": [
            "Batch 400 Translation: hello brother how are you -> क्या के लिए में एक\n"
          ]
        },
        {
          "output_type": "stream",
          "name": "stderr",
          "text": [
            "Epoch 1/50:  44%|████▍     | 502/1137 [01:05<01:30,  7.00batch/s, loss=6.41]"
          ]
        },
        {
          "output_type": "stream",
          "name": "stdout",
          "text": [
            "Batch 500 Translation: hello brother how are you -> क्या क्या है\n"
          ]
        },
        {
          "output_type": "stream",
          "name": "stderr",
          "text": [
            "Epoch 1/50:  53%|█████▎    | 602/1137 [01:17<01:09,  7.73batch/s, loss=6.5]"
          ]
        },
        {
          "output_type": "stream",
          "name": "stdout",
          "text": [
            "Batch 600 Translation: hello brother how are you -> क्या क्या में क्या है\n"
          ]
        },
        {
          "output_type": "stream",
          "name": "stderr",
          "text": [
            "Epoch 1/50:  62%|██████▏   | 702/1137 [01:30<00:57,  7.62batch/s, loss=6.29]"
          ]
        },
        {
          "output_type": "stream",
          "name": "stdout",
          "text": [
            "Batch 700 Translation: hello brother how are you -> क्या क्या क्या है\n"
          ]
        },
        {
          "output_type": "stream",
          "name": "stderr",
          "text": [
            "Epoch 1/50:  71%|███████   | 802/1137 [01:42<00:44,  7.51batch/s, loss=6.24]"
          ]
        },
        {
          "output_type": "stream",
          "name": "stdout",
          "text": [
            "Batch 800 Translation: hello brother how are you -> क्या आप आप आप हैं\n"
          ]
        },
        {
          "output_type": "stream",
          "name": "stderr",
          "text": [
            "Epoch 1/50:  79%|███████▉  | 902/1137 [01:55<00:35,  6.67batch/s, loss=6.13]"
          ]
        },
        {
          "output_type": "stream",
          "name": "stdout",
          "text": [
            "Batch 900 Translation: hello brother how are you -> क्या क्या क्या हैं\n"
          ]
        },
        {
          "output_type": "stream",
          "name": "stderr",
          "text": [
            "Epoch 1/50:  88%|████████▊ | 1002/1137 [02:08<00:17,  7.76batch/s, loss=6.01]"
          ]
        },
        {
          "output_type": "stream",
          "name": "stdout",
          "text": [
            "Batch 1000 Translation: hello brother how are you -> क्या आप क्या हैं\n"
          ]
        },
        {
          "output_type": "stream",
          "name": "stderr",
          "text": [
            "Epoch 1/50:  97%|█████████▋| 1102/1137 [02:20<00:04,  7.45batch/s, loss=6.18]"
          ]
        },
        {
          "output_type": "stream",
          "name": "stdout",
          "text": [
            "Batch 1100 Translation: hello brother how are you -> क्या आप आप क्या हैं\n"
          ]
        },
        {
          "output_type": "stream",
          "name": "stderr",
          "text": [
            "Epoch 1/50: 100%|██████████| 1137/1137 [02:24<00:00,  7.87batch/s, loss=6.03]\n",
            "<ipython-input-13-46f60dfd13de>:25: FutureWarning: `torch.cuda.amp.autocast(args...)` is deprecated. Please use `torch.amp.autocast('cuda', args...)` instead.\n",
            "  with torch.cuda.amp.autocast():\n"
          ]
        },
        {
          "output_type": "stream",
          "name": "stdout",
          "text": [
            "Epoch 1 Training Loss: 6.6791\n",
            "Epoch 1 Validation Loss: 6.0711\n",
            "Model checkpoint saved at epoch 1 with validation loss 6.0711.\n"
          ]
        },
        {
          "output_type": "stream",
          "name": "stderr",
          "text": [
            "Epoch 2/50:   0%|          | 2/1137 [00:00<03:09,  5.99batch/s, loss=5.87]"
          ]
        },
        {
          "output_type": "stream",
          "name": "stdout",
          "text": [
            "Batch 0 Translation: hello brother how are you -> क्या आप क्या हैं\n"
          ]
        },
        {
          "output_type": "stream",
          "name": "stderr",
          "text": [
            "Epoch 2/50:   9%|▉         | 102/1137 [00:12<02:29,  6.90batch/s, loss=6.02]"
          ]
        },
        {
          "output_type": "stream",
          "name": "stdout",
          "text": [
            "Batch 100 Translation: hello brother how are you -> क्या क्या क्या हैं\n"
          ]
        },
        {
          "output_type": "stream",
          "name": "stderr",
          "text": [
            "Epoch 2/50:  18%|█▊        | 202/1137 [00:24<02:01,  7.72batch/s, loss=5.79]"
          ]
        },
        {
          "output_type": "stream",
          "name": "stdout",
          "text": [
            "Batch 200 Translation: hello brother how are you -> क्या आप क्या है\n"
          ]
        },
        {
          "output_type": "stream",
          "name": "stderr",
          "text": [
            "Epoch 2/50:  27%|██▋       | 302/1137 [00:37<01:50,  7.53batch/s, loss=5.84]"
          ]
        },
        {
          "output_type": "stream",
          "name": "stdout",
          "text": [
            "Batch 300 Translation: hello brother how are you -> क्या आप आप क्या हैं\n"
          ]
        },
        {
          "output_type": "stream",
          "name": "stderr",
          "text": [
            "Epoch 2/50:  35%|███▌      | 402/1137 [00:49<01:40,  7.33batch/s, loss=5.77]"
          ]
        },
        {
          "output_type": "stream",
          "name": "stdout",
          "text": [
            "Batch 400 Translation: hello brother how are you -> आप क्या हैं कि क्या हैं\n"
          ]
        },
        {
          "output_type": "stream",
          "name": "stderr",
          "text": [
            "Epoch 2/50:  44%|████▍     | 502/1137 [01:01<01:37,  6.50batch/s, loss=5.71]"
          ]
        },
        {
          "output_type": "stream",
          "name": "stdout",
          "text": [
            "Batch 500 Translation: hello brother how are you -> आप क्या हैं कि क्या है\n"
          ]
        },
        {
          "output_type": "stream",
          "name": "stderr",
          "text": [
            "Epoch 2/50:  53%|█████▎    | 602/1137 [01:14<01:12,  7.40batch/s, loss=5.49]"
          ]
        },
        {
          "output_type": "stream",
          "name": "stdout",
          "text": [
            "Batch 600 Translation: hello brother how are you -> आप आप को कैसे कर रहे हैं\n"
          ]
        },
        {
          "output_type": "stream",
          "name": "stderr",
          "text": [
            "Epoch 2/50:  62%|██████▏   | 702/1137 [01:26<00:56,  7.69batch/s, loss=5.43]"
          ]
        },
        {
          "output_type": "stream",
          "name": "stdout",
          "text": [
            "Batch 700 Translation: hello brother how are you -> आप मेरे की क्या हैं\n"
          ]
        },
        {
          "output_type": "stream",
          "name": "stderr",
          "text": [
            "Epoch 2/50:  71%|███████   | 802/1137 [01:38<00:50,  6.64batch/s, loss=5.37]"
          ]
        },
        {
          "output_type": "stream",
          "name": "stdout",
          "text": [
            "Batch 800 Translation: hello brother how are you -> आप मेरे पास हैं\n"
          ]
        },
        {
          "output_type": "stream",
          "name": "stderr",
          "text": [
            "Epoch 2/50:  79%|███████▉  | 902/1137 [01:50<00:37,  6.31batch/s, loss=5.32]"
          ]
        },
        {
          "output_type": "stream",
          "name": "stdout",
          "text": [
            "Batch 900 Translation: hello brother how are you -> आप कौन का नाम क्या है\n"
          ]
        },
        {
          "output_type": "stream",
          "name": "stderr",
          "text": [
            "Epoch 2/50:  88%|████████▊ | 1002/1137 [02:03<00:18,  7.42batch/s, loss=5.31]"
          ]
        },
        {
          "output_type": "stream",
          "name": "stdout",
          "text": [
            "Batch 1000 Translation: hello brother how are you -> आप कौन है कि क्या है\n"
          ]
        },
        {
          "output_type": "stream",
          "name": "stderr",
          "text": [
            "Epoch 2/50:  97%|█████████▋| 1102/1137 [02:15<00:04,  7.40batch/s, loss=5.46]"
          ]
        },
        {
          "output_type": "stream",
          "name": "stdout",
          "text": [
            "Batch 1100 Translation: hello brother how are you -> आप मेरे नाम हैं\n"
          ]
        },
        {
          "output_type": "stream",
          "name": "stderr",
          "text": [
            "Epoch 2/50: 100%|██████████| 1137/1137 [02:19<00:00,  8.12batch/s, loss=5.15]\n"
          ]
        },
        {
          "output_type": "stream",
          "name": "stdout",
          "text": [
            "Epoch 2 Training Loss: 5.6031\n",
            "Epoch 2 Validation Loss: 5.3978\n",
            "Model checkpoint saved at epoch 2 with validation loss 5.3978.\n"
          ]
        },
        {
          "output_type": "stream",
          "name": "stderr",
          "text": [
            "Epoch 3/50:   0%|          | 2/1137 [00:00<03:22,  5.62batch/s, loss=5.36]"
          ]
        },
        {
          "output_type": "stream",
          "name": "stdout",
          "text": [
            "Batch 0 Translation: hello brother how are you -> आप ईमेल को कैसे कर रहे हैं\n"
          ]
        },
        {
          "output_type": "stream",
          "name": "stderr",
          "text": [
            "Epoch 3/50:   9%|▉         | 102/1137 [00:12<02:17,  7.55batch/s, loss=4.95]"
          ]
        },
        {
          "output_type": "stream",
          "name": "stdout",
          "text": [
            "Batch 100 Translation: hello brother how are you -> आप मेरे ईमेल हैं\n"
          ]
        },
        {
          "output_type": "stream",
          "name": "stderr",
          "text": [
            "Epoch 3/50:  18%|█▊        | 202/1137 [00:25<02:19,  6.71batch/s, loss=4.98]"
          ]
        },
        {
          "output_type": "stream",
          "name": "stdout",
          "text": [
            "Batch 200 Translation: hello brother how are you -> आप ईमेल हैं\n"
          ]
        },
        {
          "output_type": "stream",
          "name": "stderr",
          "text": [
            "Epoch 3/50:  27%|██▋       | 302/1137 [00:37<01:56,  7.16batch/s, loss=5.24]"
          ]
        },
        {
          "output_type": "stream",
          "name": "stdout",
          "text": [
            "Batch 300 Translation: hello brother how are you -> आप ईमेल हैं कि क्या कैसे क्या हैं\n"
          ]
        },
        {
          "output_type": "stream",
          "name": "stderr",
          "text": [
            "Epoch 3/50:  35%|███▌      | 402/1137 [00:49<01:41,  7.22batch/s, loss=5.07]"
          ]
        },
        {
          "output_type": "stream",
          "name": "stdout",
          "text": [
            "Batch 400 Translation: hello brother how are you -> आप कौन हैं कि कैसे कैसे हैं\n"
          ]
        },
        {
          "output_type": "stream",
          "name": "stderr",
          "text": [
            "Epoch 3/50:  44%|████▍     | 502/1137 [01:02<01:20,  7.85batch/s, loss=5.12]"
          ]
        },
        {
          "output_type": "stream",
          "name": "stdout",
          "text": [
            "Batch 500 Translation: hello brother how are you -> आप ईमेल हैं\n"
          ]
        },
        {
          "output_type": "stream",
          "name": "stderr",
          "text": [
            "Epoch 3/50:  53%|█████▎    | 602/1137 [01:14<01:26,  6.22batch/s, loss=4.93]"
          ]
        },
        {
          "output_type": "stream",
          "name": "stdout",
          "text": [
            "Batch 600 Translation: hello brother how are you -> आप ईमेल हैं कि कैसे कौन हैं\n"
          ]
        },
        {
          "output_type": "stream",
          "name": "stderr",
          "text": [
            "Epoch 3/50:  62%|██████▏   | 702/1137 [01:26<00:55,  7.80batch/s, loss=5.11]"
          ]
        },
        {
          "output_type": "stream",
          "name": "stdout",
          "text": [
            "Batch 700 Translation: hello brother how are you -> आप कैसे कैसे हैं\n"
          ]
        },
        {
          "output_type": "stream",
          "name": "stderr",
          "text": [
            "Epoch 3/50:  71%|███████   | 802/1137 [01:39<00:43,  7.63batch/s, loss=5.09]"
          ]
        },
        {
          "output_type": "stream",
          "name": "stdout",
          "text": [
            "Batch 800 Translation: hello brother how are you -> आप राम को कैसे हैं\n"
          ]
        },
        {
          "output_type": "stream",
          "name": "stderr",
          "text": [
            "Epoch 3/50:  79%|███████▉  | 902/1137 [01:51<00:30,  7.73batch/s, loss=5.13]"
          ]
        },
        {
          "output_type": "stream",
          "name": "stdout",
          "text": [
            "Batch 900 Translation: hello brother how are you -> आप कौन हैं\n"
          ]
        },
        {
          "output_type": "stream",
          "name": "stderr",
          "text": [
            "Epoch 3/50:  88%|████████▊ | 1002/1137 [02:03<00:20,  6.54batch/s, loss=4.7]"
          ]
        },
        {
          "output_type": "stream",
          "name": "stdout",
          "text": [
            "Batch 1000 Translation: hello brother how are you -> आप कैसे कैसे हैं\n"
          ]
        },
        {
          "output_type": "stream",
          "name": "stderr",
          "text": [
            "Epoch 3/50:  97%|█████████▋| 1102/1137 [02:16<00:04,  7.23batch/s, loss=4.85]"
          ]
        },
        {
          "output_type": "stream",
          "name": "stdout",
          "text": [
            "Batch 1100 Translation: hello brother how are you -> आप ईमेल के बारे में कैसे हैं\n"
          ]
        },
        {
          "output_type": "stream",
          "name": "stderr",
          "text": [
            "Epoch 3/50: 100%|██████████| 1137/1137 [02:20<00:00,  8.10batch/s, loss=4.43]\n"
          ]
        },
        {
          "output_type": "stream",
          "name": "stdout",
          "text": [
            "Epoch 3 Training Loss: 4.9912\n",
            "Epoch 3 Validation Loss: 4.9756\n",
            "Model checkpoint saved at epoch 3 with validation loss 4.9756.\n"
          ]
        },
        {
          "output_type": "stream",
          "name": "stderr",
          "text": [
            "Epoch 4/50:   0%|          | 2/1137 [00:00<03:35,  5.27batch/s, loss=4.9]"
          ]
        },
        {
          "output_type": "stream",
          "name": "stdout",
          "text": [
            "Batch 0 Translation: hello brother how are you -> आप कौन हैं\n"
          ]
        },
        {
          "output_type": "stream",
          "name": "stderr",
          "text": [
            "Epoch 4/50:   9%|▉         | 102/1137 [00:12<02:30,  6.87batch/s, loss=4.63]"
          ]
        },
        {
          "output_type": "stream",
          "name": "stdout",
          "text": [
            "Batch 100 Translation: hello brother how are you -> आप मेरे पास कौन हैं\n"
          ]
        },
        {
          "output_type": "stream",
          "name": "stderr",
          "text": [
            "Epoch 4/50:  18%|█▊        | 202/1137 [00:25<02:03,  7.55batch/s, loss=4.52]"
          ]
        },
        {
          "output_type": "stream",
          "name": "stdout",
          "text": [
            "Batch 200 Translation: hello brother how are you -> आप कैसे के नाम हैं\n"
          ]
        },
        {
          "output_type": "stream",
          "name": "stderr",
          "text": [
            "Epoch 4/50:  27%|██▋       | 302/1137 [00:37<01:54,  7.31batch/s, loss=4.53]"
          ]
        },
        {
          "output_type": "stream",
          "name": "stdout",
          "text": [
            "Batch 300 Translation: hello brother how are you -> आप कौन हैं कि कौन कैसे\n"
          ]
        },
        {
          "output_type": "stream",
          "name": "stderr",
          "text": [
            "Epoch 4/50:  35%|███▌      | 402/1137 [00:49<01:48,  6.78batch/s, loss=4.6]"
          ]
        },
        {
          "output_type": "stream",
          "name": "stdout",
          "text": [
            "Batch 400 Translation: hello brother how are you -> आप कौन हैं\n"
          ]
        },
        {
          "output_type": "stream",
          "name": "stderr",
          "text": [
            "Epoch 4/50:  44%|████▍     | 502/1137 [01:01<01:24,  7.49batch/s, loss=4.39]"
          ]
        },
        {
          "output_type": "stream",
          "name": "stdout",
          "text": [
            "Batch 500 Translation: hello brother how are you -> आप कैसे कैसे हैं\n"
          ]
        },
        {
          "output_type": "stream",
          "name": "stderr",
          "text": [
            "Epoch 4/50:  53%|█████▎    | 602/1137 [01:14<01:12,  7.37batch/s, loss=4.22]"
          ]
        },
        {
          "output_type": "stream",
          "name": "stdout",
          "text": [
            "Batch 600 Translation: hello brother how are you -> आप कौन हैं कि राम कैसे है\n"
          ]
        },
        {
          "output_type": "stream",
          "name": "stderr",
          "text": [
            "Epoch 4/50:  62%|██████▏   | 702/1137 [01:26<00:55,  7.83batch/s, loss=4.78]"
          ]
        },
        {
          "output_type": "stream",
          "name": "stdout",
          "text": [
            "Batch 700 Translation: hello brother how are you -> आप ईमेल हैं\n"
          ]
        },
        {
          "output_type": "stream",
          "name": "stderr",
          "text": [
            "Epoch 4/50:  71%|███████   | 802/1137 [01:38<00:52,  6.39batch/s, loss=4.27]"
          ]
        },
        {
          "output_type": "stream",
          "name": "stdout",
          "text": [
            "Batch 800 Translation: hello brother how are you -> आप कौन हैं कि कौन क्या है\n"
          ]
        },
        {
          "output_type": "stream",
          "name": "stderr",
          "text": [
            "Epoch 4/50:  79%|███████▉  | 902/1137 [01:50<00:29,  7.88batch/s, loss=4.65]"
          ]
        },
        {
          "output_type": "stream",
          "name": "stdout",
          "text": [
            "Batch 900 Translation: hello brother how are you -> आप कौन हैं\n"
          ]
        },
        {
          "output_type": "stream",
          "name": "stderr",
          "text": [
            "Epoch 4/50:  88%|████████▊ | 1002/1137 [02:03<00:18,  7.49batch/s, loss=4.42]"
          ]
        },
        {
          "output_type": "stream",
          "name": "stdout",
          "text": [
            "Batch 1000 Translation: hello brother how are you -> आप राम को कैसे कैसे हैं\n"
          ]
        },
        {
          "output_type": "stream",
          "name": "stderr",
          "text": [
            "Epoch 4/50:  97%|█████████▋| 1102/1137 [02:15<00:04,  7.14batch/s, loss=4.15]"
          ]
        },
        {
          "output_type": "stream",
          "name": "stdout",
          "text": [
            "Batch 1100 Translation: hello brother how are you -> आप राम को कैसे कर रहे हैं\n"
          ]
        },
        {
          "output_type": "stream",
          "name": "stderr",
          "text": [
            "Epoch 4/50: 100%|██████████| 1137/1137 [02:19<00:00,  8.12batch/s, loss=4.28]\n"
          ]
        },
        {
          "output_type": "stream",
          "name": "stdout",
          "text": [
            "Epoch 4 Training Loss: 4.4965\n",
            "Epoch 4 Validation Loss: 4.5990\n",
            "Model checkpoint saved at epoch 4 with validation loss 4.5990.\n"
          ]
        },
        {
          "output_type": "stream",
          "name": "stderr",
          "text": [
            "Epoch 5/50:   0%|          | 2/1137 [00:00<03:37,  5.22batch/s, loss=4.15]"
          ]
        },
        {
          "output_type": "stream",
          "name": "stdout",
          "text": [
            "Batch 0 Translation: hello brother how are you -> आप राम का जन्मदिन कैसे कर सकते हैं\n"
          ]
        },
        {
          "output_type": "stream",
          "name": "stderr",
          "text": [
            "Epoch 5/50:   9%|▉         | 102/1137 [00:12<02:11,  7.88batch/s, loss=3.84]"
          ]
        },
        {
          "output_type": "stream",
          "name": "stdout",
          "text": [
            "Batch 100 Translation: hello brother how are you -> आप कैसे हैं\n"
          ]
        },
        {
          "output_type": "stream",
          "name": "stderr",
          "text": [
            "Epoch 5/50:  18%|█▊        | 202/1137 [00:25<02:22,  6.54batch/s, loss=4.27]"
          ]
        },
        {
          "output_type": "stream",
          "name": "stdout",
          "text": [
            "Batch 200 Translation: hello brother how are you -> आप कौन हैं\n"
          ]
        },
        {
          "output_type": "stream",
          "name": "stderr",
          "text": [
            "Epoch 5/50:  27%|██▋       | 302/1137 [00:37<01:51,  7.51batch/s, loss=4.17]"
          ]
        },
        {
          "output_type": "stream",
          "name": "stdout",
          "text": [
            "Batch 300 Translation: hello brother how are you -> आप कैसे के भाई हैं\n"
          ]
        },
        {
          "output_type": "stream",
          "name": "stderr",
          "text": [
            "Epoch 5/50:  35%|███▌      | 402/1137 [00:49<01:34,  7.78batch/s, loss=4.33]"
          ]
        },
        {
          "output_type": "stream",
          "name": "stdout",
          "text": [
            "Batch 400 Translation: hello brother how are you -> आप कैसे कैसे हैं\n"
          ]
        },
        {
          "output_type": "stream",
          "name": "stderr",
          "text": [
            "Epoch 5/50:  44%|████▍     | 502/1137 [01:02<01:21,  7.74batch/s, loss=4.37]"
          ]
        },
        {
          "output_type": "stream",
          "name": "stdout",
          "text": [
            "Batch 500 Translation: hello brother how are you -> आप कैसे कैसे हैं\n"
          ]
        },
        {
          "output_type": "stream",
          "name": "stderr",
          "text": [
            "Epoch 5/50:  53%|█████▎    | 602/1137 [01:14<01:19,  6.77batch/s, loss=4.11]"
          ]
        },
        {
          "output_type": "stream",
          "name": "stdout",
          "text": [
            "Batch 600 Translation: hello brother how are you -> आप कैसे कैसे हैं\n"
          ]
        },
        {
          "output_type": "stream",
          "name": "stderr",
          "text": [
            "Epoch 5/50:  62%|██████▏   | 702/1137 [01:26<00:56,  7.72batch/s, loss=3.98]"
          ]
        },
        {
          "output_type": "stream",
          "name": "stdout",
          "text": [
            "Batch 700 Translation: hello brother how are you -> आप कौन रहे हैं\n"
          ]
        },
        {
          "output_type": "stream",
          "name": "stderr",
          "text": [
            "Epoch 5/50:  71%|███████   | 802/1137 [01:39<00:44,  7.49batch/s, loss=3.85]"
          ]
        },
        {
          "output_type": "stream",
          "name": "stdout",
          "text": [
            "Batch 800 Translation: hello brother how are you -> आप राम कैसे हैं\n"
          ]
        },
        {
          "output_type": "stream",
          "name": "stderr",
          "text": [
            "Epoch 5/50:  79%|███████▉  | 902/1137 [01:52<00:32,  7.27batch/s, loss=3.93]"
          ]
        },
        {
          "output_type": "stream",
          "name": "stdout",
          "text": [
            "Batch 900 Translation: hello brother how are you -> आप राम का नाम कैसे हैं\n"
          ]
        },
        {
          "output_type": "stream",
          "name": "stderr",
          "text": [
            "Epoch 5/50:  88%|████████▊ | 1002/1137 [02:04<00:21,  6.34batch/s, loss=3.84]"
          ]
        },
        {
          "output_type": "stream",
          "name": "stdout",
          "text": [
            "Batch 1000 Translation: hello brother how are you -> आप कौन से कौन हैं\n"
          ]
        },
        {
          "output_type": "stream",
          "name": "stderr",
          "text": [
            "Epoch 5/50:  97%|█████████▋| 1102/1137 [02:16<00:04,  7.32batch/s, loss=3.93]"
          ]
        },
        {
          "output_type": "stream",
          "name": "stdout",
          "text": [
            "Batch 1100 Translation: hello brother how are you -> आप कौन कैसे हैं\n"
          ]
        },
        {
          "output_type": "stream",
          "name": "stderr",
          "text": [
            "Epoch 5/50: 100%|██████████| 1137/1137 [02:21<00:00,  8.04batch/s, loss=3.68]\n"
          ]
        },
        {
          "output_type": "stream",
          "name": "stdout",
          "text": [
            "Epoch 5 Training Loss: 4.0732\n",
            "Epoch 5 Validation Loss: 4.3170\n",
            "Model checkpoint saved at epoch 5 with validation loss 4.3170.\n"
          ]
        },
        {
          "output_type": "stream",
          "name": "stderr",
          "text": [
            "Epoch 6/50:   0%|          | 2/1137 [00:00<04:05,  4.62batch/s, loss=3.99]"
          ]
        },
        {
          "output_type": "stream",
          "name": "stdout",
          "text": [
            "Batch 0 Translation: hello brother how are you -> आप को कैसे हैं कि\n"
          ]
        },
        {
          "output_type": "stream",
          "name": "stderr",
          "text": [
            "Epoch 6/50:   9%|▉         | 102/1137 [00:12<02:23,  7.23batch/s, loss=3.78]"
          ]
        },
        {
          "output_type": "stream",
          "name": "stdout",
          "text": [
            "Batch 100 Translation: hello brother how are you -> आप कैसे हैं\n"
          ]
        },
        {
          "output_type": "stream",
          "name": "stderr",
          "text": [
            "Epoch 6/50:  18%|█▊        | 202/1137 [00:25<02:09,  7.23batch/s, loss=3.9]"
          ]
        },
        {
          "output_type": "stream",
          "name": "stdout",
          "text": [
            "Batch 200 Translation: hello brother how are you -> आप कौन से कैसे हैं\n"
          ]
        },
        {
          "output_type": "stream",
          "name": "stderr",
          "text": [
            "Epoch 6/50:  27%|██▋       | 302/1137 [00:37<01:55,  7.21batch/s, loss=3.79]"
          ]
        },
        {
          "output_type": "stream",
          "name": "stdout",
          "text": [
            "Batch 300 Translation: hello brother how are you -> आप राम हैं कि आप कैसे हैं\n"
          ]
        },
        {
          "output_type": "stream",
          "name": "stderr",
          "text": [
            "Epoch 6/50:  35%|███▌      | 402/1137 [00:50<01:49,  6.72batch/s, loss=4.05]"
          ]
        },
        {
          "output_type": "stream",
          "name": "stdout",
          "text": [
            "Batch 400 Translation: hello brother how are you -> आप कैसे कैसे हैं\n"
          ]
        },
        {
          "output_type": "stream",
          "name": "stderr",
          "text": [
            "Epoch 6/50:  44%|████▍     | 502/1137 [01:02<01:29,  7.06batch/s, loss=3.71]"
          ]
        },
        {
          "output_type": "stream",
          "name": "stdout",
          "text": [
            "Batch 500 Translation: hello brother how are you -> आप भाई कैसे हैं\n"
          ]
        },
        {
          "output_type": "stream",
          "name": "stderr",
          "text": [
            "Epoch 6/50:  53%|█████▎    | 602/1137 [01:14<01:12,  7.40batch/s, loss=3.85]"
          ]
        },
        {
          "output_type": "stream",
          "name": "stdout",
          "text": [
            "Batch 600 Translation: hello brother how are you -> आप कैसे हैं कि राम है ।\n"
          ]
        },
        {
          "output_type": "stream",
          "name": "stderr",
          "text": [
            "Epoch 6/50:  62%|██████▏   | 702/1137 [01:27<00:55,  7.81batch/s, loss=3.58]"
          ]
        },
        {
          "output_type": "stream",
          "name": "stdout",
          "text": [
            "Batch 700 Translation: hello brother how are you -> आप कौन हैं\n"
          ]
        },
        {
          "output_type": "stream",
          "name": "stderr",
          "text": [
            "Epoch 6/50:  71%|███████   | 802/1137 [01:39<00:49,  6.71batch/s, loss=3.5]"
          ]
        },
        {
          "output_type": "stream",
          "name": "stdout",
          "text": [
            "Batch 800 Translation: hello brother how are you -> आप कैसे कैसे हैं\n"
          ]
        },
        {
          "output_type": "stream",
          "name": "stderr",
          "text": [
            "Epoch 6/50:  79%|███████▉  | 902/1137 [01:51<00:31,  7.55batch/s, loss=3.97]"
          ]
        },
        {
          "output_type": "stream",
          "name": "stdout",
          "text": [
            "Batch 900 Translation: hello brother how are you -> आप कौन से कितने हैं\n"
          ]
        },
        {
          "output_type": "stream",
          "name": "stderr",
          "text": [
            "Epoch 6/50:  88%|████████▊ | 1002/1137 [02:04<00:17,  7.71batch/s, loss=3.88]"
          ]
        },
        {
          "output_type": "stream",
          "name": "stdout",
          "text": [
            "Batch 1000 Translation: hello brother how are you -> आप कैसे कैसे हैं\n"
          ]
        },
        {
          "output_type": "stream",
          "name": "stderr",
          "text": [
            "Epoch 6/50:  97%|█████████▋| 1102/1137 [02:16<00:04,  7.55batch/s, loss=3.82]"
          ]
        },
        {
          "output_type": "stream",
          "name": "stdout",
          "text": [
            "Batch 1100 Translation: hello brother how are you -> आप कौन से कौन हैं\n"
          ]
        },
        {
          "output_type": "stream",
          "name": "stderr",
          "text": [
            "Epoch 6/50: 100%|██████████| 1137/1137 [02:20<00:00,  8.09batch/s, loss=3.53]\n"
          ]
        },
        {
          "output_type": "stream",
          "name": "stdout",
          "text": [
            "Epoch 6 Training Loss: 3.7039\n",
            "Epoch 6 Validation Loss: 4.1041\n",
            "Model checkpoint saved at epoch 6 with validation loss 4.1041.\n"
          ]
        },
        {
          "output_type": "stream",
          "name": "stderr",
          "text": [
            "Epoch 7/50:   0%|          | 2/1137 [00:00<03:14,  5.82batch/s, loss=3.31]"
          ]
        },
        {
          "output_type": "stream",
          "name": "stdout",
          "text": [
            "Batch 0 Translation: hello brother how are you -> आप कैसे कैसे हैं\n"
          ]
        },
        {
          "output_type": "stream",
          "name": "stderr",
          "text": [
            "Epoch 7/50:   9%|▉         | 102/1137 [00:12<02:30,  6.86batch/s, loss=3.37]"
          ]
        },
        {
          "output_type": "stream",
          "name": "stdout",
          "text": [
            "Batch 100 Translation: hello brother how are you -> आप कैसे हैं\n"
          ]
        },
        {
          "output_type": "stream",
          "name": "stderr",
          "text": [
            "Epoch 7/50:  18%|█▊        | 202/1137 [00:24<02:12,  7.08batch/s, loss=3.1]"
          ]
        },
        {
          "output_type": "stream",
          "name": "stdout",
          "text": [
            "Batch 200 Translation: hello brother how are you -> आप कैसे हैं कि कौन से है\n"
          ]
        },
        {
          "output_type": "stream",
          "name": "stderr",
          "text": [
            "Epoch 7/50:  27%|██▋       | 302/1137 [00:37<01:51,  7.50batch/s, loss=3.39]"
          ]
        },
        {
          "output_type": "stream",
          "name": "stdout",
          "text": [
            "Batch 300 Translation: hello brother how are you -> आप कैसे कैसे हैं\n"
          ]
        },
        {
          "output_type": "stream",
          "name": "stderr",
          "text": [
            "Epoch 7/50:  35%|███▌      | 402/1137 [00:49<01:35,  7.71batch/s, loss=3.12]"
          ]
        },
        {
          "output_type": "stream",
          "name": "stdout",
          "text": [
            "Batch 400 Translation: hello brother how are you -> आप कैसे हैं\n"
          ]
        },
        {
          "output_type": "stream",
          "name": "stderr",
          "text": [
            "Epoch 7/50:  44%|████▍     | 502/1137 [01:02<01:45,  6.01batch/s, loss=3.66]"
          ]
        },
        {
          "output_type": "stream",
          "name": "stdout",
          "text": [
            "Batch 500 Translation: hello brother how are you -> आप कैसे हैं कि आप कैसे हैं\n"
          ]
        },
        {
          "output_type": "stream",
          "name": "stderr",
          "text": [
            "Epoch 7/50:  53%|█████▎    | 602/1137 [01:14<01:09,  7.75batch/s, loss=3.38]"
          ]
        },
        {
          "output_type": "stream",
          "name": "stdout",
          "text": [
            "Batch 600 Translation: hello brother how are you -> आप कौन से हैं\n"
          ]
        },
        {
          "output_type": "stream",
          "name": "stderr",
          "text": [
            "Epoch 7/50:  62%|██████▏   | 702/1137 [01:26<00:58,  7.39batch/s, loss=3.4]"
          ]
        },
        {
          "output_type": "stream",
          "name": "stdout",
          "text": [
            "Batch 700 Translation: hello brother how are you -> आप कौन हैं कि भाई कैसे है\n"
          ]
        },
        {
          "output_type": "stream",
          "name": "stderr",
          "text": [
            "Epoch 7/50:  71%|███████   | 802/1137 [01:39<00:44,  7.45batch/s, loss=3.39]"
          ]
        },
        {
          "output_type": "stream",
          "name": "stdout",
          "text": [
            "Batch 800 Translation: hello brother how are you -> आप कैसे कितने का हैं\n"
          ]
        },
        {
          "output_type": "stream",
          "name": "stderr",
          "text": [
            "Epoch 7/50:  79%|███████▉  | 902/1137 [01:51<00:35,  6.66batch/s, loss=3.07]"
          ]
        },
        {
          "output_type": "stream",
          "name": "stdout",
          "text": [
            "Batch 900 Translation: hello brother how are you -> आप कैसे कैसे हैं\n"
          ]
        },
        {
          "output_type": "stream",
          "name": "stderr",
          "text": [
            "Epoch 7/50:  88%|████████▊ | 1002/1137 [02:03<00:17,  7.75batch/s, loss=3.29]"
          ]
        },
        {
          "output_type": "stream",
          "name": "stdout",
          "text": [
            "Batch 1000 Translation: hello brother how are you -> आप के भाई हैं\n"
          ]
        },
        {
          "output_type": "stream",
          "name": "stderr",
          "text": [
            "Epoch 7/50:  97%|█████████▋| 1102/1137 [02:16<00:04,  7.23batch/s, loss=3.21]"
          ]
        },
        {
          "output_type": "stream",
          "name": "stdout",
          "text": [
            "Batch 1100 Translation: hello brother how are you -> आप को कैसे कैसे कर रहे हैं\n"
          ]
        },
        {
          "output_type": "stream",
          "name": "stderr",
          "text": [
            "Epoch 7/50: 100%|██████████| 1137/1137 [02:20<00:00,  8.09batch/s, loss=3.78]\n"
          ]
        },
        {
          "output_type": "stream",
          "name": "stdout",
          "text": [
            "Epoch 7 Training Loss: 3.3753\n",
            "Epoch 7 Validation Loss: 3.9315\n",
            "Model checkpoint saved at epoch 7 with validation loss 3.9315.\n"
          ]
        },
        {
          "output_type": "stream",
          "name": "stderr",
          "text": [
            "Epoch 8/50:   0%|          | 2/1137 [00:00<03:13,  5.88batch/s, loss=3.28]"
          ]
        },
        {
          "output_type": "stream",
          "name": "stdout",
          "text": [
            "Batch 0 Translation: hello brother how are you -> आप का नाम कैसे हैं\n"
          ]
        },
        {
          "output_type": "stream",
          "name": "stderr",
          "text": [
            "Epoch 8/50:   9%|▉         | 102/1137 [00:12<02:14,  7.68batch/s, loss=3.25]"
          ]
        },
        {
          "output_type": "stream",
          "name": "stdout",
          "text": [
            "Batch 100 Translation: hello brother how are you -> आप कैसे कैसे हैं\n"
          ]
        },
        {
          "output_type": "stream",
          "name": "stderr",
          "text": [
            "Epoch 8/50:  18%|█▊        | 202/1137 [00:24<02:28,  6.30batch/s, loss=3.07]"
          ]
        },
        {
          "output_type": "stream",
          "name": "stdout",
          "text": [
            "Batch 200 Translation: hello brother how are you -> आप को कैसे कैसे कर रहे हैं\n"
          ]
        },
        {
          "output_type": "stream",
          "name": "stderr",
          "text": [
            "Epoch 8/50:  27%|██▋       | 302/1137 [00:37<01:48,  7.70batch/s, loss=2.71]"
          ]
        },
        {
          "output_type": "stream",
          "name": "stdout",
          "text": [
            "Batch 300 Translation: hello brother how are you -> आप कैसे भाई हैं\n"
          ]
        },
        {
          "output_type": "stream",
          "name": "stderr",
          "text": [
            "Epoch 8/50:  35%|███▌      | 402/1137 [00:49<01:42,  7.19batch/s, loss=3.06]"
          ]
        },
        {
          "output_type": "stream",
          "name": "stdout",
          "text": [
            "Batch 400 Translation: hello brother how are you -> आप कैसे हैं कि भाई कैसे है\n"
          ]
        },
        {
          "output_type": "stream",
          "name": "stderr",
          "text": [
            "Epoch 8/50:  44%|████▍     | 502/1137 [01:02<01:23,  7.58batch/s, loss=3.1]"
          ]
        },
        {
          "output_type": "stream",
          "name": "stdout",
          "text": [
            "Batch 500 Translation: hello brother how are you -> आप कैसे भाई हैं\n"
          ]
        },
        {
          "output_type": "stream",
          "name": "stderr",
          "text": [
            "Epoch 8/50:  53%|█████▎    | 602/1137 [01:14<01:16,  6.99batch/s, loss=3.22]"
          ]
        },
        {
          "output_type": "stream",
          "name": "stdout",
          "text": [
            "Batch 600 Translation: hello brother how are you -> आप भाई कैसे हैं\n"
          ]
        },
        {
          "output_type": "stream",
          "name": "stderr",
          "text": [
            "Epoch 8/50:  62%|██████▏   | 702/1137 [01:26<00:58,  7.48batch/s, loss=3.13]"
          ]
        },
        {
          "output_type": "stream",
          "name": "stdout",
          "text": [
            "Batch 700 Translation: hello brother how are you -> आप कौन से भाई हैं\n"
          ]
        },
        {
          "output_type": "stream",
          "name": "stderr",
          "text": [
            "Epoch 8/50:  71%|███████   | 802/1137 [01:39<00:43,  7.69batch/s, loss=2.88]"
          ]
        },
        {
          "output_type": "stream",
          "name": "stdout",
          "text": [
            "Batch 800 Translation: hello brother how are you -> आप को कैसे हैं\n"
          ]
        },
        {
          "output_type": "stream",
          "name": "stderr",
          "text": [
            "Epoch 8/50:  79%|███████▉  | 902/1137 [01:51<00:34,  6.81batch/s, loss=3.09]"
          ]
        },
        {
          "output_type": "stream",
          "name": "stdout",
          "text": [
            "Batch 900 Translation: hello brother how are you -> आप कैसे हैं\n"
          ]
        },
        {
          "output_type": "stream",
          "name": "stderr",
          "text": [
            "Epoch 8/50:  88%|████████▊ | 1002/1137 [02:04<00:20,  6.45batch/s, loss=3.31]"
          ]
        },
        {
          "output_type": "stream",
          "name": "stdout",
          "text": [
            "Batch 1000 Translation: hello brother how are you -> आप भाई कैसे हैं\n"
          ]
        },
        {
          "output_type": "stream",
          "name": "stderr",
          "text": [
            "Epoch 8/50:  97%|█████████▋| 1102/1137 [02:16<00:04,  7.45batch/s, loss=3.08]"
          ]
        },
        {
          "output_type": "stream",
          "name": "stdout",
          "text": [
            "Batch 1100 Translation: hello brother how are you -> आप भाई कैसे हैं\n"
          ]
        },
        {
          "output_type": "stream",
          "name": "stderr",
          "text": [
            "Epoch 8/50: 100%|██████████| 1137/1137 [02:20<00:00,  8.07batch/s, loss=3.28]\n"
          ]
        },
        {
          "output_type": "stream",
          "name": "stdout",
          "text": [
            "Epoch 8 Training Loss: 3.0874\n",
            "Epoch 8 Validation Loss: 3.8218\n",
            "Model checkpoint saved at epoch 8 with validation loss 3.8218.\n"
          ]
        },
        {
          "output_type": "stream",
          "name": "stderr",
          "text": [
            "Epoch 9/50:   0%|          | 2/1137 [00:00<02:54,  6.52batch/s, loss=2.95]"
          ]
        },
        {
          "output_type": "stream",
          "name": "stdout",
          "text": [
            "Batch 0 Translation: hello brother how are you -> आप कैसे हैं\n"
          ]
        },
        {
          "output_type": "stream",
          "name": "stderr",
          "text": [
            "Epoch 9/50:   9%|▉         | 102/1137 [00:12<02:12,  7.82batch/s, loss=2.9]"
          ]
        },
        {
          "output_type": "stream",
          "name": "stdout",
          "text": [
            "Batch 100 Translation: hello brother how are you -> आप कैसे हैं\n"
          ]
        },
        {
          "output_type": "stream",
          "name": "stderr",
          "text": [
            "Epoch 9/50:  18%|█▊        | 202/1137 [00:25<01:59,  7.85batch/s, loss=3.08]"
          ]
        },
        {
          "output_type": "stream",
          "name": "stdout",
          "text": [
            "Batch 200 Translation: hello brother how are you -> आप कैसे हैं\n"
          ]
        },
        {
          "output_type": "stream",
          "name": "stderr",
          "text": [
            "Epoch 9/50:  27%|██▋       | 302/1137 [00:37<02:12,  6.32batch/s, loss=2.68]"
          ]
        },
        {
          "output_type": "stream",
          "name": "stdout",
          "text": [
            "Batch 300 Translation: hello brother how are you -> आप भाई कैसे हैं\n"
          ]
        },
        {
          "output_type": "stream",
          "name": "stderr",
          "text": [
            "Epoch 9/50:  35%|███▌      | 402/1137 [00:49<01:34,  7.74batch/s, loss=2.73]"
          ]
        },
        {
          "output_type": "stream",
          "name": "stdout",
          "text": [
            "Batch 400 Translation: hello brother how are you -> आप भाई कैसे हैं\n"
          ]
        },
        {
          "output_type": "stream",
          "name": "stderr",
          "text": [
            "Epoch 9/50:  44%|████▍     | 502/1137 [01:02<01:25,  7.46batch/s, loss=2.6]"
          ]
        },
        {
          "output_type": "stream",
          "name": "stdout",
          "text": [
            "Batch 500 Translation: hello brother how are you -> आप के भाई कैसे हैं\n"
          ]
        },
        {
          "output_type": "stream",
          "name": "stderr",
          "text": [
            "Epoch 9/50:  53%|█████▎    | 602/1137 [01:14<01:15,  7.05batch/s, loss=3.04]"
          ]
        },
        {
          "output_type": "stream",
          "name": "stdout",
          "text": [
            "Batch 600 Translation: hello brother how are you -> आप को कैसे कैसे कर रहे हैं\n"
          ]
        },
        {
          "output_type": "stream",
          "name": "stderr",
          "text": [
            "Epoch 9/50:  62%|██████▏   | 702/1137 [01:26<01:05,  6.65batch/s, loss=2.76]"
          ]
        },
        {
          "output_type": "stream",
          "name": "stdout",
          "text": [
            "Batch 700 Translation: hello brother how are you -> आप भाई कैसे हैं\n"
          ]
        },
        {
          "output_type": "stream",
          "name": "stderr",
          "text": [
            "Epoch 9/50:  71%|███████   | 802/1137 [01:39<00:43,  7.76batch/s, loss=2.94]"
          ]
        },
        {
          "output_type": "stream",
          "name": "stdout",
          "text": [
            "Batch 800 Translation: hello brother how are you -> आप भाई कैसा हैं\n"
          ]
        },
        {
          "output_type": "stream",
          "name": "stderr",
          "text": [
            "Epoch 9/50:  79%|███████▉  | 902/1137 [01:51<00:31,  7.45batch/s, loss=2.77]"
          ]
        },
        {
          "output_type": "stream",
          "name": "stdout",
          "text": [
            "Batch 900 Translation: hello brother how are you -> आप भाई का हो रहे हैं\n"
          ]
        },
        {
          "output_type": "stream",
          "name": "stderr",
          "text": [
            "Epoch 9/50:  88%|████████▊ | 1002/1137 [02:04<00:18,  7.20batch/s, loss=2.68]"
          ]
        },
        {
          "output_type": "stream",
          "name": "stdout",
          "text": [
            "Batch 1000 Translation: hello brother how are you -> आप भाई का जन्मदिन कैसे कर रहे हैं\n"
          ]
        },
        {
          "output_type": "stream",
          "name": "stderr",
          "text": [
            "Epoch 9/50:  97%|█████████▋| 1102/1137 [02:16<00:05,  6.97batch/s, loss=2.62]"
          ]
        },
        {
          "output_type": "stream",
          "name": "stdout",
          "text": [
            "Batch 1100 Translation: hello brother how are you -> आप कैसे हैं\n"
          ]
        },
        {
          "output_type": "stream",
          "name": "stderr",
          "text": [
            "Epoch 9/50: 100%|██████████| 1137/1137 [02:20<00:00,  8.08batch/s, loss=3.01]\n"
          ]
        },
        {
          "output_type": "stream",
          "name": "stdout",
          "text": [
            "Epoch 9 Training Loss: 2.8228\n",
            "Epoch 9 Validation Loss: 3.7459\n",
            "Model checkpoint saved at epoch 9 with validation loss 3.7459.\n"
          ]
        },
        {
          "output_type": "stream",
          "name": "stderr",
          "text": [
            "Epoch 10/50:   0%|          | 2/1137 [00:00<03:38,  5.19batch/s, loss=2.71]"
          ]
        },
        {
          "output_type": "stream",
          "name": "stdout",
          "text": [
            "Batch 0 Translation: hello brother how are you -> आप के भाई हैं\n"
          ]
        },
        {
          "output_type": "stream",
          "name": "stderr",
          "text": [
            "Epoch 10/50:   9%|▉         | 102/1137 [00:12<02:25,  7.11batch/s, loss=2.57]"
          ]
        },
        {
          "output_type": "stream",
          "name": "stdout",
          "text": [
            "Batch 100 Translation: hello brother how are you -> आप भाई कैसे हैं\n"
          ]
        },
        {
          "output_type": "stream",
          "name": "stderr",
          "text": [
            "Epoch 10/50:  18%|█▊        | 202/1137 [00:24<02:05,  7.43batch/s, loss=2.31]"
          ]
        },
        {
          "output_type": "stream",
          "name": "stdout",
          "text": [
            "Batch 200 Translation: hello brother how are you -> आप भाई के साथ क्या हैं\n"
          ]
        },
        {
          "output_type": "stream",
          "name": "stderr",
          "text": [
            "Epoch 10/50:  27%|██▋       | 302/1137 [00:37<01:47,  7.74batch/s, loss=2.57]"
          ]
        },
        {
          "output_type": "stream",
          "name": "stdout",
          "text": [
            "Batch 300 Translation: hello brother how are you -> आप भाई कैसे हैं\n"
          ]
        },
        {
          "output_type": "stream",
          "name": "stderr",
          "text": [
            "Epoch 10/50:  35%|███▌      | 402/1137 [00:49<01:56,  6.32batch/s, loss=2.73]"
          ]
        },
        {
          "output_type": "stream",
          "name": "stdout",
          "text": [
            "Batch 400 Translation: hello brother how are you -> आप भाई कैसे हैं\n"
          ]
        },
        {
          "output_type": "stream",
          "name": "stderr",
          "text": [
            "Epoch 10/50:  44%|████▍     | 502/1137 [01:01<01:29,  7.09batch/s, loss=2.75]"
          ]
        },
        {
          "output_type": "stream",
          "name": "stdout",
          "text": [
            "Batch 500 Translation: hello brother how are you -> आप हैं भाई कैसे\n"
          ]
        },
        {
          "output_type": "stream",
          "name": "stderr",
          "text": [
            "Epoch 10/50:  53%|█████▎    | 602/1137 [01:14<01:08,  7.77batch/s, loss=2.73]"
          ]
        },
        {
          "output_type": "stream",
          "name": "stdout",
          "text": [
            "Batch 600 Translation: hello brother how are you -> आप भाई कैसे हैं\n"
          ]
        },
        {
          "output_type": "stream",
          "name": "stderr",
          "text": [
            "Epoch 10/50:  62%|██████▏   | 702/1137 [01:26<00:56,  7.73batch/s, loss=2.45]"
          ]
        },
        {
          "output_type": "stream",
          "name": "stdout",
          "text": [
            "Batch 700 Translation: hello brother how are you -> आप कैसे हैं\n"
          ]
        },
        {
          "output_type": "stream",
          "name": "stderr",
          "text": [
            "Epoch 10/50:  71%|███████   | 802/1137 [01:39<00:53,  6.27batch/s, loss=2.79]"
          ]
        },
        {
          "output_type": "stream",
          "name": "stdout",
          "text": [
            "Batch 800 Translation: hello brother how are you -> आप भाई कैसे कर रहे हैं\n"
          ]
        },
        {
          "output_type": "stream",
          "name": "stderr",
          "text": [
            "Epoch 10/50:  79%|███████▉  | 902/1137 [01:51<00:30,  7.78batch/s, loss=2.83]"
          ]
        },
        {
          "output_type": "stream",
          "name": "stdout",
          "text": [
            "Batch 900 Translation: hello brother how are you -> आप कितने भाई हैं\n"
          ]
        },
        {
          "output_type": "stream",
          "name": "stderr",
          "text": [
            "Epoch 10/50:  88%|████████▊ | 1002/1137 [02:03<00:18,  7.26batch/s, loss=2.51]"
          ]
        },
        {
          "output_type": "stream",
          "name": "stdout",
          "text": [
            "Batch 1000 Translation: hello brother how are you -> आप भाई कैसे हैं\n"
          ]
        },
        {
          "output_type": "stream",
          "name": "stderr",
          "text": [
            "Epoch 10/50:  97%|█████████▋| 1102/1137 [02:16<00:04,  7.78batch/s, loss=2.29]"
          ]
        },
        {
          "output_type": "stream",
          "name": "stdout",
          "text": [
            "Batch 1100 Translation: hello brother how are you -> आप कैसे हैं\n"
          ]
        },
        {
          "output_type": "stream",
          "name": "stderr",
          "text": [
            "Epoch 10/50: 100%|██████████| 1137/1137 [02:20<00:00,  8.09batch/s, loss=2.93]\n"
          ]
        },
        {
          "output_type": "stream",
          "name": "stdout",
          "text": [
            "Epoch 10 Training Loss: 2.5805\n",
            "Epoch 10 Validation Loss: 3.6944\n",
            "Model checkpoint saved at epoch 10 with validation loss 3.6944.\n"
          ]
        },
        {
          "output_type": "stream",
          "name": "stderr",
          "text": [
            "Epoch 11/50:   0%|          | 2/1137 [00:00<03:12,  5.91batch/s, loss=2.3]"
          ]
        },
        {
          "output_type": "stream",
          "name": "stdout",
          "text": [
            "Batch 0 Translation: hello brother how are you -> आप कैसे हैं\n"
          ]
        },
        {
          "output_type": "stream",
          "name": "stderr",
          "text": [
            "Epoch 11/50:   9%|▉         | 102/1137 [00:12<02:40,  6.47batch/s, loss=2.25]"
          ]
        },
        {
          "output_type": "stream",
          "name": "stdout",
          "text": [
            "Batch 100 Translation: hello brother how are you -> आप कितने बजे हैं\n"
          ]
        },
        {
          "output_type": "stream",
          "name": "stderr",
          "text": [
            "Epoch 11/50:  18%|█▊        | 202/1137 [00:25<02:23,  6.54batch/s, loss=2.18]"
          ]
        },
        {
          "output_type": "stream",
          "name": "stdout",
          "text": [
            "Batch 200 Translation: hello brother how are you -> आप भाई कैसे हैं\n"
          ]
        },
        {
          "output_type": "stream",
          "name": "stderr",
          "text": [
            "Epoch 11/50:  27%|██▋       | 302/1137 [00:37<01:49,  7.61batch/s, loss=2.24]"
          ]
        },
        {
          "output_type": "stream",
          "name": "stdout",
          "text": [
            "Batch 300 Translation: hello brother how are you -> आप भाई कैसे हैं\n"
          ]
        },
        {
          "output_type": "stream",
          "name": "stderr",
          "text": [
            "Epoch 11/50:  35%|███▌      | 402/1137 [00:50<01:37,  7.56batch/s, loss=2.46]"
          ]
        },
        {
          "output_type": "stream",
          "name": "stdout",
          "text": [
            "Batch 400 Translation: hello brother how are you -> आप कितने भाई हैं\n"
          ]
        },
        {
          "output_type": "stream",
          "name": "stderr",
          "text": [
            "Epoch 11/50:  44%|████▍     | 502/1137 [01:02<01:43,  6.12batch/s, loss=2.43]"
          ]
        },
        {
          "output_type": "stream",
          "name": "stdout",
          "text": [
            "Batch 500 Translation: hello brother how are you -> आप भाई के भाई कैसे हैं\n"
          ]
        },
        {
          "output_type": "stream",
          "name": "stderr",
          "text": [
            "Epoch 11/50:  53%|█████▎    | 602/1137 [01:14<01:19,  6.77batch/s, loss=2.45]"
          ]
        },
        {
          "output_type": "stream",
          "name": "stdout",
          "text": [
            "Batch 600 Translation: hello brother how are you -> आप के भाई कैसे हैं\n"
          ]
        },
        {
          "output_type": "stream",
          "name": "stderr",
          "text": [
            "Epoch 11/50:  62%|██████▏   | 702/1137 [01:27<00:58,  7.42batch/s, loss=2.49]"
          ]
        },
        {
          "output_type": "stream",
          "name": "stdout",
          "text": [
            "Batch 700 Translation: hello brother how are you -> आप हैं कि भाई कैसे है\n"
          ]
        },
        {
          "output_type": "stream",
          "name": "stderr",
          "text": [
            "Epoch 11/50:  71%|███████   | 802/1137 [01:40<00:43,  7.68batch/s, loss=2.4]"
          ]
        },
        {
          "output_type": "stream",
          "name": "stdout",
          "text": [
            "Batch 800 Translation: hello brother how are you -> आप हैं भाई कैसे\n"
          ]
        },
        {
          "output_type": "stream",
          "name": "stderr",
          "text": [
            "Epoch 11/50:  79%|███████▉  | 902/1137 [01:52<00:35,  6.71batch/s, loss=2.61]"
          ]
        },
        {
          "output_type": "stream",
          "name": "stdout",
          "text": [
            "Batch 900 Translation: hello brother how are you -> आप भाई कैसे हैं\n"
          ]
        },
        {
          "output_type": "stream",
          "name": "stderr",
          "text": [
            "Epoch 11/50:  88%|████████▊ | 1002/1137 [02:04<00:19,  7.04batch/s, loss=2.35]"
          ]
        },
        {
          "output_type": "stream",
          "name": "stdout",
          "text": [
            "Batch 1000 Translation: hello brother how are you -> आप हैं भाई कैसे\n"
          ]
        },
        {
          "output_type": "stream",
          "name": "stderr",
          "text": [
            "Epoch 11/50:  97%|█████████▋| 1102/1137 [02:17<00:04,  7.83batch/s, loss=2.62]"
          ]
        },
        {
          "output_type": "stream",
          "name": "stdout",
          "text": [
            "Batch 1100 Translation: hello brother how are you -> आप क्या हैं\n"
          ]
        },
        {
          "output_type": "stream",
          "name": "stderr",
          "text": [
            "Epoch 11/50: 100%|██████████| 1137/1137 [02:21<00:00,  8.05batch/s, loss=2.81]\n"
          ]
        },
        {
          "output_type": "stream",
          "name": "stdout",
          "text": [
            "Epoch 11 Training Loss: 2.3480\n",
            "Epoch 11 Validation Loss: 3.6731\n",
            "Model checkpoint saved at epoch 11 with validation loss 3.6731.\n"
          ]
        },
        {
          "output_type": "stream",
          "name": "stderr",
          "text": [
            "Epoch 12/50:   0%|          | 2/1137 [00:00<03:11,  5.94batch/s, loss=2.3]"
          ]
        },
        {
          "output_type": "stream",
          "name": "stdout",
          "text": [
            "Batch 0 Translation: hello brother how are you -> आप कैसे हैं\n"
          ]
        },
        {
          "output_type": "stream",
          "name": "stderr",
          "text": [
            "Epoch 12/50:   9%|▉         | 102/1137 [00:12<02:21,  7.32batch/s, loss=2.27]"
          ]
        },
        {
          "output_type": "stream",
          "name": "stdout",
          "text": [
            "Batch 100 Translation: hello brother how are you -> आप का भाई कैसे कर रहे हैं\n"
          ]
        },
        {
          "output_type": "stream",
          "name": "stderr",
          "text": [
            "Epoch 12/50:  18%|█▊        | 202/1137 [00:25<02:23,  6.50batch/s, loss=2.23]"
          ]
        },
        {
          "output_type": "stream",
          "name": "stdout",
          "text": [
            "Batch 200 Translation: hello brother how are you -> आप क्या हैं\n"
          ]
        },
        {
          "output_type": "stream",
          "name": "stderr",
          "text": [
            "Epoch 12/50:  27%|██▋       | 302/1137 [00:37<01:49,  7.65batch/s, loss=2.21]"
          ]
        },
        {
          "output_type": "stream",
          "name": "stdout",
          "text": [
            "Batch 300 Translation: hello brother how are you -> आप कैसे हैं\n"
          ]
        },
        {
          "output_type": "stream",
          "name": "stderr",
          "text": [
            "Epoch 12/50:  35%|███▌      | 402/1137 [00:50<01:40,  7.30batch/s, loss=1.89]"
          ]
        },
        {
          "output_type": "stream",
          "name": "stdout",
          "text": [
            "Batch 400 Translation: hello brother how are you -> आप भाई कैसे हैं\n"
          ]
        },
        {
          "output_type": "stream",
          "name": "stderr",
          "text": [
            "Epoch 12/50:  44%|████▍     | 502/1137 [01:02<01:24,  7.52batch/s, loss=1.97]"
          ]
        },
        {
          "output_type": "stream",
          "name": "stdout",
          "text": [
            "Batch 500 Translation: hello brother how are you -> आप भाई कैसे हैं\n"
          ]
        },
        {
          "output_type": "stream",
          "name": "stderr",
          "text": [
            "Epoch 12/50:  53%|█████▎    | 602/1137 [01:14<01:19,  6.70batch/s, loss=2.22]"
          ]
        },
        {
          "output_type": "stream",
          "name": "stdout",
          "text": [
            "Batch 600 Translation: hello brother how are you -> आप कितने का हैं\n"
          ]
        },
        {
          "output_type": "stream",
          "name": "stderr",
          "text": [
            "Epoch 12/50:  62%|██████▏   | 702/1137 [01:27<00:57,  7.56batch/s, loss=2.29]"
          ]
        },
        {
          "output_type": "stream",
          "name": "stdout",
          "text": [
            "Batch 700 Translation: hello brother how are you -> आप भाई कैसे हैं\n"
          ]
        },
        {
          "output_type": "stream",
          "name": "stderr",
          "text": [
            "Epoch 12/50:  71%|███████   | 802/1137 [01:39<00:42,  7.88batch/s, loss=2.16]"
          ]
        },
        {
          "output_type": "stream",
          "name": "stdout",
          "text": [
            "Batch 800 Translation: hello brother how are you -> आप कैसे हैं\n"
          ]
        },
        {
          "output_type": "stream",
          "name": "stderr",
          "text": [
            "Epoch 12/50:  79%|███████▉  | 902/1137 [01:52<00:32,  7.27batch/s, loss=2.08]"
          ]
        },
        {
          "output_type": "stream",
          "name": "stdout",
          "text": [
            "Batch 900 Translation: hello brother how are you -> आप कैसे हैं\n"
          ]
        },
        {
          "output_type": "stream",
          "name": "stderr",
          "text": [
            "Epoch 12/50:  88%|████████▊ | 1002/1137 [02:04<00:20,  6.69batch/s, loss=2.11]"
          ]
        },
        {
          "output_type": "stream",
          "name": "stdout",
          "text": [
            "Batch 1000 Translation: hello brother how are you -> आप भाई कैसे हैं\n"
          ]
        },
        {
          "output_type": "stream",
          "name": "stderr",
          "text": [
            "Epoch 12/50:  97%|█████████▋| 1102/1137 [02:16<00:04,  7.54batch/s, loss=2.13]"
          ]
        },
        {
          "output_type": "stream",
          "name": "stdout",
          "text": [
            "Batch 1100 Translation: hello brother how are you -> आप हैं भाई कैसा हैं\n"
          ]
        },
        {
          "output_type": "stream",
          "name": "stderr",
          "text": [
            "Epoch 12/50: 100%|██████████| 1137/1137 [02:21<00:00,  8.06batch/s, loss=2.66]\n"
          ]
        },
        {
          "output_type": "stream",
          "name": "stdout",
          "text": [
            "Epoch 12 Training Loss: 2.1287\n",
            "Epoch 12 Validation Loss: 3.6679\n",
            "Model checkpoint saved at epoch 12 with validation loss 3.6679.\n"
          ]
        },
        {
          "output_type": "stream",
          "name": "stderr",
          "text": [
            "Epoch 13/50:   0%|          | 2/1137 [00:00<03:48,  4.97batch/s, loss=2.04]"
          ]
        },
        {
          "output_type": "stream",
          "name": "stdout",
          "text": [
            "Batch 0 Translation: hello brother how are you -> आप भाई के भाई हैं\n"
          ]
        },
        {
          "output_type": "stream",
          "name": "stderr",
          "text": [
            "Epoch 13/50:   9%|▉         | 102/1137 [00:12<02:15,  7.64batch/s, loss=1.83]"
          ]
        },
        {
          "output_type": "stream",
          "name": "stdout",
          "text": [
            "Batch 100 Translation: hello brother how are you -> आप भाई कैसे हैं\n"
          ]
        },
        {
          "output_type": "stream",
          "name": "stderr",
          "text": [
            "Epoch 13/50:  18%|█▊        | 202/1137 [00:25<02:06,  7.39batch/s, loss=1.89]"
          ]
        },
        {
          "output_type": "stream",
          "name": "stdout",
          "text": [
            "Batch 200 Translation: hello brother how are you -> आप कितने भाई हैं\n"
          ]
        },
        {
          "output_type": "stream",
          "name": "stderr",
          "text": [
            "Epoch 13/50:  27%|██▋       | 302/1137 [00:38<02:04,  6.70batch/s, loss=2.09]"
          ]
        },
        {
          "output_type": "stream",
          "name": "stdout",
          "text": [
            "Batch 300 Translation: hello brother how are you -> आप हैं भाई कैसे\n"
          ]
        },
        {
          "output_type": "stream",
          "name": "stderr",
          "text": [
            "Epoch 13/50:  35%|███▌      | 402/1137 [00:50<01:36,  7.64batch/s, loss=2.04]"
          ]
        },
        {
          "output_type": "stream",
          "name": "stdout",
          "text": [
            "Batch 400 Translation: hello brother how are you -> आप हैं भाई कैसे\n"
          ]
        },
        {
          "output_type": "stream",
          "name": "stderr",
          "text": [
            "Epoch 13/50:  44%|████▍     | 502/1137 [01:02<01:24,  7.52batch/s, loss=1.65]"
          ]
        },
        {
          "output_type": "stream",
          "name": "stdout",
          "text": [
            "Batch 500 Translation: hello brother how are you -> आप कैसे हैं भाई\n"
          ]
        },
        {
          "output_type": "stream",
          "name": "stderr",
          "text": [
            "Epoch 13/50:  53%|█████▎    | 602/1137 [01:15<01:10,  7.59batch/s, loss=1.81]"
          ]
        },
        {
          "output_type": "stream",
          "name": "stdout",
          "text": [
            "Batch 600 Translation: hello brother how are you -> आप कितने भाई हैं\n"
          ]
        },
        {
          "output_type": "stream",
          "name": "stderr",
          "text": [
            "Epoch 13/50:  62%|██████▏   | 702/1137 [01:27<01:04,  6.75batch/s, loss=2.02]"
          ]
        },
        {
          "output_type": "stream",
          "name": "stdout",
          "text": [
            "Batch 700 Translation: hello brother how are you -> आप भाई कैसे हैं\n"
          ]
        },
        {
          "output_type": "stream",
          "name": "stderr",
          "text": [
            "Epoch 13/50:  71%|███████   | 802/1137 [01:40<00:43,  7.67batch/s, loss=1.77]"
          ]
        },
        {
          "output_type": "stream",
          "name": "stdout",
          "text": [
            "Batch 800 Translation: hello brother how are you -> आप भाई कैसे हैं\n"
          ]
        },
        {
          "output_type": "stream",
          "name": "stderr",
          "text": [
            "Epoch 13/50:  79%|███████▉  | 902/1137 [01:52<00:30,  7.60batch/s, loss=2.03]"
          ]
        },
        {
          "output_type": "stream",
          "name": "stdout",
          "text": [
            "Batch 900 Translation: hello brother how are you -> आप भाई कैसे हैं\n"
          ]
        },
        {
          "output_type": "stream",
          "name": "stderr",
          "text": [
            "Epoch 13/50:  88%|████████▊ | 1002/1137 [02:05<00:20,  6.73batch/s, loss=1.99]"
          ]
        },
        {
          "output_type": "stream",
          "name": "stdout",
          "text": [
            "Batch 1000 Translation: hello brother how are you -> आप भाई कैसे हैं\n"
          ]
        },
        {
          "output_type": "stream",
          "name": "stderr",
          "text": [
            "Epoch 13/50:  97%|█████████▋| 1102/1137 [02:17<00:05,  6.86batch/s, loss=1.97]"
          ]
        },
        {
          "output_type": "stream",
          "name": "stdout",
          "text": [
            "Batch 1100 Translation: hello brother how are you -> आप भाई कैसे हैं\n"
          ]
        },
        {
          "output_type": "stream",
          "name": "stderr",
          "text": [
            "Epoch 13/50: 100%|██████████| 1137/1137 [02:21<00:00,  8.01batch/s, loss=1.95]\n"
          ]
        },
        {
          "output_type": "stream",
          "name": "stdout",
          "text": [
            "Epoch 13 Training Loss: 1.9203\n",
            "Epoch 13 Validation Loss: 3.6906\n"
          ]
        },
        {
          "output_type": "stream",
          "name": "stderr",
          "text": [
            "Epoch 14/50:   0%|          | 1/1137 [00:00<03:25,  5.52batch/s, loss=5]"
          ]
        },
        {
          "output_type": "stream",
          "name": "stdout",
          "text": [
            "Batch 0 Translation: hello brother how are you -> आप हैं भाई कैसे\n"
          ]
        },
        {
          "output_type": "stream",
          "name": "stderr",
          "text": [
            "Epoch 14/50:   9%|▉         | 102/1137 [00:12<02:14,  7.70batch/s, loss=1.57]"
          ]
        },
        {
          "output_type": "stream",
          "name": "stdout",
          "text": [
            "Batch 100 Translation: hello brother how are you -> आप हैं भाई कैसे\n"
          ]
        },
        {
          "output_type": "stream",
          "name": "stderr",
          "text": [
            "Epoch 14/50:  18%|█▊        | 202/1137 [00:25<02:17,  6.82batch/s, loss=1.85]"
          ]
        },
        {
          "output_type": "stream",
          "name": "stdout",
          "text": [
            "Batch 200 Translation: hello brother how are you -> आप के भाई हैं\n"
          ]
        },
        {
          "output_type": "stream",
          "name": "stderr",
          "text": [
            "Epoch 14/50:  27%|██▋       | 302/1137 [00:37<01:46,  7.88batch/s, loss=1.55]"
          ]
        },
        {
          "output_type": "stream",
          "name": "stdout",
          "text": [
            "Batch 300 Translation: hello brother how are you -> आप क्या हैं\n"
          ]
        },
        {
          "output_type": "stream",
          "name": "stderr",
          "text": [
            "Epoch 14/50:  35%|███▌      | 402/1137 [00:49<01:36,  7.64batch/s, loss=1.42]"
          ]
        },
        {
          "output_type": "stream",
          "name": "stdout",
          "text": [
            "Batch 400 Translation: hello brother how are you -> आप क्या हैं भाई\n"
          ]
        },
        {
          "output_type": "stream",
          "name": "stderr",
          "text": [
            "Epoch 14/50:  44%|████▍     | 502/1137 [01:02<01:25,  7.44batch/s, loss=1.48]"
          ]
        },
        {
          "output_type": "stream",
          "name": "stdout",
          "text": [
            "Batch 500 Translation: hello brother how are you -> आप क्या हैं\n"
          ]
        },
        {
          "output_type": "stream",
          "name": "stderr",
          "text": [
            "Epoch 14/50:  53%|█████▎    | 602/1137 [01:14<01:20,  6.66batch/s, loss=1.57]"
          ]
        },
        {
          "output_type": "stream",
          "name": "stdout",
          "text": [
            "Batch 600 Translation: hello brother how are you -> आप भाई कैसे हैं\n"
          ]
        },
        {
          "output_type": "stream",
          "name": "stderr",
          "text": [
            "Epoch 14/50:  62%|██████▏   | 702/1137 [01:27<00:57,  7.59batch/s, loss=1.72]"
          ]
        },
        {
          "output_type": "stream",
          "name": "stdout",
          "text": [
            "Batch 700 Translation: hello brother how are you -> आप हैं भाई कैसे\n"
          ]
        },
        {
          "output_type": "stream",
          "name": "stderr",
          "text": [
            "Epoch 14/50:  71%|███████   | 802/1137 [01:39<00:43,  7.68batch/s, loss=1.88]"
          ]
        },
        {
          "output_type": "stream",
          "name": "stdout",
          "text": [
            "Batch 800 Translation: hello brother how are you -> आप भाई कैसे हैं\n"
          ]
        },
        {
          "output_type": "stream",
          "name": "stderr",
          "text": [
            "Epoch 14/50:  79%|███████▉  | 902/1137 [01:52<00:34,  6.89batch/s, loss=1.82]"
          ]
        },
        {
          "output_type": "stream",
          "name": "stdout",
          "text": [
            "Batch 900 Translation: hello brother how are you -> आप क्या हैं\n"
          ]
        },
        {
          "output_type": "stream",
          "name": "stderr",
          "text": [
            "Epoch 14/50:  88%|████████▊ | 1002/1137 [02:04<00:20,  6.50batch/s, loss=1.53]"
          ]
        },
        {
          "output_type": "stream",
          "name": "stdout",
          "text": [
            "Batch 1000 Translation: hello brother how are you -> आप हैं भाई कैसे\n"
          ]
        },
        {
          "output_type": "stream",
          "name": "stderr",
          "text": [
            "Epoch 14/50:  97%|█████████▋| 1102/1137 [02:16<00:04,  7.47batch/s, loss=1.77]"
          ]
        },
        {
          "output_type": "stream",
          "name": "stdout",
          "text": [
            "Batch 1100 Translation: hello brother how are you -> आप हैं भाई का जन्मदिन\n"
          ]
        },
        {
          "output_type": "stream",
          "name": "stderr",
          "text": [
            "Epoch 14/50: 100%|██████████| 1137/1137 [02:20<00:00,  8.07batch/s, loss=1.99]\n"
          ]
        },
        {
          "output_type": "stream",
          "name": "stdout",
          "text": [
            "Epoch 14 Training Loss: 1.7192\n",
            "Epoch 14 Validation Loss: 3.7316\n"
          ]
        },
        {
          "output_type": "stream",
          "name": "stderr",
          "text": [
            "Epoch 15/50:   0%|          | 1/1137 [00:00<03:35,  5.28batch/s, loss=5.15]"
          ]
        },
        {
          "output_type": "stream",
          "name": "stdout",
          "text": [
            "Batch 0 Translation: hello brother how are you -> आप हैं कि भाई कैसे\n"
          ]
        },
        {
          "output_type": "stream",
          "name": "stderr",
          "text": [
            "Epoch 15/50:   9%|▉         | 102/1137 [00:12<02:28,  6.99batch/s, loss=1.44]"
          ]
        },
        {
          "output_type": "stream",
          "name": "stdout",
          "text": [
            "Batch 100 Translation: hello brother how are you -> आप क्या हैं भाई\n"
          ]
        },
        {
          "output_type": "stream",
          "name": "stderr",
          "text": [
            "Epoch 15/50:  18%|█▊        | 202/1137 [00:24<02:07,  7.36batch/s, loss=1.44]"
          ]
        },
        {
          "output_type": "stream",
          "name": "stdout",
          "text": [
            "Batch 200 Translation: hello brother how are you -> आप भाई के कितने हैं\n"
          ]
        },
        {
          "output_type": "stream",
          "name": "stderr",
          "text": [
            "Epoch 15/50:  27%|██▋       | 302/1137 [00:37<01:49,  7.65batch/s, loss=1.56]"
          ]
        },
        {
          "output_type": "stream",
          "name": "stdout",
          "text": [
            "Batch 300 Translation: hello brother how are you -> आप कितने भाई हैं\n"
          ]
        },
        {
          "output_type": "stream",
          "name": "stderr",
          "text": [
            "Epoch 15/50:  35%|███▌      | 402/1137 [00:49<01:51,  6.57batch/s, loss=1.26]"
          ]
        },
        {
          "output_type": "stream",
          "name": "stdout",
          "text": [
            "Batch 400 Translation: hello brother how are you -> आप कह रहे हैं\n"
          ]
        },
        {
          "output_type": "stream",
          "name": "stderr",
          "text": [
            "Epoch 15/50:  44%|████▍     | 502/1137 [01:01<01:32,  6.85batch/s, loss=1.6]"
          ]
        },
        {
          "output_type": "stream",
          "name": "stdout",
          "text": [
            "Batch 500 Translation: hello brother how are you -> आप भाई कैसे हैं\n"
          ]
        },
        {
          "output_type": "stream",
          "name": "stderr",
          "text": [
            "Epoch 15/50:  53%|█████▎    | 602/1137 [01:14<01:10,  7.64batch/s, loss=1.61]"
          ]
        },
        {
          "output_type": "stream",
          "name": "stdout",
          "text": [
            "Batch 600 Translation: hello brother how are you -> आप कितने के हैं\n"
          ]
        },
        {
          "output_type": "stream",
          "name": "stderr",
          "text": [
            "Epoch 15/50:  62%|██████▏   | 702/1137 [01:26<00:55,  7.86batch/s, loss=1.34]"
          ]
        },
        {
          "output_type": "stream",
          "name": "stdout",
          "text": [
            "Batch 700 Translation: hello brother how are you -> आप क्या हैं\n"
          ]
        },
        {
          "output_type": "stream",
          "name": "stderr",
          "text": [
            "Epoch 15/50:  71%|███████   | 802/1137 [01:39<00:51,  6.55batch/s, loss=1.5]"
          ]
        },
        {
          "output_type": "stream",
          "name": "stdout",
          "text": [
            "Batch 800 Translation: hello brother how are you -> आप भाई कैसे हैं\n"
          ]
        },
        {
          "output_type": "stream",
          "name": "stderr",
          "text": [
            "Epoch 15/50:  79%|███████▉  | 902/1137 [01:51<00:33,  7.09batch/s, loss=1.5]"
          ]
        },
        {
          "output_type": "stream",
          "name": "stdout",
          "text": [
            "Batch 900 Translation: hello brother how are you -> आप भाई कैसे हैं\n"
          ]
        },
        {
          "output_type": "stream",
          "name": "stderr",
          "text": [
            "Epoch 15/50:  88%|████████▊ | 1002/1137 [02:03<00:17,  7.62batch/s, loss=1.69]"
          ]
        },
        {
          "output_type": "stream",
          "name": "stdout",
          "text": [
            "Batch 1000 Translation: hello brother how are you -> आप हैं भाई कैसे\n"
          ]
        },
        {
          "output_type": "stream",
          "name": "stderr",
          "text": [
            "Epoch 15/50:  97%|█████████▋| 1102/1137 [02:16<00:04,  7.75batch/s, loss=1.67]"
          ]
        },
        {
          "output_type": "stream",
          "name": "stdout",
          "text": [
            "Batch 1100 Translation: hello brother how are you -> आप हैं भाई कैसे\n"
          ]
        },
        {
          "output_type": "stream",
          "name": "stderr",
          "text": [
            "Epoch 15/50: 100%|██████████| 1137/1137 [02:20<00:00,  8.09batch/s, loss=1.49]\n"
          ]
        },
        {
          "output_type": "stream",
          "name": "stdout",
          "text": [
            "Epoch 15 Training Loss: 1.5293\n",
            "Epoch 15 Validation Loss: 3.8012\n",
            "Early stopping triggered after 3 consecutive epochs without improvement.\n",
            "Training complete.\n",
            "Source: well as computer a to feed somehow can we have you algorithm manual whatever so and logarithms manual in used are that steps the all perform can computer a that students assure to need we then and\n",
            "Translation: तो आप । हैस्केल । में काम कर सकते हैं और । मैनुअल । में जो भी । मैनुअल । को रख सकते हैं वह । मैनुअल एल्गोरिथ्म\n"
          ]
        }
      ],
      "source": [
        "BATCH_SIZE = 64\n",
        "EMBED_DIM = 300\n",
        "NUM_HEADS = 8\n",
        "NUM_ENCODER_LAYERS = 6\n",
        "NUM_DECODER_LAYERS = 6\n",
        "DROPOUT = 0.3\n",
        "LEARNING_RATE = 0.0001\n",
        "NUM_EPOCHS = 50\n",
        "\n",
        "device = torch.device(\"cuda\" if torch.cuda.is_available() else \"cpu\")\n",
        "\n",
        "model = NeuralTransformer(\n",
        "    source_vocab_size=len(en_word2index),target_vocab_size=len(de_word2index),embedding_dimension=embedding_dim, attention_heads=6,encoder_layers=6,\n",
        "    decoder_layers=6,dropout_rate=0.1,maximum_sequence_length=MAX_SEQ_LEN,source_embeddings=source_embeddings, target_embeddings=target_embeddings\n",
        ").to(device)\n",
        "\n",
        "\n",
        "criterion = nn.CrossEntropyLoss(ignore_index=de_word2index[\"<PAD>\"])\n",
        "optimizer = optim.Adam(model.parameters(), lr=LEARNING_RATE, weight_decay=1e-5)\n",
        "scheduler = ReduceLROnPlateau(optimizer, mode='min', factor=0.5, patience=3)\n",
        "\n",
        "train_transformer_model(\n",
        "    model=model,\n",
        "    training_data_loader=train_loader,\n",
        "    validation_data_loader=val_loader,\n",
        "    optimizer=optimizer,\n",
        "    scheduler=scheduler,\n",
        "    loss_criterion=criterion,\n",
        "    num_epochs=NUM_EPOCHS,\n",
        "    device=device,\n",
        "    source_vocab=en_word2index,\n",
        "    target_vocab=de_word2index,\n",
        "    max_sequence_length=MAX_SEQ_LEN,\n",
        "    save_path=\"best_model.pth\"\n",
        ")\n",
        "\n",
        "random_sentence = en_test[0]\n",
        "translated_sentence = sentence_translation(random_sentence, model, en_word2index, de_word2index, MAX_SEQ_LEN)\n",
        "print(f\"Source: {' '.join(random_sentence)}\")\n",
        "print(f\"Translation: {' '.join(translated_sentence)}\")"
      ]
    },
    {
      "cell_type": "markdown",
      "source": [
        "**Samle exmples of translations by trained model:**"
      ],
      "metadata": {
        "id": "MFhSpOwtcQj6"
      }
    },
    {
      "cell_type": "code",
      "execution_count": null,
      "metadata": {
        "colab": {
          "base_uri": "https://localhost:8080/"
        },
        "id": "X0jSEuescw5U",
        "outputId": "33f0919c-ed9f-49de-91e5-bb8cb5cdae9d"
      },
      "outputs": [
        {
          "output_type": "stream",
          "name": "stdout",
          "text": [
            "Source: january of first the on scheduled event the for address the is what\n",
            "Translation: भारत के प्रथम को निर्धारित कार्यक्रम के लिए निर्धारित एड्रेस क्या है\n"
          ]
        }
      ],
      "source": [
        "random_sentence = en_test[1]\n",
        "translated_sentence = sentence_translation(random_sentence, model, en_word2index, de_word2index, MAX_SEQ_LEN)\n",
        "print(f\"Source: {' '.join(random_sentence)}\")\n",
        "print(f\"Translation: {' '.join(translated_sentence)}\")"
      ]
    },
    {
      "cell_type": "code",
      "execution_count": null,
      "metadata": {
        "colab": {
          "base_uri": "https://localhost:8080/"
        },
        "id": "48m27VfFcw5Y",
        "outputId": "e90bf97b-ec0a-40f0-cefd-a56b0340a714"
      },
      "outputs": [
        {
          "output_type": "stream",
          "name": "stdout",
          "text": [
            "Source: district coimbatore the in kilometres square of area an in spread is park national gandhi indira\n",
            "Translation: इंदिरा राष्ट्रीय उद्यान बंगलौर जिले में वर्ग किलोमीटर क्षेत्र में फैला हुआ है ।\n"
          ]
        }
      ],
      "source": [
        "random_sentence = en_test[2]\n",
        "translated_sentence = sentence_translation(random_sentence, model, en_word2index, de_word2index, MAX_SEQ_LEN)\n",
        "print(f\"Source: {' '.join(random_sentence)}\")\n",
        "print(f\"Translation: {' '.join(translated_sentence)}\")"
      ]
    },
    {
      "cell_type": "code",
      "execution_count": null,
      "metadata": {
        "colab": {
          "base_uri": "https://localhost:8080/"
        },
        "id": "PJIZz62ucw5c",
        "outputId": "74720c07-377e-44a3-f29e-5bde255e751e"
      },
      "outputs": [
        {
          "output_type": "stream",
          "name": "stdout",
          "text": [
            "Source: clothes colored light especially other with cloth that put not must you then color leaves cloth a if\n",
            "Translation: यदि कपड़े की पत्तियों का रंग हरा तो उसकी रोशनी में न लगना चाहिए ।\n"
          ]
        }
      ],
      "source": [
        "random_sentence = en_test[15]\n",
        "translated_sentence = sentence_translation(random_sentence, model, en_word2index, de_word2index, MAX_SEQ_LEN)\n",
        "print(f\"Source: {' '.join(random_sentence)}\")\n",
        "print(f\"Translation: {' '.join(translated_sentence)}\")"
      ]
    },
    {
      "cell_type": "markdown",
      "source": [
        "**Code to load saved model checkpoint:**"
      ],
      "metadata": {
        "id": "xb5PIcx4X2GC"
      }
    },
    {
      "cell_type": "code",
      "execution_count": null,
      "metadata": {
        "id": "kZbfnScrcw5h"
      },
      "outputs": [],
      "source": [
        "def load_model(save_path, model, optimizer, scheduler, device):\n",
        "    checkpoint = torch.load(save_path, map_location=device)\n",
        "    model.load_state_dict(checkpoint['model_state_dict'])\n",
        "    optimizer.load_state_dict(checkpoint['optimizer_state_dict'])\n",
        "    scheduler.load_state_dict(checkpoint['scheduler_state_dict'])\n",
        "    scaler = torch.cuda.amp.GradScaler()\n",
        "    scaler.load_state_dict(checkpoint['scaler_state_dict'])\n",
        "    print(f\"Model loaded from checkpoint at epoch {checkpoint['epoch']} with validation loss {checkpoint['best_validation_loss']:.4f}.\")\n",
        "    return model, optimizer, scheduler, scaler"
      ]
    },
    {
      "cell_type": "markdown",
      "metadata": {
        "id": "-5zCFGGn1VSh",
        "jp-MarkdownHeadingCollapsed": true
      },
      "source": [
        "### **Generating Predictions for Test file:**"
      ]
    },
    {
      "cell_type": "markdown",
      "source": [
        "This class allows us to retrieve pair of an ID and its corresponding sentence by index."
      ],
      "metadata": {
        "id": "jAM_G2hUdUYj"
      }
    },
    {
      "cell_type": "code",
      "source": [
        "class TestDataset(Dataset):\n",
        "    def __init__(self, ids, sentences):\n",
        "        self.ids = ids\n",
        "        self.sentences = sentences\n",
        "    def __len__(self):\n",
        "        return len(self.ids)\n",
        "    def __getitem__(self, index):\n",
        "        return self.ids[index], self.sentences[index]"
      ],
      "metadata": {
        "id": "wXPGK7uPc6WM"
      },
      "execution_count": null,
      "outputs": []
    },
    {
      "cell_type": "markdown",
      "source": [
        "This function takes batch of sentences in one language and translates them into another using a model. It first fixes the length of input sentences and pads them. It starts off each sentence of the batch with <SOS> token and then iteratively predicts the next word until it hits either an <EOS> token or it hits its max sequence length. It finally converts the predicted tokens back into words using the target vocabulary and returns the translated sentences."
      ],
      "metadata": {
        "id": "OOvDBZg0d5-W"
      }
    },
    {
      "cell_type": "code",
      "source": [
        "def batch_translate(sentences, model, source_vocab, target_vocab, max_sequence_length):\n",
        "    tokenized_sentences = [pad_sequence(preprocess_english([sentence])[0], source_vocab, max_sequence_length) for sentence in sentences]\n",
        "    source_tensor = torch.tensor(tokenized_sentences).to(device)\n",
        "    batch_size = len(sentences)\n",
        "    target_tokens = torch.tensor([[target_vocab[\"<SOS>\"]] for _ in range(batch_size)], device=device)\n",
        "    translated_sentences = [[] for _ in range(batch_size)]\n",
        "\n",
        "    with torch.set_grad_enabled(False):\n",
        "        for _ in range(max_sequence_length):\n",
        "            predicted_output = model(source_tensor, target_tokens)\n",
        "            next_tokens = predicted_output.argmax(2)[:, -1]\n",
        "            target_tokens = torch.cat([target_tokens, next_tokens.unsqueeze(1)], dim=1)\n",
        "            for i, token in enumerate(next_tokens):\n",
        "                if token.item() != target_vocab[\"<EOS>\"]:\n",
        "                    translated_sentences[i].append(token.item())\n",
        "    translated_sentences = [\" \".join([list(target_vocab.keys())[tok] for tok in sentence]) for sentence in translated_sentences]\n",
        "    return translated_sentences"
      ],
      "metadata": {
        "id": "q36J5Ifbcwth"
      },
      "execution_count": null,
      "outputs": []
    },
    {
      "cell_type": "markdown",
      "source": [
        "This function takes test sentences, translates them in a batch manner, and saves the results to a CSV file. First, it initializes dataloader to process the sentences in batches. Then for every batch it calls batch_translate function to translate sentences. It collects these translations and writes them to columns in a CSV file for their IDs and translations."
      ],
      "metadata": {
        "id": "YalZE-cDeWJq"
      }
    },
    {
      "cell_type": "code",
      "source": [
        "def save_test_translations_to_csv_batch( test_ids, test_sentences, model, source_vocab, target_vocab, max_sequence_length,  output_csv_path, batch_size=32):\n",
        "    dataset = TestDataset(test_ids, test_sentences)\n",
        "    dataloader = DataLoader(dataset, batch_size=batch_size, shuffle=False, collate_fn=lambda x: x)\n",
        "    translations = []\n",
        "    model = model.to(device)\n",
        "\n",
        "    for batch in tqdm(dataloader, total=len(dataloader), desc=\"Translating Sentences in Batches\"):\n",
        "        batch_ids, batch_sentences = zip(*batch)\n",
        "        translated_sentences = batch_translate(sentences=batch_sentences,\n",
        "            model=model,source_vocab=source_vocab,target_vocab=target_vocab,max_sequence_length=max_sequence_length)\n",
        "        translations.extend(zip(batch_ids, translated_sentences))\n",
        "\n",
        "    with open(output_csv_path, mode='w', encoding='utf-8', newline='') as file:\n",
        "        writer = csv.writer(file)\n",
        "        writer.writerow([\"ID\", \"Translation\"])\n",
        "        writer.writerows(translations)\n",
        "    print(f\"Translations saved to {output_csv_path}\")"
      ],
      "metadata": {
        "id": "wOMEsAQZczBf"
      },
      "execution_count": null,
      "outputs": []
    },
    {
      "cell_type": "markdown",
      "source": [
        "Loads Test Json file and fetches all the test sentences and calls save_test_translations_to_csv_batch."
      ],
      "metadata": {
        "id": "1TUOODQDelUf"
      }
    },
    {
      "cell_type": "code",
      "execution_count": null,
      "metadata": {
        "colab": {
          "base_uri": "https://localhost:8080/"
        },
        "id": "r3tuqJW513mX",
        "outputId": "799bc1b0-2f4e-459e-d19d-c30912ba5d94"
      },
      "outputs": [
        {
          "output_type": "stream",
          "name": "stdout",
          "text": [
            "Language Pair: English-Hindi\n",
            "Data Type: Test\n",
            "Total test sentences: 23085\n"
          ]
        },
        {
          "output_type": "stream",
          "name": "stderr",
          "text": [
            "Translating Sentences in Batches: 100%|██████████| 361/361 [27:46<00:00,  4.62s/it]"
          ]
        },
        {
          "output_type": "stream",
          "name": "stdout",
          "text": [
            "Translations saved to answersH.csv\n"
          ]
        },
        {
          "output_type": "stream",
          "name": "stderr",
          "text": [
            "\n"
          ]
        }
      ],
      "source": [
        "TEST_PATH = 'test_data1_final.json'\n",
        "\n",
        "source_sentences_test = []\n",
        "id_test = []\n",
        "\n",
        "with open(TEST_PATH, 'r', encoding='utf-8') as file:\n",
        "    data = json.load(file)\n",
        "\n",
        "for language_pair, language_data in data.items():\n",
        "    if(language_pair == \"English-Hindi\"):\n",
        "      print(f\"Language Pair: {language_pair}\")\n",
        "      for data_type, data_entries in language_data.items():\n",
        "          print(f\"Data Type: {data_type}\")\n",
        "          for entry_id, entry_data in data_entries.items():\n",
        "              source = entry_data[\"source\"]\n",
        "              if (data_type == \"Test\"):\n",
        "                source_sentences_test.append(source)\n",
        "                id_test.append(entry_id)\n",
        "print(f\"Total test sentences: {len(source_sentences_test)}\")\n",
        "\n",
        "\n",
        "save_test_translations_to_csv_batch(\n",
        "    test_ids=id_test,\n",
        "    test_sentences=source_sentences_test,\n",
        "    model=model,\n",
        "    source_vocab=en_word2index,\n",
        "    target_vocab=de_word2index,\n",
        "    max_sequence_length=MAX_SEQ_LEN,\n",
        "    output_csv_path=\"answersH.csv\",\n",
        "    batch_size=64\n",
        ")\n"
      ]
    },
    {
      "cell_type": "markdown",
      "metadata": {
        "id": "TeyjBDC7JF6X"
      },
      "source": [
        "### **Merging Bengali-Hindi Results:**"
      ]
    },
    {
      "cell_type": "code",
      "execution_count": null,
      "metadata": {
        "id": "Nl137oqzJDmI"
      },
      "outputs": [],
      "source": [
        "import pandas as pd\n",
        "df1 = pd.read_csv(\"/content/answersB.csv\")\n",
        "df2= pd.read_csv(\"/content/answersH.csv\")\n",
        "df3 = pd.concat([df1, df2])\n",
        "\n",
        "df3.to_csv('answersBH.csv', index = False)\n",
        "filtered_data = pd.read_csv(\"/content/answersBH.csv\")\n",
        "answer = \"/content/answer.csv\"\n",
        "with open(answer, \"w\") as f:\n",
        "  f.writelines(\"ID\\tTranslation\\n\")\n",
        "  for i in range(filtered_data.shape[0]):\n",
        "    f.writelines(f'{filtered_data[\"ID\"][i]}\\t\"{filtered_data[\"Translation\"][i]}\"\\n')"
      ]
    }
  ],
  "metadata": {
    "colab": {
      "collapsed_sections": [
        "OR06Lt4wqnU5",
        "FZpKYhK1qt46",
        "5MgmMOlRrB3g",
        "R9JtQ0VKrKZo",
        "aqpZ4NIYcw4p",
        "q8CciE4Pr5qF",
        "Hmd1FBk-sOCQ",
        "-5zCFGGn1VSh",
        "TeyjBDC7JF6X"
      ],
      "provenance": [],
      "gpuType": "T4"
    },
    "kernelspec": {
      "display_name": "Python 3",
      "name": "python3"
    },
    "language_info": {
      "codemirror_mode": {
        "name": "ipython",
        "version": 3
      },
      "file_extension": ".py",
      "mimetype": "text/x-python",
      "name": "python",
      "nbconvert_exporter": "python",
      "pygments_lexer": "ipython3",
      "version": "3.12.7"
    },
    "accelerator": "GPU"
  },
  "nbformat": 4,
  "nbformat_minor": 0
}